{
  "nbformat": 4,
  "nbformat_minor": 0,
  "metadata": {
    "colab": {
      "name": "OMML_projet_1.ipynb",
      "provenance": [],
      "collapsed_sections": [
        "mZgyi4cYh0dr",
        "MgPYfz1Zh9q2",
        "nBxl-IPVkXAU"
      ],
      "authorship_tag": "ABX9TyPbnwe0i1tUhi1CWmG0Iqkl",
      "include_colab_link": true
    },
    "kernelspec": {
      "name": "python3",
      "display_name": "Python 3"
    },
    "language_info": {
      "name": "python"
    }
  },
  "cells": [
    {
      "cell_type": "markdown",
      "metadata": {
        "id": "view-in-github",
        "colab_type": "text"
      },
      "source": [
        "<a href=\"https://colab.research.google.com/github/joonasrooben/OMML_JAB/blob/main/OMML_projet_1.ipynb\" target=\"_parent\"><img src=\"https://colab.research.google.com/assets/colab-badge.svg\" alt=\"Open In Colab\"/></a>"
      ]
    },
    {
      "cell_type": "markdown",
      "metadata": {
        "id": "9WlCND-afjAa"
      },
      "source": [
        "#OMML PROJECT"
      ]
    },
    {
      "cell_type": "markdown",
      "metadata": {
        "id": "bXPDBQVwhrGN"
      },
      "source": [
        "### Imports"
      ]
    },
    {
      "cell_type": "code",
      "metadata": {
        "id": "DsL2bv_BftMS"
      },
      "source": [
        "import pandas as pd\n",
        "from sklearn.model_selection import train_test_split\n",
        "import numpy as np\n",
        "import math\n",
        "import scipy as sp"
      ],
      "execution_count": 4,
      "outputs": []
    },
    {
      "cell_type": "markdown",
      "metadata": {
        "id": "mZgyi4cYh0dr"
      },
      "source": [
        "### Data analysis"
      ]
    },
    {
      "cell_type": "code",
      "metadata": {
        "id": "NiDyx0cOf6Us"
      },
      "source": [
        "data = pd.read_csv('DATA.csv')"
      ],
      "execution_count": 5,
      "outputs": []
    },
    {
      "cell_type": "code",
      "metadata": {
        "colab": {
          "base_uri": "https://localhost:8080/",
          "height": 204
        },
        "id": "-ee3rOPgf_jH",
        "outputId": "adbf7db3-34a8-4652-8f96-b371ca362136"
      },
      "source": [
        "data.head(5)"
      ],
      "execution_count": 6,
      "outputs": [
        {
          "output_type": "execute_result",
          "data": {
            "text/html": [
              "<div>\n",
              "<style scoped>\n",
              "    .dataframe tbody tr th:only-of-type {\n",
              "        vertical-align: middle;\n",
              "    }\n",
              "\n",
              "    .dataframe tbody tr th {\n",
              "        vertical-align: top;\n",
              "    }\n",
              "\n",
              "    .dataframe thead th {\n",
              "        text-align: right;\n",
              "    }\n",
              "</style>\n",
              "<table border=\"1\" class=\"dataframe\">\n",
              "  <thead>\n",
              "    <tr style=\"text-align: right;\">\n",
              "      <th></th>\n",
              "      <th>x1</th>\n",
              "      <th>x2</th>\n",
              "      <th>y</th>\n",
              "    </tr>\n",
              "  </thead>\n",
              "  <tbody>\n",
              "    <tr>\n",
              "      <th>0</th>\n",
              "      <td>1.725110</td>\n",
              "      <td>2.665940</td>\n",
              "      <td>0.101883</td>\n",
              "    </tr>\n",
              "    <tr>\n",
              "      <th>1</th>\n",
              "      <td>-1.137973</td>\n",
              "      <td>-1.059821</td>\n",
              "      <td>2.172760</td>\n",
              "    </tr>\n",
              "    <tr>\n",
              "      <th>2</th>\n",
              "      <td>1.652338</td>\n",
              "      <td>2.958089</td>\n",
              "      <td>0.118859</td>\n",
              "    </tr>\n",
              "    <tr>\n",
              "      <th>3</th>\n",
              "      <td>1.866858</td>\n",
              "      <td>-1.740966</td>\n",
              "      <td>-0.289316</td>\n",
              "    </tr>\n",
              "    <tr>\n",
              "      <th>4</th>\n",
              "      <td>-1.760604</td>\n",
              "      <td>1.350072</td>\n",
              "      <td>0.104652</td>\n",
              "    </tr>\n",
              "  </tbody>\n",
              "</table>\n",
              "</div>"
            ],
            "text/plain": [
              "         x1        x2         y\n",
              "0  1.725110  2.665940  0.101883\n",
              "1 -1.137973 -1.059821  2.172760\n",
              "2  1.652338  2.958089  0.118859\n",
              "3  1.866858 -1.740966 -0.289316\n",
              "4 -1.760604  1.350072  0.104652"
            ]
          },
          "metadata": {},
          "execution_count": 6
        }
      ]
    },
    {
      "cell_type": "code",
      "metadata": {
        "colab": {
          "base_uri": "https://localhost:8080/"
        },
        "id": "PZemtgvngMyQ",
        "outputId": "5a51b883-1a35-416b-a47e-2e27c150ade8"
      },
      "source": [
        "len(data)"
      ],
      "execution_count": 7,
      "outputs": [
        {
          "output_type": "execute_result",
          "data": {
            "text/plain": [
              "250"
            ]
          },
          "metadata": {},
          "execution_count": 7
        }
      ]
    },
    {
      "cell_type": "markdown",
      "metadata": {
        "id": "mUAiRafsh7xt"
      },
      "source": [
        ""
      ]
    },
    {
      "cell_type": "markdown",
      "metadata": {
        "id": "MgPYfz1Zh9q2"
      },
      "source": [
        "### Split the dataset\n",
        "\n",
        "We put 0.255 for the test_size instead of 0.25 to be sure to have 186 observations in the training_data"
      ]
    },
    {
      "cell_type": "code",
      "metadata": {
        "id": "BtVJ6CeQgtk5"
      },
      "source": [
        ""
      ],
      "execution_count": 7,
      "outputs": []
    },
    {
      "cell_type": "code",
      "metadata": {
        "id": "8e4AZtca2dUi"
      },
      "source": [
        "X_train, X_test, y_train, y_test = train_test_split(data[['x1','x2']], data[['y']], test_size=0.255, random_state=1990243)"
      ],
      "execution_count": 8,
      "outputs": []
    },
    {
      "cell_type": "code",
      "metadata": {
        "colab": {
          "base_uri": "https://localhost:8080/"
        },
        "id": "JIdYkFCqiuU6",
        "outputId": "ca82f905-7767-4368-d81e-79f098dbd58c"
      },
      "source": [
        "n = len(X_train)\n",
        "n"
      ],
      "execution_count": 9,
      "outputs": [
        {
          "output_type": "execute_result",
          "data": {
            "text/plain": [
              "186"
            ]
          },
          "metadata": {},
          "execution_count": 9
        }
      ]
    },
    {
      "cell_type": "code",
      "metadata": {
        "colab": {
          "base_uri": "https://localhost:8080/",
          "height": 419
        },
        "id": "AY_1u15BjlCU",
        "outputId": "c954272a-4ccc-4034-da02-c46801360647"
      },
      "source": [
        "X_train"
      ],
      "execution_count": 10,
      "outputs": [
        {
          "output_type": "execute_result",
          "data": {
            "text/html": [
              "<div>\n",
              "<style scoped>\n",
              "    .dataframe tbody tr th:only-of-type {\n",
              "        vertical-align: middle;\n",
              "    }\n",
              "\n",
              "    .dataframe tbody tr th {\n",
              "        vertical-align: top;\n",
              "    }\n",
              "\n",
              "    .dataframe thead th {\n",
              "        text-align: right;\n",
              "    }\n",
              "</style>\n",
              "<table border=\"1\" class=\"dataframe\">\n",
              "  <thead>\n",
              "    <tr style=\"text-align: right;\">\n",
              "      <th></th>\n",
              "      <th>x1</th>\n",
              "      <th>x2</th>\n",
              "    </tr>\n",
              "  </thead>\n",
              "  <tbody>\n",
              "    <tr>\n",
              "      <th>236</th>\n",
              "      <td>0.890055</td>\n",
              "      <td>-2.955518</td>\n",
              "    </tr>\n",
              "    <tr>\n",
              "      <th>134</th>\n",
              "      <td>0.355821</td>\n",
              "      <td>-2.385734</td>\n",
              "    </tr>\n",
              "    <tr>\n",
              "      <th>129</th>\n",
              "      <td>1.795969</td>\n",
              "      <td>0.914778</td>\n",
              "    </tr>\n",
              "    <tr>\n",
              "      <th>209</th>\n",
              "      <td>0.070684</td>\n",
              "      <td>-2.177204</td>\n",
              "    </tr>\n",
              "    <tr>\n",
              "      <th>52</th>\n",
              "      <td>1.674262</td>\n",
              "      <td>0.182846</td>\n",
              "    </tr>\n",
              "    <tr>\n",
              "      <th>...</th>\n",
              "      <td>...</td>\n",
              "      <td>...</td>\n",
              "    </tr>\n",
              "    <tr>\n",
              "      <th>244</th>\n",
              "      <td>1.557484</td>\n",
              "      <td>-0.167087</td>\n",
              "    </tr>\n",
              "    <tr>\n",
              "      <th>158</th>\n",
              "      <td>-1.730929</td>\n",
              "      <td>-0.657224</td>\n",
              "    </tr>\n",
              "    <tr>\n",
              "      <th>33</th>\n",
              "      <td>-1.367034</td>\n",
              "      <td>2.838806</td>\n",
              "    </tr>\n",
              "    <tr>\n",
              "      <th>35</th>\n",
              "      <td>-1.733677</td>\n",
              "      <td>-1.672311</td>\n",
              "    </tr>\n",
              "    <tr>\n",
              "      <th>19</th>\n",
              "      <td>1.584105</td>\n",
              "      <td>-0.238108</td>\n",
              "    </tr>\n",
              "  </tbody>\n",
              "</table>\n",
              "<p>186 rows × 2 columns</p>\n",
              "</div>"
            ],
            "text/plain": [
              "           x1        x2\n",
              "236  0.890055 -2.955518\n",
              "134  0.355821 -2.385734\n",
              "129  1.795969  0.914778\n",
              "209  0.070684 -2.177204\n",
              "52   1.674262  0.182846\n",
              "..        ...       ...\n",
              "244  1.557484 -0.167087\n",
              "158 -1.730929 -0.657224\n",
              "33  -1.367034  2.838806\n",
              "35  -1.733677 -1.672311\n",
              "19   1.584105 -0.238108\n",
              "\n",
              "[186 rows x 2 columns]"
            ]
          },
          "metadata": {},
          "execution_count": 10
        }
      ]
    },
    {
      "cell_type": "markdown",
      "metadata": {
        "id": "wm2cScREkAGE"
      },
      "source": [
        ""
      ]
    },
    {
      "cell_type": "markdown",
      "metadata": {
        "id": "lrkdpvQ9jrMJ"
      },
      "source": [
        "### Question 1\n"
      ]
    },
    {
      "cell_type": "markdown",
      "metadata": {
        "id": "nBxl-IPVkXAU"
      },
      "source": [
        "#### Question 1.1\n"
      ]
    },
    {
      "cell_type": "markdown",
      "metadata": {
        "id": "u5xebk1XsZgQ"
      },
      "source": [
        "**Activation function**\n",
        "\n",
        "We define the acivation function."
      ]
    },
    {
      "cell_type": "code",
      "metadata": {
        "id": "VLLqSq9ukczJ"
      },
      "source": [
        "def activationFunction(t, sigma = 1):\n",
        "  return (np.exp(2*sigma*t)-1)/(np.exp(2*sigma*t)+1)"
      ],
      "execution_count": 127,
      "outputs": []
    },
    {
      "cell_type": "markdown",
      "metadata": {
        "id": "ctZ_0UpapcD9"
      },
      "source": [
        "**Weight Initialization for Tanh**\n",
        "\n",
        "The current standard approach for initialization of the weights of neural network layers and nodes that use the Sigmoid or TanH activation function is called “glorot” or “xavier” initialization\n",
        "\n",
        "The xavier initialization method is calculated as a random number with a uniform probability distribution (U) between the range -(1/sqrt(n)) and 1/sqrt(n), where n is the number of inputs to the node.\n",
        "\n",
        "weight = U [-(1/sqrt(n)), 1/sqrt(n)]"
      ]
    },
    {
      "cell_type": "markdown",
      "metadata": {
        "id": "iETR046E5yD4"
      },
      "source": [
        "Let's define all the hyperparameters here\n",
        "Let's put 3 neurons in our hidden layer"
      ]
    },
    {
      "cell_type": "code",
      "metadata": {
        "id": "HRfyz74e55Is"
      },
      "source": [
        "N = 3\n",
        "P = 1\n",
        "sigma = 1"
      ],
      "execution_count": 77,
      "outputs": []
    },
    {
      "cell_type": "code",
      "metadata": {
        "colab": {
          "base_uri": "https://localhost:8080/"
        },
        "id": "Nt_Jpy8jkenl",
        "outputId": "19487295-600b-4038-c993-3f84ed6d50a1"
      },
      "source": [
        "inputs = X_train\n",
        "inputs = inputs.to_numpy()\n",
        "inputs.shape"
      ],
      "execution_count": 55,
      "outputs": [
        {
          "output_type": "execute_result",
          "data": {
            "text/plain": [
              "(186, 2)"
            ]
          },
          "metadata": {},
          "execution_count": 55
        }
      ]
    },
    {
      "cell_type": "code",
      "metadata": {
        "id": "zdXnMqshomgJ"
      },
      "source": [
        "def createWeightsForOneNeuron():\n",
        "  initial_weights_one_neuron = []\n",
        "  for i in range(0,N):\n",
        "    initial_weights_one_neuron.append(np.random.uniform(low = -(1/math.sqrt(N)), high = 1/math.sqrt(N)))\n",
        "  return initial_weights_one_neuron\n",
        "\n",
        "def create_initial_weights():\n",
        "  initial_weights = []\n",
        "  for i in range(0,2):\n",
        "    initial_weights.append(createWeightsForOneNeuron())\n",
        "  return initial_weights\n",
        "\n",
        "weightsW = create_initial_weights()\n",
        "\n"
      ],
      "execution_count": 27,
      "outputs": []
    },
    {
      "cell_type": "code",
      "metadata": {
        "id": "Ux80C64b6u0F",
        "colab": {
          "base_uri": "https://localhost:8080/"
        },
        "outputId": "e9f7cdc2-164e-44cb-884d-9a0cc56578ed"
      },
      "source": [
        "weightsW = weightsW.to_numpy()\n",
        "weightsW.shape"
      ],
      "execution_count": 56,
      "outputs": [
        {
          "output_type": "execute_result",
          "data": {
            "text/plain": [
              "(2, 3)"
            ]
          },
          "metadata": {},
          "execution_count": 56
        }
      ]
    },
    {
      "cell_type": "code",
      "metadata": {
        "id": "zWIPr3h-lUTG"
      },
      "source": [
        "mult = np.matmul(inputs, weightsW)"
      ],
      "execution_count": 57,
      "outputs": []
    },
    {
      "cell_type": "markdown",
      "metadata": {
        "id": "jLWwVePIBD4t"
      },
      "source": [
        "Create vector of bias\n"
      ]
    },
    {
      "cell_type": "code",
      "metadata": {
        "id": "0piXaQl1BHaQ"
      },
      "source": [
        "bias = np.ones((N,1))"
      ],
      "execution_count": 59,
      "outputs": []
    },
    {
      "cell_type": "markdown",
      "metadata": {
        "id": "T3D0ohloB7zM"
      },
      "source": [
        "Creation of the linear function\n",
        "\n",
        "∑wjixi+bj\n"
      ]
    },
    {
      "cell_type": "code",
      "metadata": {
        "colab": {
          "base_uri": "https://localhost:8080/"
        },
        "id": "2kgWMwFXCgE7",
        "outputId": "8359b61d-5cb1-4917-80a3-f68bf7782950"
      },
      "source": [
        "linearResult = mult + bias.T\n",
        "linearResult.shape"
      ],
      "execution_count": 143,
      "outputs": [
        {
          "output_type": "execute_result",
          "data": {
            "text/plain": [
              "(186, 3)"
            ]
          },
          "metadata": {},
          "execution_count": 143
        }
      ]
    },
    {
      "cell_type": "markdown",
      "metadata": {
        "id": "52Wfe3buE2gX"
      },
      "source": [
        "Now the step is the get this number into the activation function"
      ]
    },
    {
      "cell_type": "code",
      "metadata": {
        "colab": {
          "base_uri": "https://localhost:8080/"
        },
        "id": "1vTeihx-pgnI",
        "outputId": "91fb4a34-e628-4670-ba44-eed26b4910a7"
      },
      "source": [
        "acti = activationFunction(linearResult)\n",
        "acti.shape"
      ],
      "execution_count": 126,
      "outputs": [
        {
          "output_type": "execute_result",
          "data": {
            "text/plain": [
              "(186, 3)"
            ]
          },
          "metadata": {},
          "execution_count": 126
        }
      ]
    },
    {
      "cell_type": "markdown",
      "metadata": {
        "id": "-HLf4s70DLX6"
      },
      "source": [
        "We generate weigths for hidden layers\n"
      ]
    },
    {
      "cell_type": "code",
      "metadata": {
        "id": "sZ0-6E8NDR55"
      },
      "source": [
        "def createWeightsForHiddenLayer():\n",
        "  weightHiddenLayer = []\n",
        "  for i in range(0,N):\n",
        "    weightHiddenLayer.append(np.random.uniform(low = -(1/math.sqrt(N)), high = 1/math.sqrt(N)))\n",
        "  return weightHiddenLayer"
      ],
      "execution_count": 130,
      "outputs": []
    },
    {
      "cell_type": "code",
      "metadata": {
        "colab": {
          "base_uri": "https://localhost:8080/"
        },
        "id": "2Odrz6YIFIb-",
        "outputId": "2aadc0ec-dbdf-4d2a-e85f-783ebdbf2b5f"
      },
      "source": [
        "v = createWeightsForHiddenLayer()\n",
        "v = np.array(v)"
      ],
      "execution_count": 131,
      "outputs": [
        {
          "output_type": "execute_result",
          "data": {
            "text/plain": [
              "(3,)"
            ]
          },
          "metadata": {},
          "execution_count": 131
        }
      ]
    },
    {
      "cell_type": "code",
      "metadata": {
        "colab": {
          "base_uri": "https://localhost:8080/"
        },
        "id": "Hnw9ha37qIWD",
        "outputId": "57dc8567-9487-4023-c7ea-cf5733a7ab41"
      },
      "source": [
        "f_x = np.matmul(v,acti.T)\n",
        "f_x.shape\n"
      ],
      "execution_count": 163,
      "outputs": [
        {
          "output_type": "execute_result",
          "data": {
            "text/plain": [
              "(186,)"
            ]
          },
          "metadata": {},
          "execution_count": 163
        }
      ]
    },
    {
      "cell_type": "markdown",
      "metadata": {
        "id": "R3hgqRANFqNX"
      },
      "source": [
        "Now we have the MLP. We'll computed the regularized training error function E(v,w,b)"
      ]
    },
    {
      "cell_type": "code",
      "metadata": {
        "colab": {
          "base_uri": "https://localhost:8080/"
        },
        "id": "7P5CTQXhsgR-",
        "outputId": "d40def19-40ae-41d3-d7d9-5f946c9f094a"
      },
      "source": [
        "y = y_train\n",
        "y = y.to_numpy()\n",
        "y = y.reshape((-1))\n",
        "y.shape"
      ],
      "execution_count": 167,
      "outputs": [
        {
          "output_type": "execute_result",
          "data": {
            "text/plain": [
              "(186,)"
            ]
          },
          "metadata": {},
          "execution_count": 167
        }
      ]
    },
    {
      "cell_type": "code",
      "metadata": {
        "id": "TZoWmT7ysPTz"
      },
      "source": [
        "firstTermE = (1/2*P)* sum(f_x - y )"
      ],
      "execution_count": 169,
      "outputs": []
    },
    {
      "cell_type": "markdown",
      "metadata": {
        "id": "atHuItHCKYou"
      },
      "source": [
        "First create the regularization term\n",
        "\n"
      ]
    },
    {
      "cell_type": "code",
      "metadata": {
        "id": "7_37K_5pGEHF"
      },
      "source": [
        "omega = [v, weightsW, bias]"
      ],
      "execution_count": 87,
      "outputs": []
    },
    {
      "cell_type": "code",
      "metadata": {
        "id": "DG-KiO5CKgEy"
      },
      "source": [
        "\n",
        "def computeRegularizationTerm(omega):\n",
        "    normV = np.linalg.norm(omega[0]**2)\n",
        "    normW = np.linalg.norm(omega[1]**2)\n",
        "    normB = np.linalg.norm(omega[2]**2)\n",
        "    return normV + normW + normB\n",
        "\n",
        "omega_norm = computeRegularizationTerm(omega)\n",
        "\n",
        "regularizationTerm = (P/2)*(omega_norm)"
      ],
      "execution_count": 170,
      "outputs": []
    },
    {
      "cell_type": "code",
      "metadata": {
        "id": "d1DfX3JKzp-c"
      },
      "source": [
        "E = firstTermE + regularizationTerm"
      ],
      "execution_count": 171,
      "outputs": []
    }
  ]
}