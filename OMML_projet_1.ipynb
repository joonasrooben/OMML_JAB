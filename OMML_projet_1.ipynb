{
  "nbformat": 4,
  "nbformat_minor": 0,
  "metadata": {
    "colab": {
      "name": "OMML_projet_1.ipynb",
      "provenance": [],
      "collapsed_sections": [
        "mZgyi4cYh0dr",
        "MgPYfz1Zh9q2"
      ],
      "authorship_tag": "ABX9TyPf6IrISIsY23r07v+8TEVo",
      "include_colab_link": true
    },
    "kernelspec": {
      "name": "python3",
      "display_name": "Python 3"
    },
    "language_info": {
      "name": "python"
    }
  },
  "cells": [
    {
      "cell_type": "markdown",
      "metadata": {
        "id": "view-in-github",
        "colab_type": "text"
      },
      "source": [
        "<a href=\"https://colab.research.google.com/github/joonasrooben/OMML_JAB/blob/main/OMML_projet_1.ipynb\" target=\"_parent\"><img src=\"https://colab.research.google.com/assets/colab-badge.svg\" alt=\"Open In Colab\"/></a>"
      ]
    },
    {
      "cell_type": "markdown",
      "metadata": {
        "id": "9WlCND-afjAa"
      },
      "source": [
        "#OMML PROJECT"
      ]
    },
    {
      "cell_type": "markdown",
      "metadata": {
        "id": "bXPDBQVwhrGN"
      },
      "source": [
        "### Imports"
      ]
    },
    {
      "cell_type": "code",
      "metadata": {
        "id": "DsL2bv_BftMS"
      },
      "source": [
        "import pandas as pd\n",
        "from sklearn.model_selection import train_test_split\n",
        "import numpy as np\n",
        "import math\n",
        "import scipy as sp\n",
        "from scipy.optimize import minimize"
      ],
      "execution_count": 339,
      "outputs": []
    },
    {
      "cell_type": "markdown",
      "metadata": {
        "id": "mZgyi4cYh0dr"
      },
      "source": [
        "### Data analysis"
      ]
    },
    {
      "cell_type": "code",
      "metadata": {
        "id": "NiDyx0cOf6Us"
      },
      "source": [
        "data = pd.read_csv('DATA.csv')"
      ],
      "execution_count": 196,
      "outputs": []
    },
    {
      "cell_type": "code",
      "metadata": {
        "colab": {
          "base_uri": "https://localhost:8080/",
          "height": 0
        },
        "id": "-ee3rOPgf_jH",
        "outputId": "819725fb-6c67-412a-b277-74ded6338ca4"
      },
      "source": [
        "data.head(5)"
      ],
      "execution_count": 197,
      "outputs": [
        {
          "output_type": "execute_result",
          "data": {
            "text/html": [
              "<div>\n",
              "<style scoped>\n",
              "    .dataframe tbody tr th:only-of-type {\n",
              "        vertical-align: middle;\n",
              "    }\n",
              "\n",
              "    .dataframe tbody tr th {\n",
              "        vertical-align: top;\n",
              "    }\n",
              "\n",
              "    .dataframe thead th {\n",
              "        text-align: right;\n",
              "    }\n",
              "</style>\n",
              "<table border=\"1\" class=\"dataframe\">\n",
              "  <thead>\n",
              "    <tr style=\"text-align: right;\">\n",
              "      <th></th>\n",
              "      <th>x1</th>\n",
              "      <th>x2</th>\n",
              "      <th>y</th>\n",
              "    </tr>\n",
              "  </thead>\n",
              "  <tbody>\n",
              "    <tr>\n",
              "      <th>0</th>\n",
              "      <td>1.725110</td>\n",
              "      <td>2.665940</td>\n",
              "      <td>0.101883</td>\n",
              "    </tr>\n",
              "    <tr>\n",
              "      <th>1</th>\n",
              "      <td>-1.137973</td>\n",
              "      <td>-1.059821</td>\n",
              "      <td>2.172760</td>\n",
              "    </tr>\n",
              "    <tr>\n",
              "      <th>2</th>\n",
              "      <td>1.652338</td>\n",
              "      <td>2.958089</td>\n",
              "      <td>0.118859</td>\n",
              "    </tr>\n",
              "    <tr>\n",
              "      <th>3</th>\n",
              "      <td>1.866858</td>\n",
              "      <td>-1.740966</td>\n",
              "      <td>-0.289316</td>\n",
              "    </tr>\n",
              "    <tr>\n",
              "      <th>4</th>\n",
              "      <td>-1.760604</td>\n",
              "      <td>1.350072</td>\n",
              "      <td>0.104652</td>\n",
              "    </tr>\n",
              "  </tbody>\n",
              "</table>\n",
              "</div>"
            ],
            "text/plain": [
              "         x1        x2         y\n",
              "0  1.725110  2.665940  0.101883\n",
              "1 -1.137973 -1.059821  2.172760\n",
              "2  1.652338  2.958089  0.118859\n",
              "3  1.866858 -1.740966 -0.289316\n",
              "4 -1.760604  1.350072  0.104652"
            ]
          },
          "metadata": {},
          "execution_count": 197
        }
      ]
    },
    {
      "cell_type": "code",
      "metadata": {
        "colab": {
          "base_uri": "https://localhost:8080/"
        },
        "id": "PZemtgvngMyQ",
        "outputId": "8fd6a300-fe01-4f0d-db3b-0ae134d5c405"
      },
      "source": [
        "len(data)"
      ],
      "execution_count": 198,
      "outputs": [
        {
          "output_type": "execute_result",
          "data": {
            "text/plain": [
              "250"
            ]
          },
          "metadata": {},
          "execution_count": 198
        }
      ]
    },
    {
      "cell_type": "markdown",
      "metadata": {
        "id": "mUAiRafsh7xt"
      },
      "source": [
        ""
      ]
    },
    {
      "cell_type": "markdown",
      "metadata": {
        "id": "MgPYfz1Zh9q2"
      },
      "source": [
        "### Split the dataset\n",
        "\n",
        "We put 0.255 for the test_size instead of 0.25 to be sure to have 186 observations in the training_data"
      ]
    },
    {
      "cell_type": "code",
      "metadata": {
        "id": "BtVJ6CeQgtk5"
      },
      "source": [
        ""
      ],
      "execution_count": 198,
      "outputs": []
    },
    {
      "cell_type": "code",
      "metadata": {
        "id": "8e4AZtca2dUi"
      },
      "source": [
        "X_train, X_test, y_train, y_test = train_test_split(data[['x1','x2']], data[['y']], test_size=0.255, random_state=1990243)"
      ],
      "execution_count": 199,
      "outputs": []
    },
    {
      "cell_type": "code",
      "metadata": {
        "colab": {
          "base_uri": "https://localhost:8080/"
        },
        "id": "JIdYkFCqiuU6",
        "outputId": "04656f4d-bacb-4aaf-8c19-75ef9ff7e28a"
      },
      "source": [
        "n = len(X_train)\n",
        "n"
      ],
      "execution_count": 200,
      "outputs": [
        {
          "output_type": "execute_result",
          "data": {
            "text/plain": [
              "186"
            ]
          },
          "metadata": {},
          "execution_count": 200
        }
      ]
    },
    {
      "cell_type": "code",
      "metadata": {
        "colab": {
          "base_uri": "https://localhost:8080/",
          "height": 0
        },
        "id": "AY_1u15BjlCU",
        "outputId": "15e469c1-a87b-4c97-a4e9-8d79b1806ba7"
      },
      "source": [
        "X_train"
      ],
      "execution_count": 201,
      "outputs": [
        {
          "output_type": "execute_result",
          "data": {
            "text/html": [
              "<div>\n",
              "<style scoped>\n",
              "    .dataframe tbody tr th:only-of-type {\n",
              "        vertical-align: middle;\n",
              "    }\n",
              "\n",
              "    .dataframe tbody tr th {\n",
              "        vertical-align: top;\n",
              "    }\n",
              "\n",
              "    .dataframe thead th {\n",
              "        text-align: right;\n",
              "    }\n",
              "</style>\n",
              "<table border=\"1\" class=\"dataframe\">\n",
              "  <thead>\n",
              "    <tr style=\"text-align: right;\">\n",
              "      <th></th>\n",
              "      <th>x1</th>\n",
              "      <th>x2</th>\n",
              "    </tr>\n",
              "  </thead>\n",
              "  <tbody>\n",
              "    <tr>\n",
              "      <th>236</th>\n",
              "      <td>0.890055</td>\n",
              "      <td>-2.955518</td>\n",
              "    </tr>\n",
              "    <tr>\n",
              "      <th>134</th>\n",
              "      <td>0.355821</td>\n",
              "      <td>-2.385734</td>\n",
              "    </tr>\n",
              "    <tr>\n",
              "      <th>129</th>\n",
              "      <td>1.795969</td>\n",
              "      <td>0.914778</td>\n",
              "    </tr>\n",
              "    <tr>\n",
              "      <th>209</th>\n",
              "      <td>0.070684</td>\n",
              "      <td>-2.177204</td>\n",
              "    </tr>\n",
              "    <tr>\n",
              "      <th>52</th>\n",
              "      <td>1.674262</td>\n",
              "      <td>0.182846</td>\n",
              "    </tr>\n",
              "    <tr>\n",
              "      <th>...</th>\n",
              "      <td>...</td>\n",
              "      <td>...</td>\n",
              "    </tr>\n",
              "    <tr>\n",
              "      <th>244</th>\n",
              "      <td>1.557484</td>\n",
              "      <td>-0.167087</td>\n",
              "    </tr>\n",
              "    <tr>\n",
              "      <th>158</th>\n",
              "      <td>-1.730929</td>\n",
              "      <td>-0.657224</td>\n",
              "    </tr>\n",
              "    <tr>\n",
              "      <th>33</th>\n",
              "      <td>-1.367034</td>\n",
              "      <td>2.838806</td>\n",
              "    </tr>\n",
              "    <tr>\n",
              "      <th>35</th>\n",
              "      <td>-1.733677</td>\n",
              "      <td>-1.672311</td>\n",
              "    </tr>\n",
              "    <tr>\n",
              "      <th>19</th>\n",
              "      <td>1.584105</td>\n",
              "      <td>-0.238108</td>\n",
              "    </tr>\n",
              "  </tbody>\n",
              "</table>\n",
              "<p>186 rows × 2 columns</p>\n",
              "</div>"
            ],
            "text/plain": [
              "           x1        x2\n",
              "236  0.890055 -2.955518\n",
              "134  0.355821 -2.385734\n",
              "129  1.795969  0.914778\n",
              "209  0.070684 -2.177204\n",
              "52   1.674262  0.182846\n",
              "..        ...       ...\n",
              "244  1.557484 -0.167087\n",
              "158 -1.730929 -0.657224\n",
              "33  -1.367034  2.838806\n",
              "35  -1.733677 -1.672311\n",
              "19   1.584105 -0.238108\n",
              "\n",
              "[186 rows x 2 columns]"
            ]
          },
          "metadata": {},
          "execution_count": 201
        }
      ]
    },
    {
      "cell_type": "markdown",
      "metadata": {
        "id": "wm2cScREkAGE"
      },
      "source": [
        ""
      ]
    },
    {
      "cell_type": "markdown",
      "metadata": {
        "id": "lrkdpvQ9jrMJ"
      },
      "source": [
        "### Question 1\n"
      ]
    },
    {
      "cell_type": "markdown",
      "metadata": {
        "id": "nBxl-IPVkXAU"
      },
      "source": [
        "#### Question 1.1\n"
      ]
    },
    {
      "cell_type": "markdown",
      "metadata": {
        "id": "u5xebk1XsZgQ"
      },
      "source": [
        "**Activation function**\n",
        "\n",
        "We define the acivation function."
      ]
    },
    {
      "cell_type": "code",
      "metadata": {
        "id": "VLLqSq9ukczJ"
      },
      "source": [
        "def activationFunction(t, sigma = 1):\n",
        "  return (np.exp(2*sigma*t)-1)/(np.exp(2*sigma*t)+1)"
      ],
      "execution_count": 220,
      "outputs": []
    },
    {
      "cell_type": "markdown",
      "metadata": {
        "id": "ctZ_0UpapcD9"
      },
      "source": [
        "**Weight Initialization for Tanh**\n",
        "\n",
        "The current standard approach for initialization of the weights of neural network layers and nodes that use the Sigmoid or TanH activation function is called “glorot” or “xavier” initialization\n",
        "\n",
        "The xavier initialization method is calculated as a random number with a uniform probability distribution (U) between the range -(1/sqrt(n)) and 1/sqrt(n), where n is the number of inputs to the node.\n",
        "\n",
        "weight = U [-(1/sqrt(n)), 1/sqrt(n)]"
      ]
    },
    {
      "cell_type": "markdown",
      "metadata": {
        "id": "iETR046E5yD4"
      },
      "source": [
        "Let's define all the hyperparameters here\n",
        "Let's put 3 neurons in our hidden layer"
      ]
    },
    {
      "cell_type": "code",
      "metadata": {
        "id": "HRfyz74e55Is"
      },
      "source": [
        "N = 5\n",
        "rho = 1\n",
        "sigma = 1"
      ],
      "execution_count": 308,
      "outputs": []
    },
    {
      "cell_type": "code",
      "metadata": {
        "colab": {
          "base_uri": "https://localhost:8080/"
        },
        "id": "Nt_Jpy8jkenl",
        "outputId": "f3624565-438d-4b02-f67e-7a56d5f21131"
      },
      "source": [
        "inputs = X_train\n",
        "inputs = inputs.to_numpy()\n",
        "inputs.shape"
      ],
      "execution_count": 309,
      "outputs": [
        {
          "output_type": "execute_result",
          "data": {
            "text/plain": [
              "(186, 2)"
            ]
          },
          "metadata": {},
          "execution_count": 309
        }
      ]
    },
    {
      "cell_type": "code",
      "metadata": {
        "id": "zdXnMqshomgJ"
      },
      "source": [
        "def createWeightsForOneNeuron(N):\n",
        "  initial_weights_one_neuron = []\n",
        "  for i in range(0,N):\n",
        "    initial_weights_one_neuron.append(np.random.uniform(low = -(1/math.sqrt(N)), high = 1/math.sqrt(N)))\n",
        "  return initial_weights_one_neuron\n",
        "\n",
        "def create_initial_weights(N):\n",
        "  initial_weights = []\n",
        "  for i in range(0,2):\n",
        "    initial_weights.append(createWeightsForOneNeuron(N))\n",
        "  return initial_weights\n",
        "\n",
        "weightsW = np.asarray(create_initial_weights(N))\n"
      ],
      "execution_count": 310,
      "outputs": []
    },
    {
      "cell_type": "code",
      "metadata": {
        "id": "zWIPr3h-lUTG"
      },
      "source": [
        "mult = np.matmul(inputs, weightsW)"
      ],
      "execution_count": 311,
      "outputs": []
    },
    {
      "cell_type": "markdown",
      "metadata": {
        "id": "jLWwVePIBD4t"
      },
      "source": [
        "Create vector of bias\n"
      ]
    },
    {
      "cell_type": "code",
      "metadata": {
        "id": "0piXaQl1BHaQ"
      },
      "source": [
        "bias = np.ones((N,1))"
      ],
      "execution_count": 312,
      "outputs": []
    },
    {
      "cell_type": "markdown",
      "metadata": {
        "id": "T3D0ohloB7zM"
      },
      "source": [
        "Creation of the linear function\n",
        "\n",
        "∑wjixi+bj\n"
      ]
    },
    {
      "cell_type": "code",
      "metadata": {
        "colab": {
          "base_uri": "https://localhost:8080/"
        },
        "id": "2kgWMwFXCgE7",
        "outputId": "95a8cc36-c1e2-4bdc-8546-67a4c6f3f7e1"
      },
      "source": [
        "linearResult = mult + bias.T\n",
        "linearResult.shape"
      ],
      "execution_count": 313,
      "outputs": [
        {
          "output_type": "execute_result",
          "data": {
            "text/plain": [
              "(186, 5)"
            ]
          },
          "metadata": {},
          "execution_count": 313
        }
      ]
    },
    {
      "cell_type": "markdown",
      "metadata": {
        "id": "52Wfe3buE2gX"
      },
      "source": [
        "Now the step is the get this number into the activation function"
      ]
    },
    {
      "cell_type": "code",
      "metadata": {
        "colab": {
          "base_uri": "https://localhost:8080/"
        },
        "id": "1vTeihx-pgnI",
        "outputId": "e3e4a24a-1d4e-4dda-d4bb-434e4b7819a9"
      },
      "source": [
        "acti = activationFunction(linearResult)\n",
        "acti.shape"
      ],
      "execution_count": 314,
      "outputs": [
        {
          "output_type": "execute_result",
          "data": {
            "text/plain": [
              "(186, 5)"
            ]
          },
          "metadata": {},
          "execution_count": 314
        }
      ]
    },
    {
      "cell_type": "markdown",
      "metadata": {
        "id": "-HLf4s70DLX6"
      },
      "source": [
        "We generate weigths for hidden layers\n"
      ]
    },
    {
      "cell_type": "code",
      "metadata": {
        "id": "sZ0-6E8NDR55"
      },
      "source": [
        "def createWeightsForHiddenLayer(N):\n",
        "  weightHiddenLayer = []\n",
        "  for i in range(0,N):\n",
        "    weightHiddenLayer.append(np.random.uniform(low = -(1/math.sqrt(N)), high = 1/math.sqrt(N)))\n",
        "  return weightHiddenLayer"
      ],
      "execution_count": 315,
      "outputs": []
    },
    {
      "cell_type": "code",
      "metadata": {
        "id": "2Odrz6YIFIb-"
      },
      "source": [
        "v = createWeightsForHiddenLayer(N)\n",
        "v = np.array(v)"
      ],
      "execution_count": 316,
      "outputs": []
    },
    {
      "cell_type": "code",
      "metadata": {
        "colab": {
          "base_uri": "https://localhost:8080/"
        },
        "id": "Hnw9ha37qIWD",
        "outputId": "5015dddc-729e-4c48-e24d-e072ff9181e0"
      },
      "source": [
        "f_x = np.matmul(v,acti.T)\n",
        "f_x.shape\n"
      ],
      "execution_count": 317,
      "outputs": [
        {
          "output_type": "execute_result",
          "data": {
            "text/plain": [
              "(186,)"
            ]
          },
          "metadata": {},
          "execution_count": 317
        }
      ]
    },
    {
      "cell_type": "markdown",
      "metadata": {
        "id": "R3hgqRANFqNX"
      },
      "source": [
        "Now we have the MLP. We'll computed the regularized training error function E(v,w,b)"
      ]
    },
    {
      "cell_type": "code",
      "metadata": {
        "colab": {
          "base_uri": "https://localhost:8080/"
        },
        "id": "7P5CTQXhsgR-",
        "outputId": "57bb471b-2ce9-4d5a-8ade-4453382df078"
      },
      "source": [
        "y = y_train\n",
        "y = y.to_numpy()\n",
        "y = y.reshape((-1))\n",
        "y.shape"
      ],
      "execution_count": 318,
      "outputs": [
        {
          "output_type": "execute_result",
          "data": {
            "text/plain": [
              "(186,)"
            ]
          },
          "metadata": {},
          "execution_count": 318
        }
      ]
    },
    {
      "cell_type": "code",
      "metadata": {
        "id": "qSp5yDJxAUmY"
      },
      "source": [
        "P = len(X_train)"
      ],
      "execution_count": 319,
      "outputs": []
    },
    {
      "cell_type": "code",
      "metadata": {
        "id": "TZoWmT7ysPTz"
      },
      "source": [
        "firstTermE = (1/2*P)* sum((f_x - y)**2)"
      ],
      "execution_count": 320,
      "outputs": []
    },
    {
      "cell_type": "markdown",
      "metadata": {
        "id": "atHuItHCKYou"
      },
      "source": [
        "First create the regularization term\n",
        "\n"
      ]
    },
    {
      "cell_type": "code",
      "metadata": {
        "id": "7_37K_5pGEHF"
      },
      "source": [
        "omega = [v, weightsW, bias]"
      ],
      "execution_count": 321,
      "outputs": []
    },
    {
      "cell_type": "code",
      "metadata": {
        "id": "DG-KiO5CKgEy"
      },
      "source": [
        "\n",
        "def computeRegularizationTerm(omega):\n",
        "    normV = np.linalg.norm(omega[0]**2)\n",
        "    normW = np.linalg.norm(omega[1]**2)\n",
        "    normB = np.linalg.norm(omega[2]**2)\n",
        "    return normV + normW + normB\n",
        "\n",
        "omega_norm = computeRegularizationTerm(omega)\n",
        "\n",
        "regularizationTerm = (rho/2)*(omega_norm)"
      ],
      "execution_count": 322,
      "outputs": []
    },
    {
      "cell_type": "code",
      "metadata": {
        "colab": {
          "base_uri": "https://localhost:8080/"
        },
        "id": "d1DfX3JKzp-c",
        "outputId": "73fe9576-41f9-4386-afd4-c38529b179dc"
      },
      "source": [
        "E = firstTermE + regularizationTerm\n",
        "E"
      ],
      "execution_count": 323,
      "outputs": [
        {
          "output_type": "execute_result",
          "data": {
            "text/plain": [
              "27621.751689776534"
            ]
          },
          "metadata": {},
          "execution_count": 323
        }
      ]
    },
    {
      "cell_type": "markdown",
      "metadata": {
        "id": "sHAjb_C37H8I"
      },
      "source": [
        "To resume a big function we have "
      ]
    },
    {
      "cell_type": "code",
      "metadata": {
        "id": "vXeEYq9a7G9o"
      },
      "source": [
        "def expectationFunction(omega ,input, target, N, rho, sigma):\n",
        "\n",
        "  W = omega[0]\n",
        "  v = omega[1]\n",
        "  bias = omega[2]\n",
        "\n",
        "  x = input.to_numpy()\n",
        "\n",
        "  mult = np.matmul(inputs, W)\n",
        "\n",
        "  linearResult = mult + bias.T\n",
        "\n",
        "  acti = activationFunction(linearResult, sigma)\n",
        "\n",
        "  f_x = np.matmul(v,acti.T)\n",
        "\n",
        "  y = target.to_numpy()\n",
        "  y = y.reshape((-1)) \n",
        "\n",
        "  P = len(input)\n",
        "\n",
        "  firstTermE = (1/2*P)* sum((f_x - y)**2)\n",
        "\n",
        "  omega = [v, W, bias]\n",
        "\n",
        "  regularizationTerm = (rho/2)*(omega_norm)\n",
        "\n",
        "  E = firstTermE + regularizationTerm\n",
        "\n",
        "  return  E"
      ],
      "execution_count": 357,
      "outputs": []
    },
    {
      "cell_type": "code",
      "metadata": {
        "id": "9ChSjXf38kQk"
      },
      "source": [
        "N = 4\n",
        "rho = 1e-5\n",
        "sigma = 1\n",
        "W = np.asarray(create_initial_weights(N))\n",
        "v = createWeightsForHiddenLayer(N)\n",
        "bias = np.ones((N,1))\n",
        "omega = [W ,v ,bias]"
      ],
      "execution_count": 358,
      "outputs": []
    },
    {
      "cell_type": "code",
      "metadata": {
        "colab": {
          "base_uri": "https://localhost:8080/"
        },
        "id": "kX6oq-omDzg1",
        "outputId": "ee7a3ca5-08b6-46b7-b884-1bbd4ef1004b"
      },
      "source": [
        "expectationFunction(omega, X_train ,y_train ,N ,rho ,sigma)"
      ],
      "execution_count": 360,
      "outputs": [
        {
          "output_type": "execute_result",
          "data": {
            "text/plain": [
              "44254.861127044074"
            ]
          },
          "metadata": {},
          "execution_count": 360
        }
      ]
    },
    {
      "cell_type": "code",
      "metadata": {
        "id": "wlurjmxMEdwm"
      },
      "source": [
        ""
      ],
      "execution_count": 336,
      "outputs": []
    },
    {
      "cell_type": "code",
      "metadata": {
        "colab": {
          "base_uri": "https://localhost:8080/",
          "height": 480
        },
        "id": "ijo7xW6tD-l3",
        "outputId": "5168c2c1-5a6d-4647-c50e-9297cf2cf4bf"
      },
      "source": [
        "res = minimize(expectationFunction, omega, args=((X_train ,y_train ,N ,rho ,sigma)), method = 'nelder-mead')"
      ],
      "execution_count": 369,
      "outputs": [
        {
          "output_type": "stream",
          "name": "stderr",
          "text": [
            "/usr/local/lib/python3.7/dist-packages/numpy/core/_asarray.py:83: VisibleDeprecationWarning: Creating an ndarray from ragged nested sequences (which is a list-or-tuple of lists-or-tuples-or ndarrays with different lengths or shapes) is deprecated. If you meant to do this, you must specify 'dtype=object' when creating the ndarray\n",
            "  return array(a, dtype, copy=False, order=order)\n"
          ]
        },
        {
          "output_type": "error",
          "ename": "ValueError",
          "evalue": "ignored",
          "traceback": [
            "\u001b[0;31m---------------------------------------------------------------------------\u001b[0m",
            "\u001b[0;31mTypeError\u001b[0m                                 Traceback (most recent call last)",
            "\u001b[0;31mTypeError\u001b[0m: only size-1 arrays can be converted to Python scalars",
            "\nThe above exception was the direct cause of the following exception:\n",
            "\u001b[0;31mValueError\u001b[0m                                Traceback (most recent call last)",
            "\u001b[0;32m<ipython-input-369-b406642dae64>\u001b[0m in \u001b[0;36m<module>\u001b[0;34m()\u001b[0m\n\u001b[0;32m----> 1\u001b[0;31m \u001b[0mres\u001b[0m \u001b[0;34m=\u001b[0m \u001b[0mminimize\u001b[0m\u001b[0;34m(\u001b[0m\u001b[0mexpectationFunction\u001b[0m\u001b[0;34m,\u001b[0m \u001b[0momega\u001b[0m\u001b[0;34m,\u001b[0m \u001b[0margs\u001b[0m\u001b[0;34m=\u001b[0m\u001b[0;34m(\u001b[0m\u001b[0;34m(\u001b[0m\u001b[0mX_train\u001b[0m \u001b[0;34m,\u001b[0m\u001b[0my_train\u001b[0m \u001b[0;34m,\u001b[0m\u001b[0mN\u001b[0m \u001b[0;34m,\u001b[0m\u001b[0mrho\u001b[0m \u001b[0;34m,\u001b[0m\u001b[0msigma\u001b[0m\u001b[0;34m)\u001b[0m\u001b[0;34m)\u001b[0m\u001b[0;34m,\u001b[0m \u001b[0mmethod\u001b[0m \u001b[0;34m=\u001b[0m \u001b[0;34m'nelder-mead'\u001b[0m\u001b[0;34m)\u001b[0m\u001b[0;34m\u001b[0m\u001b[0;34m\u001b[0m\u001b[0m\n\u001b[0m",
            "\u001b[0;32m/usr/local/lib/python3.7/dist-packages/scipy/optimize/_minimize.py\u001b[0m in \u001b[0;36mminimize\u001b[0;34m(fun, x0, args, method, jac, hess, hessp, bounds, constraints, tol, callback, options)\u001b[0m\n\u001b[1;32m    596\u001b[0m \u001b[0;34m\u001b[0m\u001b[0m\n\u001b[1;32m    597\u001b[0m     \u001b[0;32mif\u001b[0m \u001b[0mmeth\u001b[0m \u001b[0;34m==\u001b[0m \u001b[0;34m'nelder-mead'\u001b[0m\u001b[0;34m:\u001b[0m\u001b[0;34m\u001b[0m\u001b[0;34m\u001b[0m\u001b[0m\n\u001b[0;32m--> 598\u001b[0;31m         \u001b[0;32mreturn\u001b[0m \u001b[0m_minimize_neldermead\u001b[0m\u001b[0;34m(\u001b[0m\u001b[0mfun\u001b[0m\u001b[0;34m,\u001b[0m \u001b[0mx0\u001b[0m\u001b[0;34m,\u001b[0m \u001b[0margs\u001b[0m\u001b[0;34m,\u001b[0m \u001b[0mcallback\u001b[0m\u001b[0;34m,\u001b[0m \u001b[0;34m**\u001b[0m\u001b[0moptions\u001b[0m\u001b[0;34m)\u001b[0m\u001b[0;34m\u001b[0m\u001b[0;34m\u001b[0m\u001b[0m\n\u001b[0m\u001b[1;32m    599\u001b[0m     \u001b[0;32melif\u001b[0m \u001b[0mmeth\u001b[0m \u001b[0;34m==\u001b[0m \u001b[0;34m'powell'\u001b[0m\u001b[0;34m:\u001b[0m\u001b[0;34m\u001b[0m\u001b[0;34m\u001b[0m\u001b[0m\n\u001b[1;32m    600\u001b[0m         \u001b[0;32mreturn\u001b[0m \u001b[0m_minimize_powell\u001b[0m\u001b[0;34m(\u001b[0m\u001b[0mfun\u001b[0m\u001b[0;34m,\u001b[0m \u001b[0mx0\u001b[0m\u001b[0;34m,\u001b[0m \u001b[0margs\u001b[0m\u001b[0;34m,\u001b[0m \u001b[0mcallback\u001b[0m\u001b[0;34m,\u001b[0m \u001b[0;34m**\u001b[0m\u001b[0moptions\u001b[0m\u001b[0;34m)\u001b[0m\u001b[0;34m\u001b[0m\u001b[0;34m\u001b[0m\u001b[0m\n",
            "\u001b[0;32m/usr/local/lib/python3.7/dist-packages/scipy/optimize/optimize.py\u001b[0m in \u001b[0;36m_minimize_neldermead\u001b[0;34m(func, x0, args, callback, maxiter, maxfev, disp, return_all, initial_simplex, xatol, fatol, adaptive, **unknown_options)\u001b[0m\n\u001b[1;32m    538\u001b[0m     \u001b[0mzdelt\u001b[0m \u001b[0;34m=\u001b[0m \u001b[0;36m0.00025\u001b[0m\u001b[0;34m\u001b[0m\u001b[0;34m\u001b[0m\u001b[0m\n\u001b[1;32m    539\u001b[0m \u001b[0;34m\u001b[0m\u001b[0m\n\u001b[0;32m--> 540\u001b[0;31m     \u001b[0mx0\u001b[0m \u001b[0;34m=\u001b[0m \u001b[0masfarray\u001b[0m\u001b[0;34m(\u001b[0m\u001b[0mx0\u001b[0m\u001b[0;34m)\u001b[0m\u001b[0;34m.\u001b[0m\u001b[0mflatten\u001b[0m\u001b[0;34m(\u001b[0m\u001b[0;34m)\u001b[0m\u001b[0;34m\u001b[0m\u001b[0;34m\u001b[0m\u001b[0m\n\u001b[0m\u001b[1;32m    541\u001b[0m \u001b[0;34m\u001b[0m\u001b[0m\n\u001b[1;32m    542\u001b[0m     \u001b[0;32mif\u001b[0m \u001b[0minitial_simplex\u001b[0m \u001b[0;32mis\u001b[0m \u001b[0;32mNone\u001b[0m\u001b[0;34m:\u001b[0m\u001b[0;34m\u001b[0m\u001b[0;34m\u001b[0m\u001b[0m\n",
            "\u001b[0;32m<__array_function__ internals>\u001b[0m in \u001b[0;36masfarray\u001b[0;34m(*args, **kwargs)\u001b[0m\n",
            "\u001b[0;32m/usr/local/lib/python3.7/dist-packages/numpy/lib/type_check.py\u001b[0m in \u001b[0;36masfarray\u001b[0;34m(a, dtype)\u001b[0m\n\u001b[1;32m    112\u001b[0m     \u001b[0;32mif\u001b[0m \u001b[0;32mnot\u001b[0m \u001b[0m_nx\u001b[0m\u001b[0;34m.\u001b[0m\u001b[0missubdtype\u001b[0m\u001b[0;34m(\u001b[0m\u001b[0mdtype\u001b[0m\u001b[0;34m,\u001b[0m \u001b[0m_nx\u001b[0m\u001b[0;34m.\u001b[0m\u001b[0minexact\u001b[0m\u001b[0;34m)\u001b[0m\u001b[0;34m:\u001b[0m\u001b[0;34m\u001b[0m\u001b[0;34m\u001b[0m\u001b[0m\n\u001b[1;32m    113\u001b[0m         \u001b[0mdtype\u001b[0m \u001b[0;34m=\u001b[0m \u001b[0m_nx\u001b[0m\u001b[0;34m.\u001b[0m\u001b[0mfloat_\u001b[0m\u001b[0;34m\u001b[0m\u001b[0;34m\u001b[0m\u001b[0m\n\u001b[0;32m--> 114\u001b[0;31m     \u001b[0;32mreturn\u001b[0m \u001b[0masarray\u001b[0m\u001b[0;34m(\u001b[0m\u001b[0ma\u001b[0m\u001b[0;34m,\u001b[0m \u001b[0mdtype\u001b[0m\u001b[0;34m=\u001b[0m\u001b[0mdtype\u001b[0m\u001b[0;34m)\u001b[0m\u001b[0;34m\u001b[0m\u001b[0;34m\u001b[0m\u001b[0m\n\u001b[0m\u001b[1;32m    115\u001b[0m \u001b[0;34m\u001b[0m\u001b[0m\n\u001b[1;32m    116\u001b[0m \u001b[0;34m\u001b[0m\u001b[0m\n",
            "\u001b[0;32m/usr/local/lib/python3.7/dist-packages/numpy/core/_asarray.py\u001b[0m in \u001b[0;36masarray\u001b[0;34m(a, dtype, order)\u001b[0m\n\u001b[1;32m     81\u001b[0m \u001b[0;34m\u001b[0m\u001b[0m\n\u001b[1;32m     82\u001b[0m     \"\"\"\n\u001b[0;32m---> 83\u001b[0;31m     \u001b[0;32mreturn\u001b[0m \u001b[0marray\u001b[0m\u001b[0;34m(\u001b[0m\u001b[0ma\u001b[0m\u001b[0;34m,\u001b[0m \u001b[0mdtype\u001b[0m\u001b[0;34m,\u001b[0m \u001b[0mcopy\u001b[0m\u001b[0;34m=\u001b[0m\u001b[0;32mFalse\u001b[0m\u001b[0;34m,\u001b[0m \u001b[0morder\u001b[0m\u001b[0;34m=\u001b[0m\u001b[0morder\u001b[0m\u001b[0;34m)\u001b[0m\u001b[0;34m\u001b[0m\u001b[0;34m\u001b[0m\u001b[0m\n\u001b[0m\u001b[1;32m     84\u001b[0m \u001b[0;34m\u001b[0m\u001b[0m\n\u001b[1;32m     85\u001b[0m \u001b[0;34m\u001b[0m\u001b[0m\n",
            "\u001b[0;31mValueError\u001b[0m: setting an array element with a sequence."
          ]
        }
      ]
    }
  ]
}