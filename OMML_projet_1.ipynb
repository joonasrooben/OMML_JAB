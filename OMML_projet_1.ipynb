{
  "nbformat": 4,
  "nbformat_minor": 0,
  "metadata": {
    "colab": {
      "name": "Copie de OMML_projet_1.ipynb",
      "provenance": [],
      "collapsed_sections": [],
      "authorship_tag": "ABX9TyNFGd14AGueii+6tJayV9su",
      "include_colab_link": true
    },
    "kernelspec": {
      "name": "python3",
      "display_name": "Python 3"
    },
    "language_info": {
      "name": "python"
    }
  },
  "cells": [
    {
      "cell_type": "markdown",
      "metadata": {
        "id": "view-in-github",
        "colab_type": "text"
      },
      "source": [
        "<a href=\"https://colab.research.google.com/github/joonasrooben/OMML_JAB/blob/main/OMML_projet_1.ipynb\" target=\"_parent\"><img src=\"https://colab.research.google.com/assets/colab-badge.svg\" alt=\"Open In Colab\"/></a>"
      ]
    },
    {
      "cell_type": "markdown",
      "metadata": {
        "id": "9WlCND-afjAa"
      },
      "source": [
        "#OMML PROJECT"
      ]
    },
    {
      "cell_type": "markdown",
      "metadata": {
        "id": "bXPDBQVwhrGN"
      },
      "source": [
        "### Imports"
      ]
    },
    {
      "cell_type": "code",
      "metadata": {
        "id": "DsL2bv_BftMS"
      },
      "source": [
        "import pandas as pd\n",
        "from sklearn.model_selection import train_test_split\n",
        "import numpy as np\n",
        "import math\n",
        "import scipy as sp\n",
        "from scipy.optimize import minimize"
      ],
      "execution_count": 13,
      "outputs": []
    },
    {
      "cell_type": "markdown",
      "metadata": {
        "id": "mZgyi4cYh0dr"
      },
      "source": [
        "### Data analysis"
      ]
    },
    {
      "cell_type": "code",
      "metadata": {
        "id": "NiDyx0cOf6Us"
      },
      "source": [
        "data = pd.read_csv('DATA (1).csv')"
      ],
      "execution_count": 14,
      "outputs": []
    },
    {
      "cell_type": "code",
      "metadata": {
        "id": "-ee3rOPgf_jH",
        "colab": {
          "base_uri": "https://localhost:8080/",
          "height": 206
        },
        "outputId": "784287e7-a81f-4d7a-84c9-3c2233bab601"
      },
      "source": [
        "data.head(5)"
      ],
      "execution_count": 15,
      "outputs": [
        {
          "output_type": "execute_result",
          "data": {
            "text/html": [
              "<div>\n",
              "<style scoped>\n",
              "    .dataframe tbody tr th:only-of-type {\n",
              "        vertical-align: middle;\n",
              "    }\n",
              "\n",
              "    .dataframe tbody tr th {\n",
              "        vertical-align: top;\n",
              "    }\n",
              "\n",
              "    .dataframe thead th {\n",
              "        text-align: right;\n",
              "    }\n",
              "</style>\n",
              "<table border=\"1\" class=\"dataframe\">\n",
              "  <thead>\n",
              "    <tr style=\"text-align: right;\">\n",
              "      <th></th>\n",
              "      <th>x1</th>\n",
              "      <th>x2</th>\n",
              "      <th>y</th>\n",
              "    </tr>\n",
              "  </thead>\n",
              "  <tbody>\n",
              "    <tr>\n",
              "      <th>0</th>\n",
              "      <td>1.725110</td>\n",
              "      <td>2.665940</td>\n",
              "      <td>0.101883</td>\n",
              "    </tr>\n",
              "    <tr>\n",
              "      <th>1</th>\n",
              "      <td>-1.137973</td>\n",
              "      <td>-1.059821</td>\n",
              "      <td>2.172760</td>\n",
              "    </tr>\n",
              "    <tr>\n",
              "      <th>2</th>\n",
              "      <td>1.652338</td>\n",
              "      <td>2.958089</td>\n",
              "      <td>0.118859</td>\n",
              "    </tr>\n",
              "    <tr>\n",
              "      <th>3</th>\n",
              "      <td>1.866858</td>\n",
              "      <td>-1.740966</td>\n",
              "      <td>-0.289316</td>\n",
              "    </tr>\n",
              "    <tr>\n",
              "      <th>4</th>\n",
              "      <td>-1.760604</td>\n",
              "      <td>1.350072</td>\n",
              "      <td>0.104652</td>\n",
              "    </tr>\n",
              "  </tbody>\n",
              "</table>\n",
              "</div>"
            ],
            "text/plain": [
              "         x1        x2         y\n",
              "0  1.725110  2.665940  0.101883\n",
              "1 -1.137973 -1.059821  2.172760\n",
              "2  1.652338  2.958089  0.118859\n",
              "3  1.866858 -1.740966 -0.289316\n",
              "4 -1.760604  1.350072  0.104652"
            ]
          },
          "metadata": {},
          "execution_count": 15
        }
      ]
    },
    {
      "cell_type": "code",
      "metadata": {
        "id": "PZemtgvngMyQ",
        "colab": {
          "base_uri": "https://localhost:8080/"
        },
        "outputId": "0f369e25-7582-4fd2-b2af-2257bae4d603"
      },
      "source": [
        "len(data)"
      ],
      "execution_count": 16,
      "outputs": [
        {
          "output_type": "execute_result",
          "data": {
            "text/plain": [
              "250"
            ]
          },
          "metadata": {},
          "execution_count": 16
        }
      ]
    },
    {
      "cell_type": "markdown",
      "metadata": {
        "id": "mUAiRafsh7xt"
      },
      "source": [
        ""
      ]
    },
    {
      "cell_type": "markdown",
      "metadata": {
        "id": "MgPYfz1Zh9q2"
      },
      "source": [
        "### Split the dataset\n",
        "\n",
        "We put 0.255 for the test_size instead of 0.25 to be sure to have 186 observations in the training_data"
      ]
    },
    {
      "cell_type": "code",
      "metadata": {
        "id": "BtVJ6CeQgtk5"
      },
      "source": [
        ""
      ],
      "execution_count": 16,
      "outputs": []
    },
    {
      "cell_type": "code",
      "metadata": {
        "id": "8e4AZtca2dUi"
      },
      "source": [
        "X_train, X_test, y_train, y_test = train_test_split(data[['x1','x2']], data[['y']], test_size=0.255, random_state=1990243)"
      ],
      "execution_count": 17,
      "outputs": []
    },
    {
      "cell_type": "code",
      "metadata": {
        "id": "JIdYkFCqiuU6",
        "colab": {
          "base_uri": "https://localhost:8080/"
        },
        "outputId": "e717aafe-0490-411b-fd7c-72e4f12cbc13"
      },
      "source": [
        "n = len(X_train)\n",
        "n"
      ],
      "execution_count": 18,
      "outputs": [
        {
          "output_type": "execute_result",
          "data": {
            "text/plain": [
              "186"
            ]
          },
          "metadata": {},
          "execution_count": 18
        }
      ]
    },
    {
      "cell_type": "code",
      "metadata": {
        "id": "AY_1u15BjlCU",
        "colab": {
          "base_uri": "https://localhost:8080/",
          "height": 423
        },
        "outputId": "cf3e1941-91a2-4526-c16c-85f2c92be2e1"
      },
      "source": [
        "X_train"
      ],
      "execution_count": 19,
      "outputs": [
        {
          "output_type": "execute_result",
          "data": {
            "text/html": [
              "<div>\n",
              "<style scoped>\n",
              "    .dataframe tbody tr th:only-of-type {\n",
              "        vertical-align: middle;\n",
              "    }\n",
              "\n",
              "    .dataframe tbody tr th {\n",
              "        vertical-align: top;\n",
              "    }\n",
              "\n",
              "    .dataframe thead th {\n",
              "        text-align: right;\n",
              "    }\n",
              "</style>\n",
              "<table border=\"1\" class=\"dataframe\">\n",
              "  <thead>\n",
              "    <tr style=\"text-align: right;\">\n",
              "      <th></th>\n",
              "      <th>x1</th>\n",
              "      <th>x2</th>\n",
              "    </tr>\n",
              "  </thead>\n",
              "  <tbody>\n",
              "    <tr>\n",
              "      <th>236</th>\n",
              "      <td>0.890055</td>\n",
              "      <td>-2.955518</td>\n",
              "    </tr>\n",
              "    <tr>\n",
              "      <th>134</th>\n",
              "      <td>0.355821</td>\n",
              "      <td>-2.385734</td>\n",
              "    </tr>\n",
              "    <tr>\n",
              "      <th>129</th>\n",
              "      <td>1.795969</td>\n",
              "      <td>0.914778</td>\n",
              "    </tr>\n",
              "    <tr>\n",
              "      <th>209</th>\n",
              "      <td>0.070684</td>\n",
              "      <td>-2.177204</td>\n",
              "    </tr>\n",
              "    <tr>\n",
              "      <th>52</th>\n",
              "      <td>1.674262</td>\n",
              "      <td>0.182846</td>\n",
              "    </tr>\n",
              "    <tr>\n",
              "      <th>...</th>\n",
              "      <td>...</td>\n",
              "      <td>...</td>\n",
              "    </tr>\n",
              "    <tr>\n",
              "      <th>244</th>\n",
              "      <td>1.557484</td>\n",
              "      <td>-0.167087</td>\n",
              "    </tr>\n",
              "    <tr>\n",
              "      <th>158</th>\n",
              "      <td>-1.730929</td>\n",
              "      <td>-0.657224</td>\n",
              "    </tr>\n",
              "    <tr>\n",
              "      <th>33</th>\n",
              "      <td>-1.367034</td>\n",
              "      <td>2.838806</td>\n",
              "    </tr>\n",
              "    <tr>\n",
              "      <th>35</th>\n",
              "      <td>-1.733677</td>\n",
              "      <td>-1.672311</td>\n",
              "    </tr>\n",
              "    <tr>\n",
              "      <th>19</th>\n",
              "      <td>1.584105</td>\n",
              "      <td>-0.238108</td>\n",
              "    </tr>\n",
              "  </tbody>\n",
              "</table>\n",
              "<p>186 rows × 2 columns</p>\n",
              "</div>"
            ],
            "text/plain": [
              "           x1        x2\n",
              "236  0.890055 -2.955518\n",
              "134  0.355821 -2.385734\n",
              "129  1.795969  0.914778\n",
              "209  0.070684 -2.177204\n",
              "52   1.674262  0.182846\n",
              "..        ...       ...\n",
              "244  1.557484 -0.167087\n",
              "158 -1.730929 -0.657224\n",
              "33  -1.367034  2.838806\n",
              "35  -1.733677 -1.672311\n",
              "19   1.584105 -0.238108\n",
              "\n",
              "[186 rows x 2 columns]"
            ]
          },
          "metadata": {},
          "execution_count": 19
        }
      ]
    },
    {
      "cell_type": "markdown",
      "metadata": {
        "id": "wm2cScREkAGE"
      },
      "source": [
        ""
      ]
    },
    {
      "cell_type": "markdown",
      "metadata": {
        "id": "lrkdpvQ9jrMJ"
      },
      "source": [
        "### Question 1\n"
      ]
    },
    {
      "cell_type": "markdown",
      "metadata": {
        "id": "nBxl-IPVkXAU"
      },
      "source": [
        "#### Question 1.1\n"
      ]
    },
    {
      "cell_type": "markdown",
      "metadata": {
        "id": "u5xebk1XsZgQ"
      },
      "source": [
        "**Activation function**\n",
        "\n",
        "We define the acivation function."
      ]
    },
    {
      "cell_type": "code",
      "metadata": {
        "id": "VLLqSq9ukczJ"
      },
      "source": [
        "def activationFunction(t, sigma = 1):\n",
        "  return (np.exp(2*sigma*t)-1)/(np.exp(2*sigma*t)+1)"
      ],
      "execution_count": 20,
      "outputs": []
    },
    {
      "cell_type": "markdown",
      "metadata": {
        "id": "ctZ_0UpapcD9"
      },
      "source": [
        "**Weight Initialization for Tanh**\n",
        "\n",
        "The current standard approach for initialization of the weights of neural network layers and nodes that use the Sigmoid or TanH activation function is called “glorot” or “xavier” initialization\n",
        "\n",
        "The xavier initialization method is calculated as a random number with a uniform probability distribution (U) between the range -(1/sqrt(n)) and 1/sqrt(n), where n is the number of inputs to the node.\n",
        "\n",
        "weight = U [-(1/sqrt(n)), 1/sqrt(n)]"
      ]
    },
    {
      "cell_type": "markdown",
      "metadata": {
        "id": "iETR046E5yD4"
      },
      "source": [
        "Let's define all the hyperparameters here\n",
        "Let's put 3 neurons in our hidden layer"
      ]
    },
    {
      "cell_type": "code",
      "metadata": {
        "id": "HRfyz74e55Is"
      },
      "source": [
        "N = 5\n",
        "rho = 1\n",
        "sigma = 1"
      ],
      "execution_count": 21,
      "outputs": []
    },
    {
      "cell_type": "code",
      "metadata": {
        "id": "Nt_Jpy8jkenl",
        "colab": {
          "base_uri": "https://localhost:8080/"
        },
        "outputId": "7345f920-ec57-4e63-b062-c9c2574818e3"
      },
      "source": [
        "inputs = X_train\n",
        "inputs = inputs.to_numpy()\n",
        "inputs.shape"
      ],
      "execution_count": 22,
      "outputs": [
        {
          "output_type": "execute_result",
          "data": {
            "text/plain": [
              "(186, 2)"
            ]
          },
          "metadata": {},
          "execution_count": 22
        }
      ]
    },
    {
      "cell_type": "code",
      "metadata": {
        "id": "zdXnMqshomgJ"
      },
      "source": [
        "def createWeightsForOneNeuron(N):\n",
        "  initial_weights_one_neuron = []\n",
        "  for i in range(0,N):\n",
        "    initial_weights_one_neuron.append(np.random.uniform(low = -(1/math.sqrt(N)), high = 1/math.sqrt(N)))\n",
        "  return initial_weights_one_neuron\n",
        "\n",
        "def create_initial_weights(N):\n",
        "  initial_weights = []\n",
        "  for i in range(0,2):\n",
        "    initial_weights.append(createWeightsForOneNeuron(N))\n",
        "  return initial_weights\n",
        "\n",
        "weightsW = np.asarray(create_initial_weights(N))\n"
      ],
      "execution_count": 23,
      "outputs": []
    },
    {
      "cell_type": "code",
      "metadata": {
        "id": "zWIPr3h-lUTG"
      },
      "source": [
        "mult = np.matmul(inputs, weightsW)"
      ],
      "execution_count": 24,
      "outputs": []
    },
    {
      "cell_type": "markdown",
      "metadata": {
        "id": "jLWwVePIBD4t"
      },
      "source": [
        "Create vector of bias\n"
      ]
    },
    {
      "cell_type": "code",
      "metadata": {
        "id": "0piXaQl1BHaQ"
      },
      "source": [
        "bias = np.ones((N,1))"
      ],
      "execution_count": 25,
      "outputs": []
    },
    {
      "cell_type": "markdown",
      "metadata": {
        "id": "T3D0ohloB7zM"
      },
      "source": [
        "Creation of the linear function\n",
        "\n",
        "∑wjixi+bj\n"
      ]
    },
    {
      "cell_type": "code",
      "metadata": {
        "id": "2kgWMwFXCgE7",
        "colab": {
          "base_uri": "https://localhost:8080/"
        },
        "outputId": "5151921a-2356-4b7a-a39a-d8b600b8e115"
      },
      "source": [
        "linearResult = mult + bias.T\n",
        "linearResult.shape"
      ],
      "execution_count": 26,
      "outputs": [
        {
          "output_type": "execute_result",
          "data": {
            "text/plain": [
              "(186, 5)"
            ]
          },
          "metadata": {},
          "execution_count": 26
        }
      ]
    },
    {
      "cell_type": "markdown",
      "metadata": {
        "id": "52Wfe3buE2gX"
      },
      "source": [
        "Now the step is the get this number into the activation function"
      ]
    },
    {
      "cell_type": "code",
      "metadata": {
        "id": "1vTeihx-pgnI",
        "colab": {
          "base_uri": "https://localhost:8080/"
        },
        "outputId": "5e83961a-8ab7-4cd9-a213-39fd43bd7ce1"
      },
      "source": [
        "acti = activationFunction(linearResult)\n",
        "acti.shape"
      ],
      "execution_count": 27,
      "outputs": [
        {
          "output_type": "execute_result",
          "data": {
            "text/plain": [
              "(186, 5)"
            ]
          },
          "metadata": {},
          "execution_count": 27
        }
      ]
    },
    {
      "cell_type": "markdown",
      "metadata": {
        "id": "-HLf4s70DLX6"
      },
      "source": [
        "We generate weigths for hidden layers\n"
      ]
    },
    {
      "cell_type": "code",
      "metadata": {
        "id": "sZ0-6E8NDR55"
      },
      "source": [
        "def createWeightsForHiddenLayer(N):\n",
        "  weightHiddenLayer = []\n",
        "  for i in range(0,N):\n",
        "    weightHiddenLayer.append(np.random.uniform(low = -(1/math.sqrt(N)), high = 1/math.sqrt(N)))\n",
        "  return weightHiddenLayer"
      ],
      "execution_count": 28,
      "outputs": []
    },
    {
      "cell_type": "code",
      "metadata": {
        "id": "2Odrz6YIFIb-"
      },
      "source": [
        "v = createWeightsForHiddenLayer(N)\n",
        "v = np.array(v)"
      ],
      "execution_count": 29,
      "outputs": []
    },
    {
      "cell_type": "code",
      "metadata": {
        "id": "Hnw9ha37qIWD",
        "colab": {
          "base_uri": "https://localhost:8080/"
        },
        "outputId": "279ec9fb-97b0-44e2-dce7-a2e21caa3347"
      },
      "source": [
        "f_x = np.matmul(v,acti.T)\n",
        "f_x.shape\n"
      ],
      "execution_count": 30,
      "outputs": [
        {
          "output_type": "execute_result",
          "data": {
            "text/plain": [
              "(186,)"
            ]
          },
          "metadata": {},
          "execution_count": 30
        }
      ]
    },
    {
      "cell_type": "markdown",
      "metadata": {
        "id": "R3hgqRANFqNX"
      },
      "source": [
        "Now we have the MLP. We'll computed the regularized training error function E(v,w,b)"
      ]
    },
    {
      "cell_type": "code",
      "metadata": {
        "id": "7P5CTQXhsgR-",
        "colab": {
          "base_uri": "https://localhost:8080/"
        },
        "outputId": "6acdaff8-2a51-4adb-c037-178aca93541b"
      },
      "source": [
        "y = y_train\n",
        "y = y.to_numpy()\n",
        "y = y.reshape((-1))\n",
        "y.shape"
      ],
      "execution_count": 31,
      "outputs": [
        {
          "output_type": "execute_result",
          "data": {
            "text/plain": [
              "(186,)"
            ]
          },
          "metadata": {},
          "execution_count": 31
        }
      ]
    },
    {
      "cell_type": "code",
      "metadata": {
        "id": "qSp5yDJxAUmY"
      },
      "source": [
        "P = len(X_train)"
      ],
      "execution_count": 32,
      "outputs": []
    },
    {
      "cell_type": "code",
      "metadata": {
        "id": "TZoWmT7ysPTz"
      },
      "source": [
        "firstTermE = (1/2*P)* sum((f_x - y)**2)"
      ],
      "execution_count": 33,
      "outputs": []
    },
    {
      "cell_type": "markdown",
      "metadata": {
        "id": "atHuItHCKYou"
      },
      "source": [
        "First create the regularization term\n",
        "\n"
      ]
    },
    {
      "cell_type": "code",
      "metadata": {
        "id": "7_37K_5pGEHF"
      },
      "source": [
        "omega = [v, weightsW, bias]"
      ],
      "execution_count": 34,
      "outputs": []
    },
    {
      "cell_type": "code",
      "metadata": {
        "id": "DG-KiO5CKgEy"
      },
      "source": [
        "\n",
        "def computeRegularizationTerm(omega):\n",
        "    normV = np.linalg.norm(omega[0]**2)\n",
        "    normW = np.linalg.norm(omega[1]**2)\n",
        "    normB = np.linalg.norm(omega[2]**2)\n",
        "    return normV + normW + normB\n",
        "\n",
        "omega_norm = computeRegularizationTerm(omega)\n",
        "\n",
        "regularizationTerm = (rho/2)*(omega_norm)"
      ],
      "execution_count": 35,
      "outputs": []
    },
    {
      "cell_type": "code",
      "metadata": {
        "id": "d1DfX3JKzp-c",
        "colab": {
          "base_uri": "https://localhost:8080/"
        },
        "outputId": "e5a27f72-81f5-4ef7-e9dc-c16592fc6f6c"
      },
      "source": [
        "E = firstTermE + regularizationTerm\n",
        "E"
      ],
      "execution_count": 36,
      "outputs": [
        {
          "output_type": "execute_result",
          "data": {
            "text/plain": [
              "41298.12990724974"
            ]
          },
          "metadata": {},
          "execution_count": 36
        }
      ]
    },
    {
      "cell_type": "markdown",
      "metadata": {
        "id": "sHAjb_C37H8I"
      },
      "source": [
        "To resume a big function we have "
      ]
    },
    {
      "cell_type": "code",
      "metadata": {
        "id": "vXeEYq9a7G9o"
      },
      "source": [
        "def expectationFunction(omega ,input, target, N, rho, sigma):\n",
        "\n",
        "  W = omega[:-2*N].reshape((2,N))\n",
        "  v = omega[-N:]\n",
        "  bias = omega[-2*N:-N]\n",
        "\n",
        "\n",
        "  x = input.to_numpy()\n",
        "\n",
        "  mult = np.matmul(inputs, W)\n",
        "\n",
        "  linearResult = mult + bias.T\n",
        "\n",
        "  acti = activationFunction(linearResult, sigma)\n",
        "\n",
        "  f_x = np.matmul(v,acti.T)\n",
        "\n",
        "  y = target.to_numpy()\n",
        "  y = y.reshape((-1)) \n",
        "\n",
        "  P = len(input)\n",
        "\n",
        "  firstTermE = (1/2*P)* sum((f_x - y)**2)\n",
        "\n",
        "  omega = [v, W, bias]\n",
        "\n",
        "  regularizationTerm = (rho/2)*(omega_norm)\n",
        "\n",
        "  E = firstTermE + regularizationTerm\n",
        "\n",
        "  return  E"
      ],
      "execution_count": 56,
      "outputs": []
    },
    {
      "cell_type": "code",
      "metadata": {
        "id": "9ChSjXf38kQk",
        "colab": {
          "base_uri": "https://localhost:8080/"
        },
        "outputId": "25416f9c-c566-4be8-93a4-d808a02af18d"
      },
      "source": [
        "N = 20\n",
        "rho = 1e-5\n",
        "sigma = 1\n",
        "W = np.array(create_initial_weights(N))\n",
        "W.size\n",
        "v = np.array(createWeightsForHiddenLayer(N))\n",
        "bias = np.ones((N,1))\n",
        "omega = np.append(np.append(W.flatten(), bias), v)\n",
        "W.shape\n"
      ],
      "execution_count": 73,
      "outputs": [
        {
          "output_type": "execute_result",
          "data": {
            "text/plain": [
              "(2, 20)"
            ]
          },
          "metadata": {},
          "execution_count": 73
        }
      ]
    },
    {
      "cell_type": "code",
      "metadata": {
        "id": "kX6oq-omDzg1",
        "colab": {
          "base_uri": "https://localhost:8080/"
        },
        "outputId": "423d03a6-b54e-4b97-e25f-3634c1ba4846"
      },
      "source": [
        "expectationFunction(omega, X_train ,y_train ,N ,rho ,sigma)"
      ],
      "execution_count": 70,
      "outputs": [
        {
          "output_type": "execute_result",
          "data": {
            "text/plain": [
              "22968.60476357614"
            ]
          },
          "metadata": {},
          "execution_count": 70
        }
      ]
    },
    {
      "cell_type": "code",
      "metadata": {
        "id": "wlurjmxMEdwm"
      },
      "source": [
        ""
      ],
      "execution_count": null,
      "outputs": []
    },
    {
      "cell_type": "code",
      "metadata": {
        "id": "ijo7xW6tD-l3"
      },
      "source": [
        "res = minimize(expectationFunction, omega, args=((X_train ,y_train ,N ,rho ,sigma)), method = 'CG', options={\"maxiter\":1000})"
      ],
      "execution_count": 74,
      "outputs": []
    },
    {
      "cell_type": "code",
      "metadata": {
        "colab": {
          "base_uri": "https://localhost:8080/"
        },
        "id": "261aVeMFoT6j",
        "outputId": "332bae0c-533c-4360-db2b-07cf6056bb1e"
      },
      "source": [
        "print(res)"
      ],
      "execution_count": 75,
      "outputs": [
        {
          "output_type": "stream",
          "name": "stdout",
          "text": [
            "     fun: 51.83377847694325\n",
            "     jac: array([ 7.08912292e+01,  9.32295671e+01, -4.51475482e+01,  3.06036329e+01,\n",
            "        1.35249043e+00,  1.56418257e+01, -2.90938473e+00, -1.14573627e+01,\n",
            "       -1.32503448e+01, -8.10931683e-01, -1.32562160e-01,  7.40621309e+01,\n",
            "       -1.40413351e+01,  9.09232850e+01, -1.08164015e+01,  2.34243045e+01,\n",
            "       -2.50804424e+00,  7.37625232e+01, -1.69900179e+00,  6.49709749e+00,\n",
            "        8.34095435e+01, -3.07269239e+01,  6.15124178e+01,  4.47931428e+01,\n",
            "       -3.58339806e+01,  1.43703569e+02, -3.34159546e+01, -4.93072839e+01,\n",
            "       -5.64144001e+01, -8.96390057e+00, -9.62756157e+00,  1.44299251e+02,\n",
            "       -5.92705359e+01,  1.17933013e+02, -5.60406170e+01, -1.17443278e+02,\n",
            "       -2.79059043e+01,  2.73282995e+01, -1.64017520e+01,  2.78879151e+01,\n",
            "       -2.93906350e+01,  7.83554277e+01,  3.26276588e+01,  2.79694037e+01,\n",
            "       -5.98010731e+00, -2.99209151e+01, -8.58070850e-01,  4.94844866e+00,\n",
            "        5.77524281e+00, -2.77417898e+00, -1.02601604e+01, -1.34514966e+02,\n",
            "        6.15896368e+00,  2.05303903e+01,  2.38029785e+01, -1.41515093e+01,\n",
            "       -3.71496296e+00,  7.53321648e+01, -6.17650795e+00, -3.08418379e+01,\n",
            "       -2.63464608e+01,  9.52237043e+01, -8.91218863e+01, -1.01740953e+02,\n",
            "       -6.07648740e+01,  1.59691458e+01, -5.66488700e+01, -5.14573269e+01,\n",
            "       -5.13840880e+01, -7.39292412e+01, -7.97083225e+01,  8.77023058e+01,\n",
            "       -5.13404708e+01,  1.04862557e+02,  1.81808448e+01,  8.47188029e+01,\n",
            "       -6.28607488e+01, -6.17124085e+01, -7.44027686e+01, -7.34513226e+01])\n",
            " message: 'Maximum number of iterations has been exceeded.'\n",
            "    nfev: 133332\n",
            "     nit: 1000\n",
            "    njev: 1626\n",
            "  status: 1\n",
            " success: False\n",
            "       x: array([ 2.00282434,  1.56120365, -0.57725375,  0.50253962,  0.19056967,\n",
            "       -1.82579545,  0.1669453 ,  0.07686803,  0.0737018 ,  0.02009498,\n",
            "       -0.14777144,  0.09905766,  0.07038326,  1.48741635, -0.56689309,\n",
            "        1.84440765,  0.10498197, -1.15741862,  0.03154971,  0.96082457,\n",
            "       -0.10489789,  0.04147185, -0.9586784 , -1.18914918, -0.35100688,\n",
            "        0.13134305, -0.25370172, -0.18189603, -0.18191346, -0.52253864,\n",
            "       -1.32469603,  1.39592767, -0.18213042, -0.28164035,  1.07023374,\n",
            "        0.48980285, -0.34430725, -0.23247105, -0.57150074, -0.56582611,\n",
            "        3.61158628, -1.4746357 ,  0.51697038,  0.84172337,  1.44790006,\n",
            "       -1.35736681,  1.25973127,  0.90297544,  0.88736702,  1.12086644,\n",
            "        2.1403154 ,  0.96020216,  0.87297856, -0.96275055,  1.65162577,\n",
            "        1.0988139 ,  1.16172743,  1.68907529,  1.23179841,  1.69468162,\n",
            "        1.91168177,  1.28602386,  1.80632861,  1.4365982 , -0.76788564,\n",
            "        0.9934145 , -0.56834274, -0.55977293, -0.63049204, -0.17511071,\n",
            "       -1.34908366,  2.97246002, -0.65339132,  1.17114664, -0.51834751,\n",
            "       -0.96159651, -0.45911125,  3.48412684, -0.3603593 ,  2.11691373])\n"
          ]
        }
      ]
    }
  ]
}