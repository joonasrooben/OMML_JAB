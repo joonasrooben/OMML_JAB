{
 "nbformat": 4,
 "nbformat_minor": 0,
 "metadata": {
  "colab": {
   "name": "Copie de OMML_projet_1.ipynb",
   "provenance": [],
   "collapsed_sections": [],
   "authorship_tag": "ABX9TyPHmDlj/WAzVEy1/m8MCMl0",
   "include_colab_link": true
  },
  "kernelspec": {
   "name": "python3",
   "display_name": "Python 3"
  },
  "language_info": {
   "name": "python"
  }
 },
 "cells": [
  {
   "cell_type": "markdown",
   "metadata": {
    "id": "view-in-github",
    "colab_type": "text"
   },
   "source": [
    "<a href=\"https://colab.research.google.com/github/joonasrooben/OMML_JAB/blob/main/OMML_projet_1.ipynb\" target=\"_parent\"><img src=\"https://colab.research.google.com/assets/colab-badge.svg\" alt=\"Open In Colab\"/></a>"
   ]
  },
  {
   "cell_type": "markdown",
   "metadata": {
    "id": "9WlCND-afjAa"
   },
   "source": [
    "#OMML PROJECT"
   ]
  },
  {
   "cell_type": "markdown",
   "metadata": {
    "id": "bXPDBQVwhrGN"
   },
   "source": [
    "### Imports"
   ]
  },
  {
   "cell_type": "code",
   "metadata": {
    "id": "DsL2bv_BftMS"
   },
   "source": [
    "import pandas as pd\n",
    "from sklearn.model_selection import train_test_split\n",
    "import numpy as np\n",
    "import math\n",
    "from scipy.optimize import minimize\n",
    "import sphinx"
   ],
   "execution_count": 334,
   "outputs": []
  },
  {
   "cell_type": "markdown",
   "metadata": {
    "id": "mZgyi4cYh0dr"
   },
   "source": [
    "### Data analysis"
   ]
  },
  {
   "cell_type": "code",
   "metadata": {
    "id": "NiDyx0cOf6Us"
   },
   "source": [
    "data = pd.read_csv('DATA (1).csv')"
   ],
   "execution_count": 335,
   "outputs": []
  },
  {
   "cell_type": "code",
   "execution_count": 336,
   "outputs": [
    {
     "data": {
      "text/plain": "         x1        x2         y\n0  1.725110  2.665940  0.101883\n1 -1.137973 -1.059821  2.172760\n2  1.652338  2.958089  0.118859\n3  1.866858 -1.740966 -0.289316\n4 -1.760604  1.350072  0.104652\n5  1.871249 -0.911920  0.022725",
      "text/html": "<div>\n<style scoped>\n    .dataframe tbody tr th:only-of-type {\n        vertical-align: middle;\n    }\n\n    .dataframe tbody tr th {\n        vertical-align: top;\n    }\n\n    .dataframe thead th {\n        text-align: right;\n    }\n</style>\n<table border=\"1\" class=\"dataframe\">\n  <thead>\n    <tr style=\"text-align: right;\">\n      <th></th>\n      <th>x1</th>\n      <th>x2</th>\n      <th>y</th>\n    </tr>\n  </thead>\n  <tbody>\n    <tr>\n      <th>0</th>\n      <td>1.725110</td>\n      <td>2.665940</td>\n      <td>0.101883</td>\n    </tr>\n    <tr>\n      <th>1</th>\n      <td>-1.137973</td>\n      <td>-1.059821</td>\n      <td>2.172760</td>\n    </tr>\n    <tr>\n      <th>2</th>\n      <td>1.652338</td>\n      <td>2.958089</td>\n      <td>0.118859</td>\n    </tr>\n    <tr>\n      <th>3</th>\n      <td>1.866858</td>\n      <td>-1.740966</td>\n      <td>-0.289316</td>\n    </tr>\n    <tr>\n      <th>4</th>\n      <td>-1.760604</td>\n      <td>1.350072</td>\n      <td>0.104652</td>\n    </tr>\n    <tr>\n      <th>5</th>\n      <td>1.871249</td>\n      <td>-0.911920</td>\n      <td>0.022725</td>\n    </tr>\n  </tbody>\n</table>\n</div>"
     },
     "execution_count": 336,
     "metadata": {},
     "output_type": "execute_result"
    }
   ],
   "source": [
    "data.head(6)"
   ],
   "metadata": {
    "collapsed": false,
    "pycharm": {
     "name": "#%%\n"
    }
   }
  },
  {
   "cell_type": "markdown",
   "metadata": {
    "id": "mUAiRafsh7xt"
   },
   "source": []
  },
  {
   "cell_type": "markdown",
   "metadata": {
    "id": "MgPYfz1Zh9q2"
   },
   "source": [
    "### Split the dataset\n",
    "\n",
    "We put 0.255 for the test_size instead of 0.25 to be sure to have 186 observations in the training_data"
   ]
  },
  {
   "cell_type": "code",
   "metadata": {
    "id": "8e4AZtca2dUi"
   },
   "source": [
    "X_train, X_test, y_train, y_test = train_test_split(data[['x1','x2']], data[['y']], test_size=0.255, random_state=1990243)"
   ],
   "execution_count": 337,
   "outputs": []
  },
  {
   "cell_type": "code",
   "metadata": {
    "id": "JIdYkFCqiuU6",
    "colab": {
     "base_uri": "https://localhost:8080/"
    },
    "outputId": "013eeb76-fca3-40ac-f42f-d6a5dbf531bf"
   },
   "source": [
    "n = len(X_train)\n",
    "n"
   ],
   "execution_count": 338,
   "outputs": [
    {
     "data": {
      "text/plain": "186"
     },
     "execution_count": 338,
     "metadata": {},
     "output_type": "execute_result"
    }
   ]
  },
  {
   "cell_type": "markdown",
   "metadata": {
    "id": "lrkdpvQ9jrMJ"
   },
   "source": [
    "### Question 1\n"
   ]
  },
  {
   "cell_type": "markdown",
   "metadata": {
    "id": "nBxl-IPVkXAU"
   },
   "source": [
    "#### Question 1.1\n"
   ]
  },
  {
   "cell_type": "markdown",
   "metadata": {
    "id": "u5xebk1XsZgQ"
   },
   "source": [
    "**Activation function**\n",
    "\n",
    "We define the acivation function."
   ]
  },
  {
   "cell_type": "code",
   "metadata": {
    "id": "VLLqSq9ukczJ"
   },
   "source": [
    "\n",
    "def activationFunction(t, sigma = 1):\n",
    "  \"\"\"\n",
    "  This function is the activation function tanh with two parameters. To optimise our model we have to vary the sigma.\n",
    "  :param t: input\n",
    "  :param sigma: the spread σ\n",
    "  :return:\n",
    "  \"\"\"\n",
    "  return (np.exp(2*sigma*t)-1)/(np.exp(2*sigma*t)+1)"
   ],
   "execution_count": 339,
   "outputs": []
  },
  {
   "cell_type": "markdown",
   "metadata": {
    "id": "ctZ_0UpapcD9"
   },
   "source": [
    "**Weight Initialization for Tanh**\n",
    "\n",
    "The current standard approach for initialization of the weights of neural network layers and nodes that use the Sigmoid or TanH activation function is called “glorot” or “xavier” initialization\n",
    "\n",
    "The xavier initialization method is calculated as a random number with a uniform probability distribution (U) between the range -(1/sqrt(n)) and 1/sqrt(n), where n is the number of inputs to the node.\n",
    "\n",
    "weight = U [-(1/sqrt(n)), 1/sqrt(n)]"
   ]
  },
  {
   "cell_type": "markdown",
   "metadata": {
    "id": "iETR046E5yD4"
   },
   "source": [
    "Let's define all the hyperparameters here\n",
    "Let's put 3 neurons in our hidden layer"
   ]
  },
  {
   "cell_type": "code",
   "metadata": {
    "id": "HRfyz74e55Is"
   },
   "source": [
    "N = 5\n",
    "rho = 1\n",
    "sigma = 1"
   ],
   "execution_count": 340,
   "outputs": []
  },
  {
   "cell_type": "code",
   "metadata": {
    "id": "zdXnMqshomgJ"
   },
   "source": [
    "\n",
    "def createWeightsForOneNeuron(N):\n",
    "  \"\"\"\n",
    "  We want to create a vector of weight using the “xavier” initialization.\n",
    "  :param N: the number of neurons in the hidden layer\n",
    "  :return: a array of weights\n",
    "  \"\"\"\n",
    "  initial_weights_one_neuron = []\n",
    "  for i in range(0,N):\n",
    "    initial_weights_one_neuron.append(np.random.uniform(low = -(1/math.sqrt(N)), high = 1/math.sqrt(N)))\n",
    "  return initial_weights_one_neuron\n",
    "\n",
    "def create_initial_weights(N):\n",
    "  \"\"\"\n",
    "  We want to crate the 2D-matrix of weights \"W\".\n",
    "  :param N: the number of neurons in the hidden layer\n",
    "  :return: a 2D-array of weights\n",
    "  \"\"\"\n",
    "  initial_weights = []\n",
    "  for i in range(0,2):\n",
    "    initial_weights.append(createWeightsForOneNeuron(N))\n",
    "  return initial_weights"
   ],
   "execution_count": 341,
   "outputs": []
  },
  {
   "cell_type": "code",
   "metadata": {
    "id": "zWIPr3h-lUTG"
   },
   "source": [
    "def multInputWeights(input, initialWeights):\n",
    "  \"\"\"\n",
    "  We make here the multiplication of the inputs (X) with the weights (W) --> X*W  where X is (n,2) and W is (2,N).\n",
    "  So we end up with a matrix mult (n,N).\n",
    "  :param input: inputs\n",
    "  :param initialWeights: weights of the input\n",
    "  :return: 2D-array (n,N) dimension\n",
    "  \"\"\"\n",
    "  return np.matmul(input,initialWeights)"
   ],
   "execution_count": 475,
   "outputs": []
  },
  {
   "cell_type": "markdown",
   "metadata": {
    "id": "jLWwVePIBD4t"
   },
   "source": [
    "Create vector of bias"
   ]
  },
  {
   "cell_type": "code",
   "metadata": {
    "id": "0piXaQl1BHaQ"
   },
   "source": [
    "def createBias(N):\n",
    "  \"\"\"\n",
    "  Creation vector of bias\n",
    "  :param N: the number of neurons in the hidden layer\n",
    "  :return: vector of bias\n",
    "  \"\"\"\n",
    "  return np.ones((N,1))"
   ],
   "execution_count": 474,
   "outputs": []
  },
  {
   "cell_type": "markdown",
   "metadata": {
    "id": "T3D0ohloB7zM"
   },
   "source": [
    "Until now we have the elements to create the equation\n",
    "$$\n",
    " \\sum_{i = 1}^{n}{w_{ji}*x_{i} + b_{j}}\n",
    "$$\n",
    "\n"
   ]
  },
  {
   "cell_type": "code",
   "metadata": {
    "id": "2kgWMwFXCgE7",
    "colab": {
     "base_uri": "https://localhost:8080/"
    },
    "outputId": "b9d23a51-6653-4eee-99bc-be84878a50c2"
   },
   "source": [
    "def computeLinearResult(mult, bias):\n",
    "  \"\"\"\n",
    "  return the linear regression\n",
    "  :param mult: multiplication of inputs and weights\n",
    "  :param bias: vector of bias\n",
    "  :return:\n",
    "  \"\"\"\n",
    "  return mult + bias"
   ],
   "execution_count": 476,
   "outputs": []
  },
  {
   "cell_type": "markdown",
   "metadata": {
    "id": "-HLf4s70DLX6"
   },
   "source": [
    "We generate weigths for hidden layers\n"
   ]
  },
  {
   "cell_type": "code",
   "metadata": {
    "id": "sZ0-6E8NDR55"
   },
   "source": [
    "def createWeightsForHiddenLayer(N):\n",
    "  \"\"\"\n",
    "  We want to create a vector of weight using the “xavier” initialization. the vector of weight is V.\n",
    "  :param N: the number of neurons in the hidden layer\n",
    "  :return: a array of weights\n",
    "  \"\"\"\n",
    "  weightHiddenLayer = []\n",
    "  for i in range(0,N):\n",
    "    weightHiddenLayer.append(np.random.uniform(low = -(1/math.sqrt(N)), high = 1/math.sqrt(N)))\n",
    "  return weightHiddenLayer"
   ],
   "execution_count": 345,
   "outputs": []
  },
  {
   "cell_type": "code",
   "metadata": {
    "id": "Hnw9ha37qIWD",
    "colab": {
     "base_uri": "https://localhost:8080/"
    },
    "outputId": "08f848aa-e098-4614-92e5-ff7ada6226c0"
   },
   "source": [
    "\n",
    "def computeLinearOutput(v, activationOutput):\n",
    "  return np.matmul(v,activationOutput.T)"
   ],
   "execution_count": 460,
   "outputs": []
  },
  {
   "cell_type": "markdown",
   "metadata": {
    "id": "R3hgqRANFqNX"
   },
   "source": [
    "Now we have the MLP. We'll computed the regularized training error function E(v,w,b)"
   ]
  },
  {
   "cell_type": "code",
   "metadata": {
    "id": "TZoWmT7ysPTz"
   },
   "source": [
    "\n",
    "def computeEmpiricalRisk(target, output, P):\n",
    "  \"\"\"\n",
    "  Compute empirical risk.\n",
    "\n",
    "  :param target: this will be the y or f(x1,x2)\n",
    "  :param output: output of the model\n",
    "  :param P: number of observations\n",
    "  :return:\n",
    "  \"\"\"\n",
    "  return (1/(2*P))* sum((output - target)**2)\n"
   ],
   "execution_count": 347,
   "outputs": []
  },
  {
   "cell_type": "markdown",
   "metadata": {
    "id": "atHuItHCKYou"
   },
   "source": [
    "First create the regularization term\n",
    "\n"
   ]
  },
  {
   "cell_type": "code",
   "metadata": {
    "id": "DG-KiO5CKgEy"
   },
   "source": [
    "def computeRegularizationTerm(omega, rho = 1):\n",
    "    \"\"\"\n",
    "    Compute the regularization term for the vector ω = (v,w,b).\n",
    "    :param omega: ω = (v,w,b).\n",
    "    :return:\n",
    "    \"\"\"\n",
    "    normV = np.linalg.norm(omega[0]**2)\n",
    "    normW = np.linalg.norm(omega[1]**2)\n",
    "    normB = np.linalg.norm(omega[2]**2)\n",
    "\n",
    "    omega_norm = normV + normW + normB\n",
    "\n",
    "    return (rho/2)*(omega_norm)\n"
   ],
   "execution_count": 348,
   "outputs": []
  },
  {
   "cell_type": "markdown",
   "metadata": {
    "id": "sHAjb_C37H8I"
   },
   "source": [
    "To resume a big function we have "
   ]
  },
  {
   "cell_type": "code",
   "metadata": {
    "id": "vXeEYq9a7G9o"
   },
   "source": [
    "def MLP(omega ,input, target, N, rho, sigma):\n",
    "\n",
    "  W = omega[:-2*N].reshape((2,N))\n",
    "  v = omega[-N:]\n",
    "  bias = omega[-2*N:-N]\n",
    "\n",
    "  # X*W\n",
    "  mult = multInputWeights(input, W)\n",
    "  # sum(X*W) + b\n",
    "  linearResult = computeLinearResult(mult, bias)\n",
    "  # g(sum(X*W) + b)\n",
    "  acti = activationFunction(linearResult, sigma)\n",
    "  # output of the model : sum(v* g(sum(X*W) + b))\n",
    "  f_x = computeLinearOutput(v, acti)\n",
    "  # reshape the target\n",
    "  y = target.to_numpy()\n",
    "  y = y.reshape((-1))\n",
    "  # number of observations\n",
    "  P = len(input)\n",
    "  expectationRisk = computeEmpiricalRisk(y, f_x, P)\n",
    "  omega = [v, W, bias]\n",
    "  regularizationTerm = computeRegularizationTerm(omega, rho)\n",
    "\n",
    "  return  expectationRisk + regularizationTerm"
   ],
   "execution_count": 485,
   "outputs": []
  },
  {
   "cell_type": "code",
   "metadata": {
    "id": "9ChSjXf38kQk",
    "colab": {
     "base_uri": "https://localhost:8080/"
    },
    "outputId": "1adebaca-e1a1-4862-c347-9cb64171213c"
   },
   "source": [
    "N = 20\n",
    "rho = 1e-5\n",
    "sigma = 1\n",
    "W = np.array(create_initial_weights(N))\n",
    "v = np.array(createWeightsForHiddenLayer(N))\n",
    "bias = createBias(N)\n",
    "omega = np.append(np.append(W.flatten(), bias), v)"
   ],
   "execution_count": 481,
   "outputs": []
  },
  {
   "cell_type": "code",
   "metadata": {
    "id": "kX6oq-omDzg1",
    "colab": {
     "base_uri": "https://localhost:8080/"
    },
    "outputId": "47605911-5a24-42de-dd13-345bdfc3cb7a"
   },
   "source": [
    "MLP(omega, X_train ,y_train ,N ,rho ,sigma)"
   ],
   "execution_count": 484,
   "outputs": [
    {
     "name": "stdout",
     "output_type": "stream",
     "text": [
      "(186, 20)\n"
     ]
    },
    {
     "data": {
      "text/plain": "1.4785587015335195"
     },
     "execution_count": 484,
     "metadata": {},
     "output_type": "execute_result"
    }
   ]
  },
  {
   "cell_type": "markdown",
   "source": [],
   "metadata": {
    "collapsed": false
   }
  },
  {
   "cell_type": "code",
   "metadata": {
    "id": "ijo7xW6tD-l3"
   },
   "source": [
    "res = minimize(MLP, omega, args=((X_train ,y_train ,N ,rho ,sigma)), method = 'CG', options={\"maxiter\":300})"
   ],
   "execution_count": 399,
   "outputs": []
  },
  {
   "cell_type": "markdown",
   "source": [],
   "metadata": {
    "collapsed": false
   }
  },
  {
   "cell_type": "code",
   "metadata": {
    "colab": {
     "base_uri": "https://localhost:8080/"
    },
    "id": "261aVeMFoT6j",
    "outputId": "ef062f3a-53e9-4c45-dd11-ad325aa06dbb"
   },
   "source": [
    "print(res.x.shape)"
   ],
   "execution_count": 400,
   "outputs": [
    {
     "name": "stdout",
     "output_type": "stream",
     "text": [
      "(80,)\n"
     ]
    }
   ]
  },
  {
   "cell_type": "code",
   "execution_count": 401,
   "outputs": [
    {
     "data": {
      "text/plain": "0.00855389418748504"
     },
     "execution_count": 401,
     "metadata": {},
     "output_type": "execute_result"
    }
   ],
   "source": [
    "MLP(res.x, X_test ,y_test ,N ,rho ,sigma)"
   ],
   "metadata": {
    "collapsed": false,
    "pycharm": {
     "name": "#%%\n"
    }
   }
  },
  {
   "cell_type": "code",
   "execution_count": 492,
   "outputs": [
    {
     "name": "stdout",
     "output_type": "stream",
     "text": [
      "mixed :  (10000, 2)\n",
      "weights :  (2, 20)\n",
      "mult :  (10000, 20)\n",
      "linearResult :  (10000, 20)\n",
      "acti :  (10000, 20)\n"
     ]
    }
   ],
   "source": [
    "n = 100\n",
    "#create the grid\n",
    "x = np.linspace(-2, 2, n) #create 50 points between [-5,5] evenly spaced\n",
    "y = np.linspace(-3, 3, n)\n",
    "X, Y = np.meshgrid(x, y)\n",
    "mixed =  np.vstack((X.flatten(),Y.flatten())).T\n",
    "print('mixed : ',mixed.shape)\n",
    "\n",
    "W = res.x[:-2*N].reshape((2,N))\n",
    "v = res.x[-N:]\n",
    "bias = res.x[-2*N:-N]\n",
    "print('weights : ',W.shape)\n",
    "\n",
    "\"\"\"W1 = np.array(res.x)\n",
    "W2 = np.array(res.x)\n",
    "W = np.array([W1,W2])\n",
    "print('weights : ',W.shape)\"\"\"\n",
    "\n",
    "mult = multInputWeights(mixed, W)\n",
    "print('mult : ',mult.shape)\n",
    "#bias = createBias(len(mult))\n",
    "# sum(X*W) + b\n",
    "linearResult = computeLinearResult(mult, bias)\n",
    "print('linearResult : ',linearResult.shape)\n",
    "# g(sum(X*W) + b)\n",
    "acti = activationFunction(linearResult, sigma)\n",
    "print('acti : ',acti.shape)\n",
    "#print(acti)\n",
    "\n",
    "\n",
    "# output of the model : sum(v* g(sum(X*W) + b))\n",
    "f_x = computeLinearOutput(v, acti)\n",
    "#print(f_x)"
   ],
   "metadata": {
    "collapsed": false,
    "pycharm": {
     "name": "#%%\n"
    }
   }
  },
  {
   "cell_type": "code",
   "execution_count": 493,
   "outputs": [
    {
     "name": "stdout",
     "output_type": "stream",
     "text": [
      "(100, 100)\n"
     ]
    },
    {
     "data": {
      "text/plain": "<Figure size 432x288 with 1 Axes>",
      "image/png": "[encoded data removed]"
     },
     "metadata": {
      "needs_background": "light"
     },
     "output_type": "display_data"
    }
   ],
   "source": [
    "import matplotlib.pyplot as plt\n",
    "from mpl_toolkits.mplot3d import Axes3D\n",
    "\n",
    "\n",
    "def plotting(title='Plotting of the function'): #if you do not provide a title, 'Plotting...' will be used\n",
    "  #create the object\n",
    "  fig = plt.figure()\n",
    "  ax = plt.axes(projection='3d')\n",
    "  n = 100\n",
    "\n",
    "  #create the grid\n",
    "  x = np.linspace(-2, 2, n) #create 50 points between [-5,5] evenly spaced\n",
    "  y = np.linspace(-3, 3, n)\n",
    "  X, Y = np.meshgrid(x, y)\n",
    "  mixed =  np.vstack((X.flatten(),Y.flatten())).T\n",
    "  #make the nxn grid into 2d array that can be fed into func\n",
    "  Z = f_x#evaluate the function (note that X,Y,Z are matrix)\n",
    "  Z = Z.reshape((n,n))\n",
    "\n",
    "  print(Z.shape)\n",
    "\n",
    "\n",
    "  ax.plot_surface(X, Y, Z, rstride=1, cstride=1,cmap='viridis', edgecolor='none')\n",
    "\n",
    "  ax.set_xlabel('x')\n",
    "  ax.set_ylabel('y')\n",
    "  ax.set_zlabel('z')\n",
    "  ax.set_title(title)\n",
    "  plt.show()\n",
    "\n",
    "plotting(title = \"MLP plot\")"
   ],
   "metadata": {
    "collapsed": false,
    "pycharm": {
     "name": "#%%\n"
    }
   }
  },
  {
   "cell_type": "markdown",
   "metadata": {
    "id": "7DtLAouK6bFq"
   },
   "source": [
    "*Exercice 2*\n"
   ]
  },
  {
   "cell_type": "code",
   "metadata": {
    "id": "zk8CnuFu8HMi"
   },
   "source": [
    "def expectationFunction(omega ,W ,bias ,input, target, N, rho, sigma):\n",
    "\n",
    "  v = omega[-N:]\n",
    "\n",
    "  x = input.to_numpy()\n",
    "\n",
    "  mult = np.matmul(inputs, W)\n",
    "\n",
    "  linearResult = mult + bias.T\n",
    "\n",
    "  acti = activationFunction(linearResult, sigma)\n",
    "\n",
    "  f_x = np.matmul(v,acti.T)\n",
    "\n",
    "  y = target.to_numpy()\n",
    "  y = y.reshape((-1)) \n",
    "\n",
    "  P = len(input)\n",
    "\n",
    "  firstTermE = (1/(2*P))* sum((f_x - y)**2)\n",
    "\n",
    "  omega = [v, W, bias]\n",
    "\n",
    "  regularizationTerm = (rho/2)*(omega_norm)\n",
    "\n",
    "  E = firstTermE + regularizationTerm\n",
    "\n",
    "  return  E"
   ],
   "execution_count": null,
   "outputs": []
  },
  {
   "cell_type": "code",
   "metadata": {
    "id": "aN7RvTLO6dD2"
   },
   "source": [
    "omega2 = v\n",
    "W = omega[:-2*N].reshape((2,N))\n",
    "bias = omega[-2*N:-N]\n",
    "res = minimize(expectationFunction, omega2, args=((W, bias, X_train ,y_train ,N ,rho ,sigma)), method = 'CG', options={\"maxiter\":1000})"
   ],
   "execution_count": null,
   "outputs": []
  },
  {
   "cell_type": "code",
   "metadata": {
    "colab": {
     "base_uri": "https://localhost:8080/"
    },
    "id": "aaYmlMe179lZ",
    "outputId": "df872170-278d-4ca7-f2fb-6b097653988a"
   },
   "source": [
    "print(res)"
   ],
   "execution_count": null,
   "outputs": []
  }
 ]
}