{
 "nbformat": 4,
 "nbformat_minor": 0,
 "metadata": {
  "colab": {
   "name": "Copie de OMML_projet_1.ipynb",
   "provenance": [],
   "collapsed_sections": [],
   "authorship_tag": "ABX9TyPHmDlj/WAzVEy1/m8MCMl0",
   "include_colab_link": true
  },
  "kernelspec": {
   "name": "python3",
   "display_name": "Python 3"
  },
  "language_info": {
   "name": "python"
  }
 },
 "cells": [
  {
   "cell_type": "markdown",
   "metadata": {
    "id": "view-in-github",
    "colab_type": "text"
   },
   "source": [
    "<a href=\"https://colab.research.google.com/github/joonasrooben/OMML_JAB/blob/main/OMML_projet_1.ipynb\" target=\"_parent\"><img src=\"https://colab.research.google.com/assets/colab-badge.svg\" alt=\"Open In Colab\"/></a>"
   ]
  },
  {
   "cell_type": "markdown",
   "metadata": {
    "id": "9WlCND-afjAa"
   },
   "source": [
    "*OMML PROJECT*"
   ]
  },
  {
   "cell_type": "markdown",
   "metadata": {
    "id": "bXPDBQVwhrGN"
   },
   "source": [
    "### Imports"
   ]
  },
  {
   "cell_type": "code",
   "metadata": {
    "id": "DsL2bv_BftMS"
   },
   "source": [
    "import pandas as pd\n",
    "from sklearn.model_selection import train_test_split\n",
    "import numpy as np\n",
    "import math\n",
    "from scipy.optimize import minimize\n",
    "import sphinx"
   ],
   "execution_count": 5,
   "outputs": []
  },
  {
   "cell_type": "markdown",
   "metadata": {
    "id": "mZgyi4cYh0dr"
   },
   "source": [
    "### Data analysis"
   ]
  },
  {
   "cell_type": "code",
   "metadata": {
    "id": "NiDyx0cOf6Us"
   },
   "source": [
    "data = pd.read_csv('DATA (1).csv')"
   ],
   "execution_count": 6,
   "outputs": []
  },
  {
   "cell_type": "code",
   "execution_count": 7,
   "outputs": [
    {
     "data": {
      "text/plain": "         x1        x2         y\n0  1.725110  2.665940  0.101883\n1 -1.137973 -1.059821  2.172760\n2  1.652338  2.958089  0.118859\n3  1.866858 -1.740966 -0.289316\n4 -1.760604  1.350072  0.104652\n5  1.871249 -0.911920  0.022725",
      "text/html": "<div>\n<style scoped>\n    .dataframe tbody tr th:only-of-type {\n        vertical-align: middle;\n    }\n\n    .dataframe tbody tr th {\n        vertical-align: top;\n    }\n\n    .dataframe thead th {\n        text-align: right;\n    }\n</style>\n<table border=\"1\" class=\"dataframe\">\n  <thead>\n    <tr style=\"text-align: right;\">\n      <th></th>\n      <th>x1</th>\n      <th>x2</th>\n      <th>y</th>\n    </tr>\n  </thead>\n  <tbody>\n    <tr>\n      <th>0</th>\n      <td>1.725110</td>\n      <td>2.665940</td>\n      <td>0.101883</td>\n    </tr>\n    <tr>\n      <th>1</th>\n      <td>-1.137973</td>\n      <td>-1.059821</td>\n      <td>2.172760</td>\n    </tr>\n    <tr>\n      <th>2</th>\n      <td>1.652338</td>\n      <td>2.958089</td>\n      <td>0.118859</td>\n    </tr>\n    <tr>\n      <th>3</th>\n      <td>1.866858</td>\n      <td>-1.740966</td>\n      <td>-0.289316</td>\n    </tr>\n    <tr>\n      <th>4</th>\n      <td>-1.760604</td>\n      <td>1.350072</td>\n      <td>0.104652</td>\n    </tr>\n    <tr>\n      <th>5</th>\n      <td>1.871249</td>\n      <td>-0.911920</td>\n      <td>0.022725</td>\n    </tr>\n  </tbody>\n</table>\n</div>"
     },
     "execution_count": 7,
     "metadata": {},
     "output_type": "execute_result"
    }
   ],
   "source": [
    "data.head(6)"
   ],
   "metadata": {
    "collapsed": false,
    "pycharm": {
     "name": "#%%\n"
    }
   }
  },
  {
   "cell_type": "markdown",
   "metadata": {
    "id": "mUAiRafsh7xt"
   },
   "source": []
  },
  {
   "cell_type": "markdown",
   "metadata": {
    "id": "MgPYfz1Zh9q2"
   },
   "source": [
    "### Split the dataset\n",
    "\n",
    "We put 0.255 for the test_size instead of 0.25 to be sure to have 186 observations in the training_data"
   ]
  },
  {
   "cell_type": "code",
   "metadata": {
    "id": "8e4AZtca2dUi"
   },
   "source": [
    "X_train, X_test, y_train, y_test = train_test_split(data[['x1','x2']], data[['y']], test_size=0.255, random_state=1990243)"
   ],
   "execution_count": 8,
   "outputs": []
  },
  {
   "cell_type": "code",
   "metadata": {
    "id": "JIdYkFCqiuU6",
    "colab": {
     "base_uri": "https://localhost:8080/"
    },
    "outputId": "013eeb76-fca3-40ac-f42f-d6a5dbf531bf"
   },
   "source": [
    "n = len(X_train)\n",
    "n"
   ],
   "execution_count": 9,
   "outputs": [
    {
     "data": {
      "text/plain": "186"
     },
     "execution_count": 9,
     "metadata": {},
     "output_type": "execute_result"
    }
   ]
  },
  {
   "cell_type": "markdown",
   "metadata": {
    "id": "lrkdpvQ9jrMJ"
   },
   "source": [
    "### Question 1\n"
   ]
  },
  {
   "cell_type": "markdown",
   "metadata": {
    "id": "nBxl-IPVkXAU"
   },
   "source": [
    "#### Question 1.1\n"
   ]
  },
  {
   "cell_type": "markdown",
   "metadata": {
    "id": "u5xebk1XsZgQ"
   },
   "source": [
    "**Activation function**\n",
    "\n",
    "We define the acivation function."
   ]
  },
  {
   "cell_type": "code",
   "metadata": {
    "id": "VLLqSq9ukczJ"
   },
   "source": [
    "\n",
    "def activationFunction(t, sigma = 1):\n",
    "  \"\"\"\n",
    "  This function is the activation function tanh with two parameters. To optimise our model we have to vary the sigma.\n",
    "  :param t: input\n",
    "  :param sigma: the spread σ\n",
    "  :return:\n",
    "  \"\"\"\n",
    "  return (np.exp(2*sigma*t)-1)/(np.exp(2*sigma*t)+1)"
   ],
   "execution_count": 10,
   "outputs": []
  },
  {
   "cell_type": "markdown",
   "metadata": {
    "id": "ctZ_0UpapcD9"
   },
   "source": [
    "**Weight Initialization for Tanh**\n",
    "\n",
    "The current standard approach for initialization of the weights of neural network layers and nodes that use the Sigmoid or TanH activation function is called “glorot” or “xavier” initialization\n",
    "\n",
    "The xavier initialization method is calculated as a random number with a uniform probability distribution (U) between the range -(1/sqrt(n)) and 1/sqrt(n), where n is the number of inputs to the node.\n",
    "\n",
    "weight = U [-(1/sqrt(n)), 1/sqrt(n)]"
   ]
  },
  {
   "cell_type": "markdown",
   "metadata": {
    "id": "iETR046E5yD4"
   },
   "source": [
    "Let's define all the hyperparameters here\n",
    "Let's put 3 neurons in our hidden layer"
   ]
  },
  {
   "cell_type": "code",
   "metadata": {
    "id": "HRfyz74e55Is"
   },
   "source": [
    "N = 5\n",
    "rho = 1\n",
    "sigma = 1"
   ],
   "execution_count": 11,
   "outputs": []
  },
  {
   "cell_type": "code",
   "metadata": {
    "id": "zdXnMqshomgJ"
   },
   "source": [
    "\n",
    "def createWeightsForOneNeuron(N):\n",
    "  \"\"\"\n",
    "  We want to create a vector of weight using the “xavier” initialization.\n",
    "  :param N: the number of neurons in the hidden layer\n",
    "  :return: a array of weights\n",
    "  \"\"\"\n",
    "  initial_weights_one_neuron = []\n",
    "  for i in range(0,N):\n",
    "    initial_weights_one_neuron.append(np.random.uniform(low = -(1/math.sqrt(N)), high = 1/math.sqrt(N)))\n",
    "  return initial_weights_one_neuron\n",
    "\n",
    "def create_initial_weights(N):\n",
    "  \"\"\"\n",
    "  We want to crate the 2D-matrix of weights \"W\".\n",
    "  :param N: the number of neurons in the hidden layer\n",
    "  :return: a 2D-array of weights\n",
    "  \"\"\"\n",
    "  initial_weights = []\n",
    "  for i in range(0,2):\n",
    "    initial_weights.append(createWeightsForOneNeuron(N))\n",
    "  return initial_weights"
   ],
   "execution_count": 12,
   "outputs": []
  },
  {
   "cell_type": "code",
   "metadata": {
    "id": "zWIPr3h-lUTG"
   },
   "source": [
    "def multInputWeights(input, initialWeights):\n",
    "  \"\"\"\n",
    "  We make here the multiplication of the inputs (X) with the weights (W) --> X*W  where X is (n,2) and W is (2,N).\n",
    "  So we end up with a matrix mult (n,N).\n",
    "  :param input: inputs\n",
    "  :param initialWeights: weights of the input\n",
    "  :return: 2D-array (n,N) dimension\n",
    "  \"\"\"\n",
    "  return np.matmul(input,initialWeights)"
   ],
   "execution_count": 13,
   "outputs": []
  },
  {
   "cell_type": "markdown",
   "metadata": {
    "id": "jLWwVePIBD4t"
   },
   "source": [
    "Create vector of bias"
   ]
  },
  {
   "cell_type": "code",
   "metadata": {
    "id": "0piXaQl1BHaQ"
   },
   "source": [
    "def createBias(N):\n",
    "  \"\"\"\n",
    "  Creation vector of bias\n",
    "  :param N: the number of neurons in the hidden layer\n",
    "  :return: vector of bias\n",
    "  \"\"\"\n",
    "  return np.ones((N,1))"
   ],
   "execution_count": 14,
   "outputs": []
  },
  {
   "cell_type": "markdown",
   "metadata": {
    "id": "T3D0ohloB7zM"
   },
   "source": [
    "Until now we have the elements to create the equation\n",
    "$$\n",
    " \\sum_{i = 1}^{n}{w_{ji}*x_{i} + b_{j}}\n",
    "$$\n",
    "\n"
   ]
  },
  {
   "cell_type": "code",
   "metadata": {
    "id": "2kgWMwFXCgE7",
    "colab": {
     "base_uri": "https://localhost:8080/"
    },
    "outputId": "b9d23a51-6653-4eee-99bc-be84878a50c2"
   },
   "source": [
    "def computeLinearResult(mult, bias):\n",
    "  \"\"\"\n",
    "  return the linear regression\n",
    "  :param mult: multiplication of inputs and weights\n",
    "  :param bias: vector of bias\n",
    "  :return:\n",
    "  \"\"\"\n",
    "  return mult + bias"
   ],
   "execution_count": 15,
   "outputs": []
  },
  {
   "cell_type": "markdown",
   "metadata": {
    "id": "-HLf4s70DLX6"
   },
   "source": [
    "We generate weigths for hidden layers\n"
   ]
  },
  {
   "cell_type": "code",
   "metadata": {
    "id": "sZ0-6E8NDR55"
   },
   "source": [
    "def createWeightsForHiddenLayer(N):\n",
    "  \"\"\"\n",
    "  We want to create a vector of weight using the “xavier” initialization. the vector of weight is V.\n",
    "  :param N: the number of neurons in the hidden layer\n",
    "  :return: a array of weights\n",
    "  \"\"\"\n",
    "  weightHiddenLayer = []\n",
    "  for i in range(0,N):\n",
    "    weightHiddenLayer.append(np.random.uniform(low = -(1/math.sqrt(N)), high = 1/math.sqrt(N)))\n",
    "  return weightHiddenLayer"
   ],
   "execution_count": 16,
   "outputs": []
  },
  {
   "cell_type": "code",
   "metadata": {
    "id": "Hnw9ha37qIWD",
    "colab": {
     "base_uri": "https://localhost:8080/"
    },
    "outputId": "08f848aa-e098-4614-92e5-ff7ada6226c0"
   },
   "source": [
    "\n",
    "def computeLinearOutput(v, activationOutput):\n",
    "  return np.matmul(v,activationOutput.T)"
   ],
   "execution_count": 17,
   "outputs": []
  },
  {
   "cell_type": "markdown",
   "metadata": {
    "id": "R3hgqRANFqNX"
   },
   "source": [
    "Now we have the MLP. We'll computed the regularized training error function E(v,w,b)"
   ]
  },
  {
   "cell_type": "code",
   "metadata": {
    "id": "TZoWmT7ysPTz"
   },
   "source": [
    "\n",
    "def computeEmpiricalRisk(target, output, P):\n",
    "  \"\"\"\n",
    "  Compute empirical risk.\n",
    "\n",
    "  :param target: this will be the y or f(x1,x2)\n",
    "  :param output: output of the model\n",
    "  :param P: number of observations\n",
    "  :return:\n",
    "  \"\"\"\n",
    "  return (1/(2*P))* sum((output - target)**2)\n"
   ],
   "execution_count": 18,
   "outputs": []
  },
  {
   "cell_type": "markdown",
   "metadata": {
    "id": "atHuItHCKYou"
   },
   "source": [
    "First create the regularization term\n",
    "\n"
   ]
  },
  {
   "cell_type": "code",
   "metadata": {
    "id": "DG-KiO5CKgEy"
   },
   "source": [
    "def computeRegularizationTerm(omega, rho = 1):\n",
    "    \"\"\"\n",
    "    Compute the regularization term for the vector ω = (v,w,b).\n",
    "    :param omega: ω = (v,w,b).\n",
    "    :return:\n",
    "    \"\"\"\n",
    "    normV = np.linalg.norm(omega[0]**2)\n",
    "    normW = np.linalg.norm(omega[1]**2)\n",
    "    normB = np.linalg.norm(omega[2]**2)\n",
    "\n",
    "    omega_norm = normV + normW + normB\n",
    "\n",
    "    return (rho/2)*(omega_norm)\n"
   ],
   "execution_count": 19,
   "outputs": []
  },
  {
   "cell_type": "markdown",
   "metadata": {
    "id": "sHAjb_C37H8I"
   },
   "source": [
    "To resume a big function we have "
   ]
  },
  {
   "cell_type": "code",
   "metadata": {
    "id": "vXeEYq9a7G9o"
   },
   "source": [
    "def MLP(omega ,input, target, N, rho, sigma):\n",
    "\n",
    "  W = omega[:-2*N].reshape((2,N))\n",
    "  v = omega[-N:]\n",
    "  bias = omega[-2*N:-N]\n",
    "\n",
    "  # X*W\n",
    "  mult = multInputWeights(input, W)\n",
    "  # sum(X*W) + b\n",
    "  linearResult = computeLinearResult(mult, bias)\n",
    "  # g(sum(X*W) + b)\n",
    "  acti = activationFunction(linearResult, sigma)\n",
    "  # output of the model : sum(v* g(sum(X*W) + b))\n",
    "  f_x = computeLinearOutput(v, acti)\n",
    "  # reshape the target\n",
    "  y = target.to_numpy()\n",
    "  y = y.reshape((-1))\n",
    "  # number of observations\n",
    "  P = len(input)\n",
    "  expectationRisk = computeEmpiricalRisk(y, f_x, P)\n",
    "  omega = [v, W, bias]\n",
    "  regularizationTerm = computeRegularizationTerm(omega, rho)\n",
    "\n",
    "  return  expectationRisk + regularizationTerm"
   ],
   "execution_count": 20,
   "outputs": []
  },
  {
   "cell_type": "code",
   "metadata": {
    "id": "9ChSjXf38kQk",
    "colab": {
     "base_uri": "https://localhost:8080/"
    },
    "outputId": "1adebaca-e1a1-4862-c347-9cb64171213c"
   },
   "source": [
    "N = 20\n",
    "rho = 1e-5\n",
    "sigma = 1\n",
    "W = np.array(create_initial_weights(N))\n",
    "v = np.array(createWeightsForHiddenLayer(N))\n",
    "bias = createBias(N)\n",
    "omega = np.append(np.append(W.flatten(), bias), v)"
   ],
   "execution_count": 21,
   "outputs": []
  },
  {
   "cell_type": "code",
   "metadata": {
    "id": "kX6oq-omDzg1",
    "colab": {
     "base_uri": "https://localhost:8080/"
    },
    "outputId": "47605911-5a24-42de-dd13-345bdfc3cb7a"
   },
   "source": [
    "MLP(omega, X_train ,y_train ,N ,rho ,sigma)"
   ],
   "execution_count": 22,
   "outputs": [
    {
     "data": {
      "text/plain": "0.9558214537249524"
     },
     "execution_count": 22,
     "metadata": {},
     "output_type": "execute_result"
    }
   ]
  },
  {
   "cell_type": "markdown",
   "source": [],
   "metadata": {
    "collapsed": false
   }
  },
  {
   "cell_type": "code",
   "metadata": {
    "id": "ijo7xW6tD-l3"
   },
   "source": [
    "res = minimize(MLP, omega, args=((X_train ,y_train ,N ,rho ,sigma)), method = 'CG', options={\"maxiter\":300})"
   ],
   "execution_count": 23,
   "outputs": []
  },
  {
   "cell_type": "markdown",
   "source": [],
   "metadata": {
    "collapsed": false
   }
  },
  {
   "cell_type": "code",
   "metadata": {
    "colab": {
     "base_uri": "https://localhost:8080/"
    },
    "id": "261aVeMFoT6j",
    "outputId": "ef062f3a-53e9-4c45-dd11-ad325aa06dbb"
   },
   "source": [
    "print(res)"
   ],
   "execution_count": 24,
   "outputs": [
    {
     "name": "stdout",
     "output_type": "stream",
     "text": [
      "     fun: 0.0030022340003468735\n",
      "     jac: array([-8.77069833e-05,  1.37551373e-03, -4.52262204e-04,  2.74050195e-04,\n",
      "        7.10633700e-04, -3.06989934e-03,  7.67792517e-04, -7.38446019e-04,\n",
      "        4.22946236e-04, -7.29530235e-04, -7.61946751e-04, -3.00959108e-03,\n",
      "       -1.26875224e-03, -3.11997166e-04,  4.89925063e-04, -7.24500307e-04,\n",
      "       -4.31250402e-04,  5.48179523e-04, -2.10219549e-03,  4.02715523e-04,\n",
      "        3.96246323e-05,  2.25658016e-03,  2.72044371e-03,  1.19118486e-04,\n",
      "        1.75538825e-03, -5.85323520e-04,  1.68874997e-03,  3.22004460e-04,\n",
      "        1.04596111e-03, -4.70725005e-04, -1.59055140e-04, -7.87062134e-04,\n",
      "        1.13414135e-04, -9.26563778e-04,  6.12296222e-04, -9.58289689e-04,\n",
      "        1.52060995e-04,  1.32162342e-03,  3.50374437e-04,  2.54896935e-04,\n",
      "       -2.91311444e-04,  5.78430627e-04, -4.47568280e-04, -1.21193880e-05,\n",
      "        3.39589053e-04, -1.86055046e-03, -2.10938160e-05, -1.38149451e-04,\n",
      "        2.53639038e-04, -3.88837943e-05,  3.25476954e-04,  1.87863171e-03,\n",
      "        5.64167131e-04, -8.87822942e-04,  1.27851643e-04, -4.68595303e-04,\n",
      "        1.97558256e-05,  3.02282046e-04, -8.13696912e-04, -3.59598198e-06,\n",
      "       -2.23573006e-05,  1.16078361e-03, -1.59327546e-03, -4.91480023e-04,\n",
      "        7.73922657e-05,  6.38401893e-04,  1.34976546e-03,  2.51550745e-03,\n",
      "       -3.93791997e-05, -8.25607800e-04, -2.12653243e-03, -1.42907276e-03,\n",
      "        4.86289646e-04,  1.80550403e-03, -2.92148441e-04, -9.55135183e-04,\n",
      "        1.35932027e-03, -4.04249004e-05, -1.49907687e-03, -4.76305431e-04])\n",
      " message: 'Maximum number of iterations has been exceeded.'\n",
      "    nfev: 39933\n",
      "     nit: 300\n",
      "    njev: 493\n",
      "  status: 1\n",
      " success: False\n",
      "       x: array([-0.95008257,  0.01357104,  1.74159358,  0.01542   ,  0.1641397 ,\n",
      "       -1.68610051, -1.52708148, -0.98512756,  0.09248423,  0.6563753 ,\n",
      "        1.17687748,  2.10769187,  0.28630964, -0.87330298,  0.04303036,\n",
      "        0.94761523, -0.17198214,  0.10744131,  0.05011851,  0.06608019,\n",
      "        1.64483185, -0.90124769,  0.32344279,  0.176629  , -0.41097271,\n",
      "       -0.20550156,  0.37952439, -1.90748806, -0.32301218, -0.49374515,\n",
      "        0.5622108 , -0.29002261, -1.82783467, -0.68620745, -0.12139788,\n",
      "       -0.76401972, -1.45819292, -0.32770273,  1.75528999,  0.05420181,\n",
      "        0.57829756,  1.60558872,  1.26863867,  1.02945948,  1.29877525,\n",
      "        2.86368175,  1.28075019,  0.74342532,  1.25947162,  1.01645212,\n",
      "        1.64282843,  3.76328303,  1.18861459,  1.12319111,  1.1364022 ,\n",
      "        1.15248789,  0.93689976,  1.255188  ,  1.23442364,  1.09765792,\n",
      "        0.25116003, -1.2521692 , -1.78660271, -0.31603845, -0.72990095,\n",
      "        1.93362736, -1.50391541,  0.67712987, -0.48957055,  0.36088119,\n",
      "        0.50841414,  2.31990239,  0.64010492,  0.72321633, -0.46102011,\n",
      "        0.82998579,  0.21559009, -0.60968181,  1.87626011, -0.43309898])\n"
     ]
    }
   ]
  },
  {
   "cell_type": "markdown",
   "source": [
    "Loss of the test set"
   ],
   "metadata": {
    "collapsed": false
   }
  },
  {
   "cell_type": "code",
   "execution_count": 25,
   "outputs": [
    {
     "data": {
      "text/plain": "0.005317903101328605"
     },
     "execution_count": 25,
     "metadata": {},
     "output_type": "execute_result"
    }
   ],
   "source": [
    "MLP(res.x, X_test ,y_test ,N ,rho ,sigma)"
   ],
   "metadata": {
    "collapsed": false,
    "pycharm": {
     "name": "#%%\n"
    }
   }
  },
  {
   "cell_type": "markdown",
   "source": [
    "Now we feed"
   ],
   "metadata": {
    "collapsed": false
   }
  },
  {
   "cell_type": "code",
   "execution_count": 26,
   "outputs": [],
   "source": [
    "def prediction(optimizedWeights, meshgrid1D):\n",
    "  W = optimizedWeights[:-2*N].reshape((2,N))\n",
    "  v = optimizedWeights[-N:]\n",
    "  bias = optimizedWeights[-2*N:-N]\n",
    "\n",
    "  mult = multInputWeights(meshgrid1D, W)\n",
    "  #bias = createBias(len(mult))\n",
    "  # sum(X*W) + b\n",
    "  linearResult = computeLinearResult(mult, bias)\n",
    "  # g(sum(X*W) + b)\n",
    "  acti = activationFunction(linearResult, sigma)\n",
    "  # output of the model : sum(v* g(sum(X*W) + b))\n",
    "  f_x = computeLinearOutput(v, acti)\n",
    "\n",
    "  return f_x\n",
    "#print(f_x)"
   ],
   "metadata": {
    "collapsed": false,
    "pycharm": {
     "name": "#%%\n"
    }
   }
  },
  {
   "cell_type": "code",
   "execution_count": 27,
   "outputs": [
    {
     "data": {
      "text/plain": "<Figure size 432x288 with 1 Axes>",
      "image/png": "[encoded data removed]"
     },
     "metadata": {
      "needs_background": "light"
     },
     "output_type": "display_data"
    }
   ],
   "source": [
    "import matplotlib.pyplot as plt\n",
    "from mpl_toolkits.mplot3d import Axes3D\n",
    "\n",
    "def plotting(title='Plotting of the function'): #if you do not provide a title, 'Plotting...' will be used\n",
    "  #create the object\n",
    "  fig = plt.figure()\n",
    "  ax = plt.axes(projection='3d')\n",
    "  n = 100\n",
    "\n",
    "  #create the grid\n",
    "  x = np.linspace(-2, 2, n) #create 50 points between [-5,5] evenly spaced\n",
    "  y = np.linspace(-3, 3, n)\n",
    "  X, Y = np.meshgrid(x, y)\n",
    "  mixed =  np.vstack((X.flatten(),Y.flatten())).T\n",
    "  #make the nxn grid into 2d array that can be fed into func\n",
    "  Z = prediction(res.x, mixed)#evaluate the function (note that X,Y,Z are matrix)\n",
    "  Z = Z.reshape((n,n))\n",
    "\n",
    "  ax.plot_surface(X, Y, Z, rstride=1, cstride=1,cmap='viridis', edgecolor='none')\n",
    "\n",
    "  ax.set_xlabel('x')\n",
    "  ax.set_ylabel('y')\n",
    "  ax.set_zlabel('z')\n",
    "  ax.set_title(title)\n",
    "  plt.show()\n",
    "\n",
    "plotting(title = \"MLP plot\")"
   ],
   "metadata": {
    "collapsed": false,
    "pycharm": {
     "name": "#%%\n"
    }
   }
  },
  {
   "cell_type": "markdown",
   "metadata": {
    "id": "7DtLAouK6bFq"
   },
   "source": [
    "*Exercice 2*\n"
   ]
  },
  {
   "cell_type": "code",
   "metadata": {
    "id": "zk8CnuFu8HMi"
   },
   "source": [
    "def expectationFunction(omega ,W ,bias ,input, target, N, rho, sigma):\n",
    "\n",
    "  v = omega[-N:]\n",
    "\n",
    "  mult = np.matmul(input, W)\n",
    "\n",
    "  linearResult = mult + bias.T\n",
    "\n",
    "  acti = activationFunction(linearResult, sigma)\n",
    "\n",
    "  f_x = np.matmul(v,acti.T)\n",
    "\n",
    "  y = target.to_numpy()\n",
    "  y = y.reshape((-1)) \n",
    "\n",
    "  P = len(input)\n",
    "\n",
    "  firstTermE = (1/(2*P))* sum((f_x - y)**2)\n",
    "\n",
    "  omega = [v, W, bias]\n",
    "\n",
    "  regularizationTerm = (rho/2)*(omega)\n",
    "\n",
    "  E = firstTermE + regularizationTerm\n",
    "\n",
    "  return  E"
   ],
   "execution_count": 28,
   "outputs": []
  },
  {
   "cell_type": "code",
   "execution_count": 30,
   "outputs": [],
   "source": [
    "def MLP(omega ,W ,bias ,input, target, N, rho, sigma):\n",
    "\n",
    "\n",
    "  v = omega[-N:]\n",
    "\n",
    "  # X*W\n",
    "  mult = multInputWeights(input, W)\n",
    "  # sum(X*W) + b\n",
    "  linearResult = computeLinearResult(mult, bias)\n",
    "  # g(sum(X*W) + b)\n",
    "  acti = activationFunction(linearResult, sigma)\n",
    "  # output of the model : sum(v* g(sum(X*W) + b))\n",
    "  f_x = computeLinearOutput(v, acti)\n",
    "  # reshape the target\n",
    "  y = target.to_numpy()\n",
    "  y = y.reshape((-1))\n",
    "  # number of observations\n",
    "  P = len(input)\n",
    "  expectationRisk = computeEmpiricalRisk(y, f_x, P)\n",
    "  omega = [v, W, bias]\n",
    "  regularizationTerm = computeRegularizationTerm(omega, rho)\n",
    "\n",
    "  return  expectationRisk + regularizationTerm"
   ],
   "metadata": {
    "collapsed": false,
    "pycharm": {
     "name": "#%%\n"
    }
   }
  },
  {
   "cell_type": "code",
   "metadata": {
    "id": "aN7RvTLO6dD2"
   },
   "source": [
    "omega2 = v\n",
    "W = omega[:-2*N].reshape((2,N))\n",
    "bias = omega[-2*N:-N]\n",
    "res = minimize(MLP, omega2, args=((W, bias, X_train ,y_train ,N ,rho ,sigma)), method = 'CG', options={\"maxiter\":300})"
   ],
   "execution_count": 32,
   "outputs": []
  },
  {
   "cell_type": "code",
   "metadata": {
    "colab": {
     "base_uri": "https://localhost:8080/"
    },
    "id": "aaYmlMe179lZ",
    "outputId": "df872170-278d-4ca7-f2fb-6b097653988a"
   },
   "source": [
    "print(res)"
   ],
   "execution_count": 33,
   "outputs": [
    {
     "name": "stdout",
     "output_type": "stream",
     "text": [
      "     fun: 0.2716386040583894\n",
      "     jac: array([1.45073980e-04, 2.15895474e-04, 1.07452273e-04, 1.95339322e-04,\n",
      "       1.74921006e-04, 1.68591738e-04, 1.98066235e-04, 2.71439552e-04,\n",
      "       2.58143991e-04, 3.29192728e-04, 2.44557858e-04, 2.37900764e-04,\n",
      "       3.52397561e-04, 1.88976526e-04, 1.28902495e-04, 3.37626785e-04,\n",
      "       3.73259187e-04, 2.07837671e-04, 4.10005450e-05, 2.42274255e-04])\n",
      " message: 'Maximum number of iterations has been exceeded.'\n",
      "    nfev: 15162\n",
      "     nit: 300\n",
      "    njev: 722\n",
      "  status: 1\n",
      " success: False\n",
      "       x: array([ 1.64702262,  3.78713099, 10.69046195,  0.23508399, -7.33304593,\n",
      "       -1.35941893, -8.25367858,  2.07869253, -5.03109244,  3.85668298,\n",
      "       -1.43901815,  4.54389539, -3.43763372,  1.3308752 ,  2.17015774,\n",
      "       -1.51352566,  1.05927396, -0.26482589,  5.72131114, -6.27377173])\n"
     ]
    }
   ]
  }
 ]
}