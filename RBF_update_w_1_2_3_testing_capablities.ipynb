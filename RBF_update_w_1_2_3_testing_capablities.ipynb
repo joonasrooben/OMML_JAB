{
 "cells": [
  {
   "cell_type": "markdown",
   "metadata": {},
   "source": [
    "# RBF version "
   ]
  },
  {
   "cell_type": "markdown",
   "metadata": {},
   "source": [
    "\n",
    "Lets define the RBF network"
   ]
  },
  {
   "cell_type": "code",
   "execution_count": 62,
   "metadata": {},
   "outputs": [],
   "source": [
    "import pandas as pd\n",
    "import scipy\n",
    "import numpy as np\n",
    "from sklearn.model_selection import train_test_split\n",
    "# grid search, K-fold validation, fix seed\n",
    "# find the model, but save the test loss and train loss for all the tried models\n",
    "# create plot over parameter values and losses\n",
    "import time"
   ]
  },
  {
   "cell_type": "code",
   "execution_count": 63,
   "metadata": {},
   "outputs": [],
   "source": [
    "data = pd.read_csv('DATA (1).csv')\n",
    "X_train, X_test, y_train, y_test = train_test_split(data[['x1','x2']], data[['y']], test_size=0.255, random_state=1990243)"
   ]
  },
  {
   "cell_type": "code",
   "execution_count": 64,
   "metadata": {},
   "outputs": [],
   "source": [
    "X_train = X_train.to_numpy()\n",
    "X_test = X_test.to_numpy()\n",
    "y_tr = y_train.to_numpy()\n",
    "y_te = y_test.to_numpy()"
   ]
  },
  {
   "cell_type": "code",
   "execution_count": 65,
   "metadata": {},
   "outputs": [
    {
     "name": "stdout",
     "output_type": "stream",
     "text": [
      "[[2.27634365 1.5056245  1.63685736 0.71664706]\n",
      " [1.41152679 1.75419945 0.2023436  1.25431312]]\n"
     ]
    }
   ],
   "source": [
    "mat1 = np.random.normal(size=(2,4,2)) \n",
    "mat2 = np.array([[0,3],[1,2]])\n",
    "res = (np.tile(mat2,(4,1)).reshape((2,4,2)))\n",
    "print(np.linalg.norm(mat1, axis=-1))"
   ]
  },
  {
   "cell_type": "code",
   "execution_count": 66,
   "metadata": {},
   "outputs": [],
   "source": [
    "# sigma is a RBF spread parameter and simga > 0\n",
    "def Gaussian(X, sigma):\n",
    "    return np.exp(-(np.linalg.norm(X,axis = -1)/sigma)**2)"
   ]
  },
  {
   "cell_type": "code",
   "execution_count": 67,
   "metadata": {},
   "outputs": [],
   "source": [
    "def RBF(W, args):\n",
    "    sigma = args[1]\n",
    "    X = args[2]\n",
    "    C = W[0]\n",
    "    v = W[1]\n",
    "    #print(v.shape, Gaussian(X-C,sigma).shape)\n",
    "    return np.matmul(v,Gaussian(X-C, sigma).T) "
   ]
  },
  {
   "cell_type": "code",
   "execution_count": 117,
   "metadata": {},
   "outputs": [],
   "source": [
    "def loss(W, args):\n",
    "    N = args[0]\n",
    "    if args[-1] == 1:\n",
    "        a = args[-2]\n",
    "        v = W\n",
    "    elif args[-1] == 2:\n",
    "        v = args[-2]\n",
    "        a = W.reshape(1,N,2) \n",
    "    else:\n",
    "        v = W[-N:]\n",
    "        a = W[:-N].reshape(1,N,2)\n",
    "\n",
    "    y = args[3]\n",
    "#    c = np.repeat(a,args[2].shape[0],axis=1).reshape((args[2].shape[0],N,2)).T\n",
    "    c = np.tile(a,(args[2].shape[0],1)).reshape(args[2].shape[0],N,2)\n",
    "\n",
    "    regu = np.sum(a**2) + np.sum(v**2)\n",
    "    loss = float((1/(2*len(args[2]))* np.sum((RBF((c,v), args) - y.T)**2, axis=1) + args[4]/2* regu)[0])\n",
    "    #print(loss)\n",
    "    return loss "
   ]
  },
  {
   "cell_type": "code",
   "execution_count": 198,
   "metadata": {},
   "outputs": [],
   "source": [
    "def grad_v(W, args):\n",
    "    N = args[0]\n",
    "    if args[-1] == 1:\n",
    "        a = args[-2]\n",
    "        v = W\n",
    "    elif args[-1] == 2:\n",
    "        v = args[-2]\n",
    "        a = W.reshape(1,N,2) \n",
    "    else:\n",
    "        v = W[-N:]\n",
    "        a = W[:-N].reshape(1,N,2)\n",
    "\n",
    "    y = args[3]\n",
    "#    c = np.repeat(a,args[2].shape[0],axis=1).reshape((args[2].shape[0],N,2)).T\n",
    "    c = np.tile(a,(args[2].shape[0],1)).reshape(args[2].shape[0],N,2)\n",
    "    phi = Gaussian(args[2]-c, args[1])\n",
    "    grads = phi.T @ (phi @ v - y.reshape(-1)) + len(args[2])*args[4]*v\n",
    "    return grads"
   ]
  },
  {
   "cell_type": "code",
   "execution_count": null,
   "metadata": {},
   "outputs": [],
   "source": [
    "def grad_c(W, args):\n",
    "    N = args[0]\n",
    "    if args[-1] == 1:\n",
    "        a = args[-2]\n",
    "        v = W\n",
    "    elif args[-1] == 2:\n",
    "        v = args[-2]\n",
    "        a = W.reshape(1,N,2) \n",
    "    else:\n",
    "        v = W[-N:]\n",
    "        a = W[:-N].reshape(1,N,2)\n",
    "\n",
    "    y = args[3]\n",
    "#    c = np.repeat(a,args[2].shape[0],axis=1).reshape((args[2].shape[0],N,2)).T\n",
    "    c = np.tile(a,(args[2].shape[0],1)).reshape(args[2].shape[0],N,2)\n",
    "    phi = Gaussian(args[2]-c, args[1])\n",
    "    grads = phi.T @ (phi @ v - y.reshape(-1)) + len(args[2])*args[4]*v\n",
    "    return grads"
   ]
  },
  {
   "cell_type": "code",
   "execution_count": 85,
   "metadata": {},
   "outputs": [],
   "source": [
    "def preproc(N, X_train, hold = False, seed = 123): #n: the nr of neurons; hold: if we want the centers to be chosen from X_train\n",
    "    np.random.seed(seed)\n",
    "    if hold == True:\n",
    "\n",
    "       a = X_train[np.random.choice(np.arange(X_train.shape[0]), N, replace=False)].reshape(1,N,2) \n",
    "    else:\n",
    "        a =  np.random.normal(size=(1, N, 2))\n",
    "    #res = np.tile(X_train,(N,1)).reshape((X_train.shape[0],N,2))\n",
    "    res = np.repeat(X_train,N,axis=0).reshape(X_train.shape[0],N,2)\n",
    "    \n",
    "    \n",
    "    #C = np.repeat(a,X_train.shape[0], axis=1).reshape(X_train.shape[0],N,2)\n",
    "    \n",
    "\n",
    "    v = np.random.normal(size = N)\n",
    "    return a,v,res # a:centers;v: weights; res: train data with compatible shape\n"
   ]
  },
  {
   "cell_type": "code",
   "execution_count": 86,
   "metadata": {},
   "outputs": [],
   "source": [
    "def func(W, args): #for plotting\n",
    "    N = args[0]\n",
    "    v = W[-N:]\n",
    "    a = W[:-N].reshape(1,N,2)\n",
    "    #c = np.repeat(a,args[2].shape[0],axis=1).reshape((args[2].shape[0],N,2))\n",
    "    c = np.tile(a,(args[2].shape[0],1)).reshape(args[2].shape[0],N,2)\n",
    "\n",
    "\n",
    "    return RBF((c,v), args)"
   ]
  },
  {
   "cell_type": "code",
   "execution_count": 87,
   "metadata": {},
   "outputs": [],
   "source": [
    "def test_error(W,  args):\n",
    "    N = args[0]\n",
    "    v = W[-N:]\n",
    "    a = W[:-N].reshape(1,N,2)\n",
    "    y = args[3]\n",
    "    #c = np.repeat(a,args[2].shape[0],axis=1).reshape((args[2].shape[0],N,2))\n",
    "    c = np.tile(a,(args[2].shape[0],1)).reshape(args[2].shape[0],N,2)\n",
    "\n",
    "\n",
    "    return float((1/(2*len(args[2]))* np.sum((RBF((c,v), args) - y.T)**2, axis=1)))"
   ]
  },
  {
   "cell_type": "code",
   "execution_count": 180,
   "metadata": {},
   "outputs": [
    {
     "name": "stdout",
     "output_type": "stream",
     "text": [
      "(3, 2) (2,)\n"
     ]
    },
    {
     "data": {
      "text/plain": [
       "array([5, 5, 5])"
      ]
     },
     "execution_count": 180,
     "metadata": {},
     "output_type": "execute_result"
    }
   ],
   "source": [
    "a = np.array([[1,2],[1,2],[1,2]])\n",
    "b = np.array([1,2])\n",
    "print(a.shape, b.shape)\n",
    "np.matmul(a,b)"
   ]
  },
  {
   "cell_type": "code",
   "execution_count": 202,
   "metadata": {},
   "outputs": [
    {
     "name": "stdout",
     "output_type": "stream",
     "text": [
      "1.3449853393709228\n",
      "     fun: 0.22656124103456926\n",
      "     jac: array([-3.37566294e-07, -1.18933983e-06, -3.18883372e-06, -3.45831378e-06,\n",
      "       -3.88465962e-07,  7.55615711e-07,  7.06336432e-06, -2.14919559e-06,\n",
      "        1.38448839e-06,  7.40408631e-08, -8.89464352e-06,  2.66899967e-06,\n",
      "       -2.36644429e-06,  5.31573273e-08, -7.78397609e-07,  4.92960818e-06,\n",
      "        7.87040800e-07, -1.47719032e-06, -6.16365602e-06, -5.41691442e-06,\n",
      "        1.78281057e-07,  1.32521703e-06,  5.97141135e-06, -6.39231447e-06,\n",
      "        5.91412514e-06, -1.16442322e-06,  1.51411385e-06, -9.72244441e-06,\n",
      "       -2.15794776e-06,  2.08362237e-06, -3.14953601e-06,  4.98143421e-06,\n",
      "        3.22527980e-06, -2.23854132e-06, -7.01484187e-06,  3.27621391e-06,\n",
      "       -2.35098050e-06,  7.00646719e-07, -8.20334113e-06,  3.61000899e-07,\n",
      "       -4.62317157e-06, -7.06543033e-07, -4.02309822e-07, -2.84947519e-06,\n",
      "       -6.97917396e-06,  1.81218434e-06, -9.36402262e-06,  7.39163746e-07,\n",
      "       -3.54606258e-06, -2.42641990e-06])\n",
      " message: 'Optimization terminated successfully.'\n",
      "    nfev: 543\n",
      "     nit: 108\n",
      "    njev: 543\n",
      "  status: 0\n",
      " success: True\n",
      "       x: array([ 0.13452655,  1.49695423,  2.59477559,  1.37941266,  0.05758474,\n",
      "        1.29335923,  1.29481379,  0.20492847,  2.02173359, -0.67325701,\n",
      "        0.96682678,  2.65509231, -0.04634164,  0.71412453,  0.78069056,\n",
      "       -1.60099552,  0.73055398,  0.40802737, -0.05418186, -0.05778263,\n",
      "        0.32426003,  0.49079389, -0.13520012,  2.76720263, -0.13427557,\n",
      "        2.0410446 ,  0.0312851 ,  0.17941176,  0.72769416,  0.76732052,\n",
      "       -0.19209565,  3.41685411,  0.24787225, -0.06251497,  0.18140993,\n",
      "       -0.11811687,  0.20885289, -0.42408367, -0.49214889,  0.54789364,\n",
      "        1.97383171,  0.38579606, -0.49991814, -0.26769443, -0.67650223,\n",
      "       -0.25528402,  0.2420053 ,  0.32333536,  0.488484  ,  0.41533445])\n"
     ]
    }
   ],
   "source": [
    "## main loop\n",
    "rho = 1e-3\n",
    "sigma =0.5 \n",
    "N = 50 \n",
    "seed = 123 #seed for weight initializtion\n",
    "met = 'CG'\n",
    "testing = 2 #which task are we testing\n",
    "\n",
    "if testing == 1:\n",
    "    C,V,res = preproc(N, X_train, seed= seed)\n",
    "    print(len(res))\n",
    "    shape = C.shape\n",
    "    args = (N,sigma, res, y_tr, rho, shape,None, 0) #three modes: 0: both supervised; 1: centers unsupervised; 2:weights v unsupervised\n",
    "    W = np.append(C.flatten(),V)\n",
    "    print(loss(W, args))\n",
    "    result_rbf = scipy.optimize.minimize(loss, W, args= (args,) , method=met, options = {\"maxiter\": 500})\n",
    "elif testing == 2:\n",
    "    C,V,res = preproc(N, X_train, 1, seed=seed)\n",
    "    shape = C.shape\n",
    "    args = (N,sigma, res, y_tr, rho, shape,C, 1) #three modes: 0: both supervised; 1: centers unsupervised; 2:weights v unsupervised\n",
    "    W = V \n",
    "    print(loss(W, args))\n",
    "    result_rbf = scipy.optimize.minimize(loss, W, args= (args,),jac=grad_v,  method=met)#, options = {\"maxiter\": 5})\n",
    "else:\n",
    "    C,V,res = preproc(N, X_train, 1, seed = seed)\n",
    "    shape = C.shape\n",
    "    args = (N,sigma, res, y_tr, rho, shape,C, 1) #three modes: 0: both supervised; 1: centers unsupervised; 2:weights v unsupervised\n",
    "    W = V \n",
    "    print(loss(W, args))\n",
    "    result_rbf = scipy.optimize.minimize(loss, W, args= (args,) , method=met)#, options = {\"maxiter\": 5})\n",
    "    print(result_rbf)\n",
    "    args = (N,sigma, res, y_tr, rho, shape,result_rbf.x, 2) #three modes: 0: both supervised; 1: centers unsupervised; 2:weights v unsupervised\n",
    "    W = C\n",
    "    print(loss(W, args))\n",
    "    result_rbf = scipy.optimize.minimize(loss, W, args= (args,) , method=met)#, options = {\"maxiter\": 5})\n",
    "print(result_rbf)\n",
    "\n",
    "\n"
   ]
  },
  {
   "cell_type": "code",
   "execution_count": 139,
   "metadata": {},
   "outputs": [
    {
     "name": "stdout",
     "output_type": "stream",
     "text": [
      "      fun: 1.3449853393737055\n",
      " hess_inv: <50x50 LbfgsInvHessProduct with dtype=float64>\n",
      "      jac: array([87.76782551, 87.26061999, 87.48669387, 87.91453305, 88.05177791,\n",
      "       87.78299826, 87.25856295, 88.8595486 , 88.22459229, 88.24171353,\n",
      "       87.89605894, 87.81225761, 87.73566112, 88.00554574, 87.56155661,\n",
      "       88.27501971, 88.3298744 , 87.33051747, 88.00817194, 87.5428656 ,\n",
      "       88.01527699, 88.15745158, 87.04611966, 87.07428714, 88.03079112,\n",
      "       88.52067875, 87.93834257, 87.52422939, 87.63708733, 88.31879177,\n",
      "       87.91029307, 87.93902325, 88.53414172, 88.06516315, 87.74572123,\n",
      "       87.42453011, 88.56880481, 87.01888946, 87.76576544, 87.73824923,\n",
      "       87.80930128, 88.45623893, 88.18917301, 87.90774104, 87.28587608,\n",
      "       88.0327641 , 87.51984815, 88.49885914, 87.85768732, 87.87381422])\n",
      "  message: 'ABNORMAL_TERMINATION_IN_LNSRCH'\n",
      "     nfev: 21\n",
      "      nit: 0\n",
      "     njev: 21\n",
      "   status: 2\n",
      "  success: False\n",
      "        x: array([-0.23590284, -1.41195749, -0.88776123,  0.10426711,  0.42249603,\n",
      "       -0.20072189, -1.41672713,  2.29546945,  0.82319976,  0.8628987 ,\n",
      "        0.06143129, -0.13287838, -0.31048223,  0.31529775, -0.71417742,\n",
      "        0.94012555,  1.06731682, -1.24988658,  0.3213871 , -0.75751615,\n",
      "        0.33786152,  0.66752096, -1.90931822, -1.84400643,  0.37383405,\n",
      "        1.5097338 ,  0.15947411, -0.80072783, -0.53904475,  1.04161958,\n",
      "        0.09443589,  0.1610524 ,  1.54095031,  0.45353229, -0.28715592,\n",
      "       -1.03189998,  1.62132343, -1.97245673, -0.24067951, -0.3044812 ,\n",
      "       -0.13973321,  1.36031756,  0.74107327,  0.08851851, -1.35339632,\n",
      "        0.3784088 , -0.81088658,  1.4591408 , -0.02754076,  0.0098526 ])\n"
     ]
    }
   ],
   "source": [
    "print(result_rbf)"
   ]
  },
  {
   "cell_type": "code",
   "execution_count": 203,
   "metadata": {},
   "outputs": [
    {
     "name": "stdout",
     "output_type": "stream",
     "text": [
      "0.13037709907863226\n"
     ]
    }
   ],
   "source": [
    "###testing settings:\n",
    "a,b, data_x = preproc(N,X_test)\n",
    "data_y = y_te \n",
    "if testing == 2:\n",
    "    W = np.append(C, result_rbf.x)\n",
    "elif testing == 1:\n",
    "    W = result_rbf.x\n",
    "else:\n",
    "    W = np.append(result_rbf.x, args[-2])\n",
    "\n",
    "args = (N, sigma, data_x, data_y, rho, shape)\n",
    "ter = test_error(W, args)\n",
    "print(ter)"
   ]
  },
  {
   "cell_type": "code",
   "execution_count": 197,
   "metadata": {},
   "outputs": [
    {
     "data": {
      "image/png": "[encoded data removed]",
      "text/plain": [
       "<Figure size 432x288 with 1 Axes>"
      ]
     },
     "metadata": {
      "needs_background": "light"
     },
     "output_type": "display_data"
    }
   ],
   "source": [
    "import matplotlib.pyplot as plt\n",
    "from mpl_toolkits.mplot3d import Axes3D\n",
    " \n",
    "\n",
    "def plotting( title='Plotting of the function'): #if you do not provide a title, 'Plotting...' will be used\n",
    "    #create the object\n",
    "    fig = plt.figure()\n",
    "    ax = plt.axes(projection='3d')\n",
    "    n = 100\n",
    "    #create the grid\n",
    "    x = np.linspace(-2, 2, n) #create 50 points between [-5,5] evenly spaced  \n",
    "    y = np.linspace(-3, 3, n)\n",
    "    X, Y = np.meshgrid(x, y) #create the grid for the plot\n",
    "    mixed =  np.vstack((X.flatten(),Y.flatten())).T\n",
    "    a,b,res = preproc(N,mixed)\n",
    "    Z = func(W, (N, sigma,res,y_tr,rho ))#evaluate the function (note that X,Y,Z are matrix)\n",
    "    Z = Z.reshape((n,n))\n",
    "    #print(Z.shape)\n",
    "\n",
    "\n",
    "    ax.plot_surface(X, Y, Z, rstride=1, cstride=1,cmap='viridis', edgecolor='none')\n",
    "\n",
    "    ax.set_xlabel('x')\n",
    "    ax.set_ylabel('y')\n",
    "    ax.set_zlabel('z')\n",
    "    ax.set_title(title)\n",
    "    plt.show()\n",
    "\n",
    "plotting()"
   ]
  }
 ],
 "metadata": {
  "interpreter": {
   "hash": "ed05c2fba0c6982c8e85a0b039cb2ee8ad65e9f3a45dd88bb0f58ebeb5da57e8"
  },
  "kernelspec": {
   "display_name": "Python 3.9.7 64-bit ('datas': conda)",
   "name": "python3"
  },
  "language_info": {
   "codemirror_mode": {
    "name": "ipython",
    "version": 3
   },
   "file_extension": ".py",
   "mimetype": "text/x-python",
   "name": "python",
   "nbconvert_exporter": "python",
   "pygments_lexer": "ipython3",
   "version": "3.9.7"
  },
  "toc": {
   "base_numbering": 1,
   "nav_menu": {},
   "number_sections": true,
   "sideBar": true,
   "skip_h1_title": false,
   "title_cell": "Table of Contents",
   "title_sidebar": "Contents",
   "toc_cell": false,
   "toc_position": {},
   "toc_section_display": true,
   "toc_window_display": false
  },
  "varInspector": {
   "cols": {
    "lenName": 16,
    "lenType": 16,
    "lenVar": 40
   },
   "kernels_config": {
    "python": {
     "delete_cmd_postfix": "",
     "delete_cmd_prefix": "del ",
     "library": "var_list.py",
     "varRefreshCmd": "print(var_dic_list())"
    },
    "r": {
     "delete_cmd_postfix": ") ",
     "delete_cmd_prefix": "rm(",
     "library": "var_list.r",
     "varRefreshCmd": "cat(var_dic_list()) "
    }
   },
   "types_to_exclude": [
    "module",
    "function",
    "builtin_function_or_method",
    "instance",
    "_Feature"
   ],
   "window_display": false
  }
 },
 "nbformat": 4,
 "nbformat_minor": 2
}
