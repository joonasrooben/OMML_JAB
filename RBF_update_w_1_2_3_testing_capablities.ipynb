{
 "cells": [
  {
   "cell_type": "markdown",
   "metadata": {},
   "source": [
    "# RBF version "
   ]
  },
  {
   "cell_type": "markdown",
   "metadata": {},
   "source": [
    "\n",
    "Lets define the RBF network"
   ]
  },
  {
   "cell_type": "code",
   "execution_count": 1,
   "metadata": {},
   "outputs": [],
   "source": [
    "import pandas as pd\n",
    "import scipy\n",
    "import numpy as np\n",
    "from sklearn.model_selection import train_test_split\n",
    "# grid search, K-fold validation, fix seed\n",
    "# find the model, but save the test loss and train loss for all the tried models\n",
    "# create plot over parameter values and losses\n",
    "import time"
   ]
  },
  {
   "cell_type": "code",
   "execution_count": 2,
   "metadata": {},
   "outputs": [],
   "source": [
    "data = pd.read_csv('DATA (1).csv')\n",
    "X_train, X_test, y_train, y_test = train_test_split(data[['x1','x2']], data[['y']], test_size=0.255, random_state=1990243)"
   ]
  },
  {
   "cell_type": "code",
   "execution_count": 3,
   "metadata": {},
   "outputs": [],
   "source": [
    "X_train = X_train.to_numpy()\n",
    "X_test = X_test.to_numpy()\n",
    "y_tr = y_train.to_numpy()\n",
    "y_te = y_test.to_numpy()"
   ]
  },
  {
   "cell_type": "code",
   "execution_count": 4,
   "metadata": {},
   "outputs": [
    {
     "name": "stdout",
     "output_type": "stream",
     "text": [
      "[[1.18640664 1.87469813 1.5987876  0.6779267 ]\n",
      " [0.80844183 2.45385595 1.35369738 1.4245906 ]]\n"
     ]
    }
   ],
   "source": [
    "mat1 = np.random.normal(size=(2,4,2)) \n",
    "mat2 = np.array([[0,3],[1,2]])\n",
    "res = (np.tile(mat2,(4,1)).reshape((2,4,2)))\n",
    "print(np.linalg.norm(mat1, axis=-1))"
   ]
  },
  {
   "cell_type": "code",
   "execution_count": 5,
   "metadata": {},
   "outputs": [],
   "source": [
    "# sigma is a RBF spread parameter and simga > 0\n",
    "def Gaussian(X, sigma):\n",
    "    return np.exp(-(np.linalg.norm(X,axis = -1)/sigma)**2)"
   ]
  },
  {
   "cell_type": "code",
   "execution_count": 6,
   "metadata": {},
   "outputs": [],
   "source": [
    "def RBF(W, args):\n",
    "    sigma = args[1]\n",
    "    X = args[2]\n",
    "    C = W[0]\n",
    "    v = W[1]\n",
    "    #print(v.shape, Gaussian(X-C,sigma).shape)\n",
    "    return np.matmul(v,Gaussian(X-C, sigma).T) "
   ]
  },
  {
   "cell_type": "code",
   "execution_count": 7,
   "metadata": {},
   "outputs": [],
   "source": [
    "def loss(W, args):\n",
    "    N = args[0]\n",
    "    if args[-1] == 1:\n",
    "        a = args[-2]\n",
    "        v = W\n",
    "    elif args[-1] == 2:\n",
    "        v = args[-2]\n",
    "        a = W.reshape(1,N,2) \n",
    "    else:\n",
    "        v = W[-N:]\n",
    "        a = W[:-N].reshape(1,N,2)\n",
    "\n",
    "    y = args[3]\n",
    "#    c = np.repeat(a,args[2].shape[0],axis=1).reshape((args[2].shape[0],N,2)).T\n",
    "    c = np.tile(a,(args[2].shape[0],1)).reshape(args[2].shape[0],N,2)\n",
    "\n",
    "    regu = np.sum(a**2) + np.sum(v**2)\n",
    "    loss = float((1/(2*len(args[2]))* np.sum((RBF((c,v), args) - y.T)**2, axis=1) + args[4]/2* regu)[0])\n",
    "    #print(loss)\n",
    "    return loss "
   ]
  },
  {
   "cell_type": "code",
   "execution_count": 8,
   "metadata": {},
   "outputs": [],
   "source": [
    "def grad_v(W, args):\n",
    "    N = args[0]\n",
    "    if args[-1] == 1:\n",
    "        a = args[-2]\n",
    "        v = W\n",
    "    elif args[-1] == 2:\n",
    "        v = args[-2]\n",
    "        a = W.reshape(1,N,2) \n",
    "    else:\n",
    "        v = W[-N:]\n",
    "        a = W[:-N].reshape(1,N,2)\n",
    "\n",
    "    y = args[3]\n",
    "#    c = np.repeat(a,args[2].shape[0],axis=1).reshape((args[2].shape[0],N,2)).T\n",
    "    c = np.tile(a,(args[2].shape[0],1)).reshape(args[2].shape[0],N,2)\n",
    "    phi = Gaussian(args[2]-c, args[1])\n",
    "    grads = phi.T @ (phi @ v - y.reshape(-1)) + len(args[2])*args[4]*v\n",
    "    return grads"
   ]
  },
  {
   "cell_type": "code",
   "execution_count": 9,
   "metadata": {},
   "outputs": [],
   "source": [
    "def grad_c(W, args):\n",
    "    N = args[0]\n",
    "    if args[-1] == 1:\n",
    "        a = args[-2]\n",
    "        v = W\n",
    "    elif args[-1] == 2:\n",
    "        v = args[-2]\n",
    "        a = W.reshape(1,N,2) \n",
    "    else:\n",
    "        v = W[-N:]\n",
    "        a = W[:-N].reshape(1,N,2)\n",
    "\n",
    "    y = args[3]\n",
    "#    c = np.repeat(a,args[2].shape[0],axis=1).reshape((args[2].shape[0],N,2)).T\n",
    "    c = np.tile(a,(args[2].shape[0],1)).reshape(args[2].shape[0],N,2)\n",
    "    phi = Gaussian(args[2]-c, args[1])\n",
    "    grads = phi.T @ (phi @ v - y.reshape(-1)) + len(args[2])*args[4]*v\n",
    "    return grads"
   ]
  },
  {
   "cell_type": "code",
   "execution_count": 10,
   "metadata": {},
   "outputs": [],
   "source": [
    "def preproc(N, X_train, hold = False, seed = 123): #n: the nr of neurons; hold: if we want the centers to be chosen from X_train\n",
    "    np.random.seed(seed)\n",
    "    if hold == True:\n",
    "\n",
    "       a = X_train[np.random.choice(np.arange(X_train.shape[0]), N, replace=False)].reshape(1,N,2) \n",
    "    else:\n",
    "        a =  np.random.normal(size=(1, N, 2))\n",
    "    #res = np.tile(X_train,(N,1)).reshape((X_train.shape[0],N,2))\n",
    "    res = np.repeat(X_train,N,axis=0).reshape(X_train.shape[0],N,2)\n",
    "    \n",
    "    \n",
    "    #C = np.repeat(a,X_train.shape[0], axis=1).reshape(X_train.shape[0],N,2)\n",
    "    \n",
    "\n",
    "    v = np.random.normal(size = N)\n",
    "    return a,v,res # a:centers;v: weights; res: train data with compatible shape\n"
   ]
  },
  {
   "cell_type": "code",
   "execution_count": 11,
   "metadata": {},
   "outputs": [],
   "source": [
    "def func(W, args): #for plotting\n",
    "    N = args[0]\n",
    "    v = W[-N:]\n",
    "    a = W[:-N].reshape(1,N,2)\n",
    "    #c = np.repeat(a,args[2].shape[0],axis=1).reshape((args[2].shape[0],N,2))\n",
    "    c = np.tile(a,(args[2].shape[0],1)).reshape(args[2].shape[0],N,2)\n",
    "\n",
    "\n",
    "    return RBF((c,v), args)"
   ]
  },
  {
   "cell_type": "code",
   "execution_count": 12,
   "metadata": {},
   "outputs": [],
   "source": [
    "def test_error(W,  args):\n",
    "    N = args[0]\n",
    "    v = W[-N:]\n",
    "    a = W[:-N].reshape(1,N,2)\n",
    "    y = args[3]\n",
    "    #c = np.repeat(a,args[2].shape[0],axis=1).reshape((args[2].shape[0],N,2))\n",
    "    c = np.tile(a,(args[2].shape[0],1)).reshape(args[2].shape[0],N,2)\n",
    "\n",
    "\n",
    "    return float((1/(2*len(args[2]))* np.sum((RBF((c,v), args) - y.T)**2, axis=1)))"
   ]
  },
  {
   "cell_type": "code",
   "execution_count": 13,
   "metadata": {},
   "outputs": [
    {
     "name": "stdout",
     "output_type": "stream",
     "text": [
      "(3, 2) (2,)\n"
     ]
    },
    {
     "data": {
      "text/plain": "array([5, 5, 5])"
     },
     "execution_count": 13,
     "metadata": {},
     "output_type": "execute_result"
    }
   ],
   "source": [
    "a = np.array([[1,2],[1,2],[1,2]])\n",
    "b = np.array([1,2])\n",
    "print(a.shape, b.shape)\n",
    "np.matmul(a,b)"
   ]
  },
  {
   "cell_type": "code",
   "execution_count": 14,
   "metadata": {},
   "outputs": [
    {
     "name": "stdout",
     "output_type": "stream",
     "text": [
      "1.3449853393709228\n",
      "     fun: 0.22656124103651004\n",
      "     jac: array([-8.69856081e-07,  5.65610691e-07, -9.16441316e-08, -3.65037234e-07,\n",
      "       -2.06185532e-06,  5.02659984e-07,  3.67033187e-06,  2.17052641e-06,\n",
      "       -6.29762114e-08, -2.78262701e-06,  2.34863022e-06, -2.39277191e-06,\n",
      "        1.08765376e-07, -6.18923998e-07, -3.18827483e-06, -2.22629321e-06,\n",
      "        3.08953905e-06, -1.94279000e-06, -9.56972519e-06, -9.76037038e-06,\n",
      "        6.34527396e-06, -3.53945684e-06, -5.58867318e-06, -1.14911017e-06,\n",
      "       -4.36309420e-06,  1.17417843e-06,  4.12157327e-06, -9.90538533e-06,\n",
      "        3.10742430e-06,  4.42550512e-07, -3.64270187e-06, -2.02474408e-06,\n",
      "       -4.62387756e-07, -3.47698440e-07, -2.82928044e-06,  2.49137414e-06,\n",
      "        2.12134928e-07,  6.43026416e-08, -1.23343408e-06, -2.82756928e-06,\n",
      "       -1.88540750e-06, -9.87968825e-06,  7.62432288e-07, -1.13769720e-07,\n",
      "        8.78309067e-07, -5.80167567e-08, -4.97002770e-06,  1.51278393e-06,\n",
      "       -3.24392949e-06, -1.85402900e-06])\n",
      " message: 'Optimization terminated successfully.'\n",
      "    nfev: 527\n",
      "     nit: 106\n",
      "    njev: 527\n",
      "  status: 0\n",
      " success: True\n",
      "       x: array([ 0.1345296 ,  1.49695615,  2.59478143,  1.37941353,  0.05758005,\n",
      "        1.29335899,  1.29482641,  0.20493314,  2.02173501, -0.67325393,\n",
      "        0.96682968,  2.65509184, -0.0463407 ,  0.71412306,  0.780673  ,\n",
      "       -1.60099734,  0.73056093,  0.40802551, -0.05419037, -0.05779484,\n",
      "        0.32429006,  0.4907866 , -0.1352007 ,  2.76720206, -0.13429473,\n",
      "        2.04104588,  0.03129031,  0.17940085,  0.72770001,  0.76732166,\n",
      "       -0.19208464,  3.41685015,  0.24787076, -0.06251676,  0.18143483,\n",
      "       -0.1181185 ,  0.20885428, -0.42407718, -0.49215298,  0.54787903,\n",
      "        1.97383304,  0.38578574, -0.49991793, -0.26769954, -0.67649577,\n",
      "       -0.25528273,  0.24200919,  0.32333062,  0.4884787 ,  0.41533696])\n"
     ]
    }
   ],
   "source": [
    "## main loop\n",
    "rho = 1e-3\n",
    "sigma =0.5 \n",
    "N = 50 \n",
    "seed = 123 #seed for weight initializtion\n",
    "met = 'CG'\n",
    "testing = 2 #which task are we testing\n",
    "\n",
    "if testing == 1:\n",
    "    C,V,res = preproc(N, X_train, seed= seed)\n",
    "    print(len(res))\n",
    "    shape = C.shape\n",
    "    args = (N,sigma, res, y_tr, rho, shape,None, 0) #three modes: 0: both supervised; 1: centers unsupervised; 2:weights v unsupervised\n",
    "    W = np.append(C.flatten(),V)\n",
    "    print(loss(W, args))\n",
    "    result_rbf = scipy.optimize.minimize(loss, W, args= (args,) , method=met, options = {\"maxiter\": 500})\n",
    "elif testing == 2:\n",
    "    C,V,res = preproc(N, X_train, 1, seed=seed)\n",
    "    shape = C.shape\n",
    "    args = (N,sigma, res, y_tr, rho, shape,C, 1) #three modes: 0: both supervised; 1: centers unsupervised; 2:weights v unsupervised\n",
    "    W = V \n",
    "    print(loss(W, args))\n",
    "    result_rbf = scipy.optimize.minimize(loss, W, args= (args,),jac=grad_v,  method=met)#, options = {\"maxiter\": 5})\n",
    "else:\n",
    "    C,V,res = preproc(N, X_train, 1, seed = seed)\n",
    "    shape = C.shape\n",
    "    args = (N,sigma, res, y_tr, rho, shape,C, 1) #three modes: 0: both supervised; 1: centers unsupervised; 2:weights v unsupervised\n",
    "    W = V \n",
    "    print(loss(W, args))\n",
    "    result_rbf = scipy.optimize.minimize(loss, W, args= (args,) , method=met)#, options = {\"maxiter\": 5})\n",
    "    print(result_rbf)\n",
    "    args = (N,sigma, res, y_tr, rho, shape,result_rbf.x, 2) #three modes: 0: both supervised; 1: centers unsupervised; 2:weights v unsupervised\n",
    "    W = C\n",
    "    print(loss(W, args))\n",
    "    result_rbf = scipy.optimize.minimize(loss, W, args= (args,) , method=met)#, options = {\"maxiter\": 5})\n",
    "print(result_rbf)\n",
    "\n",
    "\n"
   ]
  },
  {
   "cell_type": "code",
   "execution_count": 15,
   "metadata": {},
   "outputs": [
    {
     "name": "stdout",
     "output_type": "stream",
     "text": [
      "     fun: 0.22656124103651004\n",
      "     jac: array([-8.69856081e-07,  5.65610691e-07, -9.16441316e-08, -3.65037234e-07,\n",
      "       -2.06185532e-06,  5.02659984e-07,  3.67033187e-06,  2.17052641e-06,\n",
      "       -6.29762114e-08, -2.78262701e-06,  2.34863022e-06, -2.39277191e-06,\n",
      "        1.08765376e-07, -6.18923998e-07, -3.18827483e-06, -2.22629321e-06,\n",
      "        3.08953905e-06, -1.94279000e-06, -9.56972519e-06, -9.76037038e-06,\n",
      "        6.34527396e-06, -3.53945684e-06, -5.58867318e-06, -1.14911017e-06,\n",
      "       -4.36309420e-06,  1.17417843e-06,  4.12157327e-06, -9.90538533e-06,\n",
      "        3.10742430e-06,  4.42550512e-07, -3.64270187e-06, -2.02474408e-06,\n",
      "       -4.62387756e-07, -3.47698440e-07, -2.82928044e-06,  2.49137414e-06,\n",
      "        2.12134928e-07,  6.43026416e-08, -1.23343408e-06, -2.82756928e-06,\n",
      "       -1.88540750e-06, -9.87968825e-06,  7.62432288e-07, -1.13769720e-07,\n",
      "        8.78309067e-07, -5.80167567e-08, -4.97002770e-06,  1.51278393e-06,\n",
      "       -3.24392949e-06, -1.85402900e-06])\n",
      " message: 'Optimization terminated successfully.'\n",
      "    nfev: 527\n",
      "     nit: 106\n",
      "    njev: 527\n",
      "  status: 0\n",
      " success: True\n",
      "       x: array([ 0.1345296 ,  1.49695615,  2.59478143,  1.37941353,  0.05758005,\n",
      "        1.29335899,  1.29482641,  0.20493314,  2.02173501, -0.67325393,\n",
      "        0.96682968,  2.65509184, -0.0463407 ,  0.71412306,  0.780673  ,\n",
      "       -1.60099734,  0.73056093,  0.40802551, -0.05419037, -0.05779484,\n",
      "        0.32429006,  0.4907866 , -0.1352007 ,  2.76720206, -0.13429473,\n",
      "        2.04104588,  0.03129031,  0.17940085,  0.72770001,  0.76732166,\n",
      "       -0.19208464,  3.41685015,  0.24787076, -0.06251676,  0.18143483,\n",
      "       -0.1181185 ,  0.20885428, -0.42407718, -0.49215298,  0.54787903,\n",
      "        1.97383304,  0.38578574, -0.49991793, -0.26769954, -0.67649577,\n",
      "       -0.25528273,  0.24200919,  0.32333062,  0.4884787 ,  0.41533696])\n"
     ]
    }
   ],
   "source": [
    "print(result_rbf)"
   ]
  },
  {
   "cell_type": "code",
   "execution_count": 16,
   "metadata": {},
   "outputs": [
    {
     "name": "stdout",
     "output_type": "stream",
     "text": [
      "0.13037708756819497\n"
     ]
    }
   ],
   "source": [
    "###testing settings:\n",
    "a,b, data_x = preproc(N,X_test)\n",
    "data_y = y_te \n",
    "if testing == 2:\n",
    "    W = np.append(C, result_rbf.x)\n",
    "elif testing == 1:\n",
    "    W = result_rbf.x\n",
    "else:\n",
    "    W = np.append(result_rbf.x, args[-2])\n",
    "\n",
    "args = (N, sigma, data_x, data_y, rho, shape)\n",
    "ter = test_error(W, args)\n",
    "print(ter)"
   ]
  },
  {
   "cell_type": "code",
   "execution_count": 19,
   "metadata": {},
   "outputs": [
    {
     "name": "stdout",
     "output_type": "stream",
     "text": [
      "(10000,)\n"
     ]
    },
    {
     "data": {
      "text/plain": "<Figure size 432x288 with 1 Axes>",
      "image/png": "[encoded data removed]"
     },
     "metadata": {
      "needs_background": "light"
     },
     "output_type": "display_data"
    }
   ],
   "source": [
    "import matplotlib.pyplot as plt\n",
    "from mpl_toolkits.mplot3d import Axes3D\n",
    " \n",
    "\n",
    "def plotting( title='Plotting of the function'): #if you do not provide a title, 'Plotting...' will be used\n",
    "    #create the object\n",
    "    fig = plt.figure()\n",
    "    ax = plt.axes(projection='3d')\n",
    "    n = 100\n",
    "    #create the grid\n",
    "    x = np.linspace(-2, 2, n) #create 50 points between [-5,5] evenly spaced  \n",
    "    y = np.linspace(-3, 3, n)\n",
    "    X, Y = np.meshgrid(x, y) #create the grid for the plot\n",
    "    mixed =  np.vstack((X.flatten(),Y.flatten())).T\n",
    "    a,b,res = preproc(N,mixed)\n",
    "    Z = func(W, (N, sigma,res,y_tr,rho ))#evaluate the function (note that X,Y,Z are matrix)\n",
    "    print(Z.shape)\n",
    "    Z = Z.reshape((n,n))\n",
    "    #print(Z.shape)\n",
    "\n",
    "\n",
    "    ax.plot_surface(X, Y, Z, rstride=1, cstride=1,cmap='viridis', edgecolor='none')\n",
    "\n",
    "    ax.set_xlabel('x')\n",
    "    ax.set_ylabel('y')\n",
    "    ax.set_zlabel('z')\n",
    "    ax.set_title(title)\n",
    "    plt.show()\n",
    "\n",
    "plotting()"
   ]
  }
 ],
 "metadata": {
  "interpreter": {
   "hash": "ed05c2fba0c6982c8e85a0b039cb2ee8ad65e9f3a45dd88bb0f58ebeb5da57e8"
  },
  "kernelspec": {
   "display_name": "Python 3.9.7 64-bit ('datas': conda)",
   "name": "python3"
  },
  "language_info": {
   "codemirror_mode": {
    "name": "ipython",
    "version": 3
   },
   "file_extension": ".py",
   "mimetype": "text/x-python",
   "name": "python",
   "nbconvert_exporter": "python",
   "pygments_lexer": "ipython3",
   "version": "3.9.7"
  },
  "toc": {
   "base_numbering": 1,
   "nav_menu": {},
   "number_sections": true,
   "sideBar": true,
   "skip_h1_title": false,
   "title_cell": "Table of Contents",
   "title_sidebar": "Contents",
   "toc_cell": false,
   "toc_position": {},
   "toc_section_display": true,
   "toc_window_display": false
  },
  "varInspector": {
   "cols": {
    "lenName": 16,
    "lenType": 16,
    "lenVar": 40
   },
   "kernels_config": {
    "python": {
     "delete_cmd_postfix": "",
     "delete_cmd_prefix": "del ",
     "library": "var_list.py",
     "varRefreshCmd": "print(var_dic_list())"
    },
    "r": {
     "delete_cmd_postfix": ") ",
     "delete_cmd_prefix": "rm(",
     "library": "var_list.r",
     "varRefreshCmd": "cat(var_dic_list()) "
    }
   },
   "types_to_exclude": [
    "module",
    "function",
    "builtin_function_or_method",
    "instance",
    "_Feature"
   ],
   "window_display": false
  }
 },
 "nbformat": 4,
 "nbformat_minor": 2
}