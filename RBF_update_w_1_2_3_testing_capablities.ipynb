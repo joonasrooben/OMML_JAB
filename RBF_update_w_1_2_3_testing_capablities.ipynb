{
 "cells": [
  {
   "cell_type": "markdown",
   "metadata": {},
   "source": [
    "# RBF version "
   ]
  },
  {
   "cell_type": "markdown",
   "metadata": {},
   "source": [
    "\n",
    "Lets define the RBF network"
   ]
  },
  {
   "cell_type": "code",
   "execution_count": 1,
   "metadata": {},
   "outputs": [],
   "source": [
    "import pandas as pd\n",
    "import scipy\n",
    "import numpy as np\n",
    "from sklearn.model_selection import train_test_split\n",
    "# grid search, K-fold validation, fix seed\n",
    "# find the model, but save the test loss and train loss for all the tried models\n",
    "# create plot over parameter values and losses\n",
    "import time"
   ]
  },
  {
   "cell_type": "code",
   "execution_count": 2,
   "metadata": {},
   "outputs": [],
   "source": [
    "data = pd.read_csv('DATA (1).csv')\n",
    "X_train, X_test, y_train, y_test = train_test_split(data[['x1','x2']], data[['y']], test_size=0.255, random_state=1990243)"
   ]
  },
  {
   "cell_type": "code",
   "execution_count": 3,
   "metadata": {},
   "outputs": [],
   "source": [
    "X_train = X_train.to_numpy()\n",
    "X_test = X_test.to_numpy()\n",
    "y_tr = y_train.to_numpy()\n",
    "y_te = y_test.to_numpy()"
   ]
  },
  {
   "cell_type": "code",
   "execution_count": 5,
   "metadata": {},
   "outputs": [],
   "source": [
    "# sigma is a RBF spread parameter and simga > 0\n",
    "def Gaussian(X, sigma):\n",
    "    return np.exp(-(np.linalg.norm(X,axis = -1)/sigma)**2)"
   ]
  },
  {
   "cell_type": "code",
   "execution_count": 6,
   "metadata": {},
   "outputs": [],
   "source": [
    "def RBF(W, args):\n",
    "    sigma = args[1]\n",
    "    X = args[2]\n",
    "    C = W[0]\n",
    "    v = W[1]\n",
    "    #print(v.shape, Gaussian(X-C,sigma).shape)\n",
    "    return np.matmul(v,Gaussian(X-C, sigma).T) "
   ]
  },
  {
   "cell_type": "code",
   "execution_count": 7,
   "metadata": {},
   "outputs": [],
   "source": [
    "def loss(W, args):\n",
    "    N = args[0]\n",
    "    if args[-1] == 1:\n",
    "        a = args[-2]\n",
    "        v = W\n",
    "        regu = np.sum(v**2)\n",
    "    elif args[-1] == 2:\n",
    "        v = args[-2]\n",
    "        a = W.reshape(1,N,2) \n",
    "        regu = np.sum(a**2) \n",
    "    else:\n",
    "        v = W[-N:]\n",
    "        a = W[:-N].reshape(1,N,2)\n",
    "        regu = np.sum(a**2) + np.sum(v**2)\n",
    "    y = args[3]\n",
    "#    c = np.repeat(a,args[2].shape[0],axis=1).reshape((args[2].shape[0],N,2)).T\n",
    "    c = np.tile(a,(args[2].shape[0],1)).reshape(args[2].shape[0],N,2)\n",
    "\n",
    "    #regu = np.sum(a**2) + np.sum(v**2)\n",
    "    loss = float((1/(2*len(args[2]))* np.sum((RBF((c,v), args) - y.T)**2, axis=1) + args[4]/2* regu)[0])\n",
    "    #print(loss)\n",
    "    return loss "
   ]
  },
  {
   "cell_type": "code",
   "execution_count": 45,
   "metadata": {},
   "outputs": [],
   "source": [
    "def grad_v(W, args):\n",
    "    N = args[0]\n",
    "    a = args[-2]\n",
    "    v = W\n",
    "    y = args[3]\n",
    "#    c = np.repeat(a,args[2].shape[0],axis=1).reshape((args[2].shape[0],N,2)).T\n",
    "    c = np.tile(a,(args[2].shape[0],1)).reshape(args[2].shape[0],N,2)\n",
    "    phi = Gaussian(args[2]-c, args[1])\n",
    "    grads = phi.T @ (phi @ v - y.reshape(-1)) + len(args[2])*args[4]*v\n",
    "    return grads"
   ]
  },
  {
   "cell_type": "code",
   "execution_count": 56,
   "metadata": {},
   "outputs": [],
   "source": [
    "def grad_both(W,args):\n",
    "    N = args[0]\n",
    "    v = W[-N:]\n",
    "    a = W[:-N]\n",
    "    args1 = (args[0],args[1], args[2], args[3], args[4], args[5],a.reshape(1,N,2), 0)\n",
    "    v_g = grad_v(v,args1)\n",
    "    args2 = (args[0],args[1], args[2], args[3], args[4], args[5],v, 0)\n",
    "    c_g = grad_c(a,args2)\n",
    "    return np.append(c_g.flatten(),v_g)"
   ]
  },
  {
   "cell_type": "code",
   "execution_count": 49,
   "metadata": {},
   "outputs": [],
   "source": [
    "def grad_c(W, args):\n",
    "    N = args[0]\n",
    "    v = args[-2]\n",
    "    a = W.reshape(1,N,2) \n",
    "\n",
    "\n",
    "    y = args[3]\n",
    "    c = np.tile(a,(args[2].shape[0],1)).reshape(args[2].shape[0],N,2)\n",
    "    main = RBF((c,v), args) - y.T  \n",
    "    dervs = np.ones((N, 2)) \n",
    "    for i, vk in enumerate(v):\n",
    "        buff = np.transpose(args[2], (1,0,2))[0] - np.repeat(np.array([c[0][i]]), len(args[2]), axis=0)\n",
    "        #print( np.transpose(res, (1,0,2))[0] )\n",
    "        buff2 = main @ (np.repeat(Gaussian(buff, args[1]),2,axis =0).reshape((args[2].shape[0],2)) * 2 * (buff)/(args[1]**2))\n",
    "        #buff2 = main @ (Gaussian(buff, args[1])*2*np.sum(buff,axis=-1)/args[1]**2)\n",
    "        \n",
    "        dervs[i] = vk * buff2 + args[4]* c[0][i]\n",
    "    return dervs.flatten()"
   ]
  },
  {
   "cell_type": "code",
   "execution_count": 11,
   "metadata": {},
   "outputs": [],
   "source": [
    "def preproc(N, X_train, hold = False, seed = 123): #n: the nr of neurons; hold: if we want the centers to be chosen from X_train\n",
    "    np.random.seed(seed)\n",
    "    if hold == True:\n",
    "\n",
    "       a = X_train[np.random.choice(np.arange(X_train.shape[0]), N, replace=False)].reshape(1,N,2) \n",
    "    else:\n",
    "        a =  np.random.normal(size=(1, N, 2))\n",
    "    #res = np.tile(X_train,(N,1)).reshape((X_train.shape[0],N,2))\n",
    "    res = np.repeat(X_train,N,axis=0).reshape(X_train.shape[0],N,2)\n",
    "    \n",
    "    \n",
    "    #C = np.repeat(a,X_train.shape[0], axis=1).reshape(X_train.shape[0],N,2)\n",
    "    \n",
    "\n",
    "    v = np.random.normal(size = N)\n",
    "    return a,v,res # a:centers;v: weights; res: train data with compatible shape\n"
   ]
  },
  {
   "cell_type": "code",
   "execution_count": 12,
   "metadata": {},
   "outputs": [],
   "source": [
    "def func(W, args): #for plotting\n",
    "    N = args[0]\n",
    "    v = W[-N:]\n",
    "    a = W[:-N].reshape(1,N,2)\n",
    "    #c = np.repeat(a,args[2].shape[0],axis=1).reshape((args[2].shape[0],N,2))\n",
    "    c = np.tile(a,(args[2].shape[0],1)).reshape(args[2].shape[0],N,2)\n",
    "\n",
    "\n",
    "    return RBF((c,v), args)"
   ]
  },
  {
   "cell_type": "code",
   "execution_count": 13,
   "metadata": {},
   "outputs": [],
   "source": [
    "def test_error(W,  args):\n",
    "    N = args[0]\n",
    "    v = W[-N:]\n",
    "    a = W[:-N].reshape(1,N,2)\n",
    "    y = args[3]\n",
    "    #c = np.repeat(a,args[2].shape[0],axis=1).reshape((args[2].shape[0],N,2))\n",
    "    c = np.tile(a,(args[2].shape[0],1)).reshape(args[2].shape[0],N,2)\n",
    "\n",
    "\n",
    "    return float((1/(2*len(args[2]))* np.sum((RBF((c,v), args) - y.T)**2, axis=1)))"
   ]
  },
  {
   "cell_type": "code",
   "execution_count": 62,
   "metadata": {},
   "outputs": [
    {
     "name": "stdout",
     "output_type": "stream",
     "text": [
      "186\n",
      "1.4807649398108196\n",
      "     fun: 0.06655717339250054\n",
      "     jac: array([-2.50432640e-06, -1.12038106e-06, -2.31899321e-07,  1.61118805e-07,\n",
      "       -1.58976763e-06,  1.81235373e-06, -1.87009573e-06, -3.45520675e-07,\n",
      "       -2.75485218e-06,  3.70666385e-07, -3.28756869e-07,  1.44354999e-07,\n",
      "       -9.58330929e-07,  3.16370279e-06, -2.74740160e-07,  1.53668225e-07,\n",
      "        3.03983688e-06, -3.94880772e-06, -2.75671482e-07,  1.52736902e-07,\n",
      "       -1.37835741e-06, -1.08685344e-06, -8.10064375e-06, -4.62960452e-06,\n",
      "       -2.42237002e-06,  1.01514161e-07, -2.36555934e-07, -1.42492354e-07,\n",
      "       -5.35510480e-07,  1.10827386e-07,  6.59376383e-07, -1.00582838e-06,\n",
      "       -6.21005893e-06,  1.42026693e-06, -2.82190740e-07,  1.51805580e-07,\n",
      "        5.17908484e-06,  1.61398202e-06, -1.47521496e-06,  4.57279384e-07,\n",
      "        1.17067248e-06,  1.49942935e-07, -2.83122063e-07,  1.51805580e-07,\n",
      "       -2.33761966e-07,  1.59256160e-07,  6.52857125e-07,  1.08499080e-06,\n",
      "        1.79465860e-06,  7.17118382e-08,  4.52622771e-07, -5.03845513e-06,\n",
      "        3.49059701e-06, -3.28570604e-06,  2.09547579e-07,  2.35624611e-07,\n",
      "       -1.38115138e-06, -2.63564289e-06, -9.54605639e-07,  2.27242708e-07,\n",
      "       -2.74740160e-07,  1.53668225e-07, -2.84984708e-07,  1.51805580e-07,\n",
      "        4.09409404e-06,  9.75094736e-07, -2.88709998e-07,  1.50874257e-07,\n",
      "       -2.48476863e-06,  7.45058060e-08,  8.98726285e-07,  8.27014446e-07,\n",
      "       -1.82166696e-06,  1.59256160e-06, -2.71853060e-06,  4.31109220e-06,\n",
      "        5.77419996e-07,  2.58721411e-06, -2.48383731e-06, -6.20260835e-07,\n",
      "        9.23871994e-07,  3.61353159e-07, -5.72763383e-07,  3.62284482e-07,\n",
      "       -2.39536166e-06, -6.74277544e-07,  6.76419586e-06,  4.77023423e-06,\n",
      "        5.05242497e-06,  1.20978802e-06, -9.13627446e-07, -1.38208270e-06,\n",
      "        4.59700823e-06,  1.52736902e-06, -2.62726098e-06, -1.70059502e-06,\n",
      "        1.23120844e-06,  7.90413469e-06, -1.16415322e-07,  1.80676579e-07,\n",
      "        9.05245543e-07, -1.12131238e-06,  7.95349479e-07,  7.45989382e-07,\n",
      "        2.70456076e-06, -1.20140612e-06,  6.04428351e-07, -1.15763396e-06,\n",
      "       -1.87102705e-06, -1.15763396e-06,  8.00937414e-07,  1.34482980e-06,\n",
      "        5.85056841e-06, -9.20146704e-07, -1.38022006e-06, -1.93621963e-06,\n",
      "        1.35041773e-06, -1.16322190e-06,  3.63122672e-06,  4.50201333e-06,\n",
      "       -2.22865492e-06, -1.16508454e-06, -1.12224370e-06, -2.94297934e-06,\n",
      "        5.34579158e-07, -1.06543303e-06,  3.60421836e-06, -7.45058060e-07,\n",
      "       -6.82659447e-07, -1.88220292e-06, -1.15763396e-06, -1.16601586e-06,\n",
      "        2.54251063e-06, -1.16880983e-06,  5.77233732e-06,  1.21816993e-06,\n",
      "       -7.05011189e-07,  1.00303441e-06,  8.83825123e-07, -4.74043190e-07,\n",
      "       -1.38767064e-07, -1.51153654e-06,  4.25614417e-06,  1.34110451e-07,\n",
      "        2.02096999e-07, -8.39121640e-07,  3.14600766e-06, -3.72529030e-08,\n",
      "       -2.65706331e-06, -1.02259219e-06])\n",
      " message: 'Optimization terminated successfully.'\n",
      "    nfev: 100566\n",
      "     nit: 268\n",
      "    njev: 666\n",
      "  status: 0\n",
      " success: True\n",
      "       x: array([-0.58550274,  0.58475032,  0.04275038,  0.00551325, -1.1374968 ,\n",
      "        2.58916752, -1.35389751,  0.02510728,  1.10072119, -0.87183371,\n",
      "        0.0423373 ,  0.00544703,  0.40987154, -0.62290294,  0.0425654 ,\n",
      "        0.00548343,  1.13302251,  0.65876978,  0.04256128,  0.00548269,\n",
      "        0.4286472 ,  0.49175116, -1.21198998,  1.27788654, -0.69021368,\n",
      "       -0.02463494,  0.18282771, -2.59888526,  0.04144161,  0.00530777,\n",
      "       -0.77855899, -2.74286513, -0.49065385, -0.50684659,  0.04253516,\n",
      "        0.00547882,  0.15486679,  0.02738143, -1.86064049,  1.41600497,\n",
      "       -1.173463  , -1.98267028,  0.04252926,  0.00547755,  0.0427441 ,\n",
      "        0.00551172,  1.19413196, -0.02526964,  0.96931649,  1.63532651,\n",
      "       -0.58531475, -0.12021765,  1.27090584, -0.07351822,  0.04471697,\n",
      "        0.00582835,  0.40603475,  0.24700337,  0.23635306,  0.05007006,\n",
      "        0.04256526,  0.00548336,  0.04252348,  0.00547679,  0.06688312,\n",
      "        0.00958845,  0.0425067 ,  0.00547424, -0.69014816, -0.02472787,\n",
      "        0.39135412, -0.49914325,  1.09217316, -1.64125859, -1.34836299,\n",
      "        0.56483128, -1.35808747, -0.22612715, -0.47436416, -0.51178642,\n",
      "        0.04806623,  0.00637258,  0.23006455,  0.04793129, -0.68665064,\n",
      "       -0.02834891, -1.22479651, -0.49102642,  1.10183023, -0.5687288 ,\n",
      "        1.17935115, -2.68426011,  0.1630722 ,  0.02930081, -0.58532194,\n",
      "        0.582778  , -0.99557711, -1.02460875,  0.04326184,  0.00559471,\n",
      "        0.70478746,  0.06616097,  1.38292107,  1.348176  ,  1.18231729,\n",
      "        0.06580829,  0.69776566,  0.06600241,  1.12506223,  0.06599918,\n",
      "        0.65867838,  1.47026708,  0.58638053,  0.85946932,  0.0650385 ,\n",
      "        1.49156324,  0.59869318,  0.06597636,  0.16325818, -0.51174023,\n",
      "        1.29834359,  0.0659714 ,  0.06615565,  1.01886151,  0.59795517,\n",
      "        0.46318987,  1.11724067,  0.06784676,  0.47651743,  0.24020453,\n",
      "        0.06600217,  0.06596664,  0.08677978,  0.06595224,  0.58622892,\n",
      "        0.57522941,  1.44326093,  1.3917236 ,  1.3695729 ,  0.58798445,\n",
      "        0.07071408,  0.23392848,  0.58076387,  1.29508279,  0.93970628,\n",
      "        1.89270536,  0.17065341,  0.70205424,  1.55593963,  0.06659971])\n"
     ]
    }
   ],
   "source": [
    "## main loop\n",
    "rho = 1e-3\n",
    "sigma =0.5 \n",
    "N = 50\n",
    "seed = 123 #seed for weight initializtion\n",
    "met = 'CG'\n",
    "testing = 1 #which task are we testing\n",
    "\n",
    "if testing == 1:\n",
    "    C,V,res = preproc(N, X_train, seed= seed)\n",
    "    print(len(res))\n",
    "    shape = C.shape\n",
    "    args = (N,sigma, res, y_tr, rho, shape,None, 0) #three modes: 0: both supervised; 1: centers unsupervised; 2:weights v unsupervised\n",
    "    W = np.append(C.flatten(),V)\n",
    "    print(loss(W, args))\n",
    "    result_rbf = scipy.optimize.minimize(loss, W, args= (args,) , method=met, options = {\"maxiter\": 500})\n",
    "elif testing == 2:\n",
    "    C,V,res = preproc(N, X_train, 1, seed=seed)\n",
    "    shape = C.shape\n",
    "    args = (N,sigma, res, y_tr, rho, shape,C, 1) #three modes: 0: both supervised; 1: centers unsupervised; 2:weights v unsupervised\n",
    "    W = V \n",
    "    print(loss(W, args))\n",
    "    result_rbf = scipy.optimize.minimize(loss, W, args= (args,),jac=grad_v,  method=met)#, options = {\"maxiter\": 5})\n",
    "else:\n",
    "    C,V,res = preproc(N, X_train, 1, seed = seed)\n",
    "    shape = C.shape\n",
    "    args = (N,sigma, res, y_tr, rho, shape,C, 1) #three modes: 0: both supervised; 1: centers unsupervised; 2:weights v unsupervised\n",
    "    W = V \n",
    "    print(loss(W, args))\n",
    "    result_rbf = scipy.optimize.minimize(loss, W, args= (args,) ,jac=grad_v, method=met)#, options = {\"maxiter\": 5})\n",
    "    print(result_rbf)\n",
    "    args = (N,sigma, res, y_tr, rho, shape,result_rbf.x, 2) #three modes: 0: both supervised; 1: centers unsupervised; 2:weights v unsupervised\n",
    "    W = C\n",
    "    print(loss(W, args))\n",
    "    result_rbf = scipy.optimize.minimize(loss, W, args= (args,) ,jac = grad_c, method=met)#, options = {\"maxiter\": 5})\n",
    "print(result_rbf)\n",
    "\n",
    "\n"
   ]
  },
  {
   "cell_type": "code",
   "execution_count": 59,
   "metadata": {},
   "outputs": [
    {
     "name": "stdout",
     "output_type": "stream",
     "text": [
      "Desired error not necessarily achieved due to precision loss.\n"
     ]
    }
   ],
   "source": [
    "print(result_rbf.message)"
   ]
  },
  {
   "cell_type": "code",
   "execution_count": 60,
   "metadata": {},
   "outputs": [
    {
     "name": "stdout",
     "output_type": "stream",
     "text": [
      "0.010823226451476368\n"
     ]
    }
   ],
   "source": [
    "###testing settings:\n",
    "a,b, data_x = preproc(N,X_test)\n",
    "data_y = y_te \n",
    "if testing == 2:\n",
    "    W = np.append(C, result_rbf.x)\n",
    "elif testing == 1:\n",
    "    W = result_rbf.x\n",
    "else:\n",
    "    W = np.append(result_rbf.x, args[-2])\n",
    "\n",
    "args = (N, sigma, data_x, data_y, rho, shape)\n",
    "ter = test_error(W, args)\n",
    "print(ter)"
   ]
  },
  {
   "cell_type": "code",
   "execution_count": 61,
   "metadata": {},
   "outputs": [
    {
     "data": {
      "image/png": "[encoded data removed]",
      "text/plain": [
       "<Figure size 432x288 with 1 Axes>"
      ]
     },
     "metadata": {
      "needs_background": "light"
     },
     "output_type": "display_data"
    }
   ],
   "source": [
    "import matplotlib.pyplot as plt\n",
    "from mpl_toolkits.mplot3d import Axes3D\n",
    " \n",
    "\n",
    "def plotting( title='Plotting of the function'): #if you do not provide a title, 'Plotting...' will be used\n",
    "    #create the object\n",
    "    fig = plt.figure()\n",
    "    ax = plt.axes(projection='3d')\n",
    "    n = 100\n",
    "    #create the grid\n",
    "    x = np.linspace(-2, 2, n) #create 50 points between [-5,5] evenly spaced  \n",
    "    y = np.linspace(-3, 3, n)\n",
    "    X, Y = np.meshgrid(x, y) #create the grid for the plot\n",
    "    mixed =  np.vstack((X.flatten(),Y.flatten())).T #make the nxn grid into 2d array that can be fed into func\n",
    "    a,b,res = preproc(N,mixed) #it gives my data matrix a shape that can be fed into RBF(as it has a specific shape)\n",
    "    Z = func(W, (N, sigma,res,y_tr,rho ))#evaluate the function (note that X,Y,Z are matrix)\n",
    "    Z = Z.reshape((n,n)) #now as there has been a lot of reshaping I will make back into nxn grid that can be given to poltter\n",
    "    #print(Z.shape)\n",
    "\n",
    "\n",
    "    ax.plot_surface(X, Y, Z, rstride=1, cstride=1,cmap='viridis', edgecolor='none')\n",
    "\n",
    "    ax.set_xlabel('x')\n",
    "    ax.set_ylabel('y')\n",
    "    ax.set_zlabel('z')\n",
    "    ax.set_title(title)\n",
    "    plt.show()\n",
    "\n",
    "plotting()"
   ]
  }
 ],
 "metadata": {
  "interpreter": {
   "hash": "ed05c2fba0c6982c8e85a0b039cb2ee8ad65e9f3a45dd88bb0f58ebeb5da57e8"
  },
  "kernelspec": {
   "display_name": "Python 3.9.7 64-bit ('datas': conda)",
   "name": "python3"
  },
  "language_info": {
   "codemirror_mode": {
    "name": "ipython",
    "version": 3
   },
   "file_extension": ".py",
   "mimetype": "text/x-python",
   "name": "python",
   "nbconvert_exporter": "python",
   "pygments_lexer": "ipython3",
   "version": "3.9.7"
  },
  "toc": {
   "base_numbering": 1,
   "nav_menu": {},
   "number_sections": true,
   "sideBar": true,
   "skip_h1_title": false,
   "title_cell": "Table of Contents",
   "title_sidebar": "Contents",
   "toc_cell": false,
   "toc_position": {},
   "toc_section_display": true,
   "toc_window_display": false
  },
  "varInspector": {
   "cols": {
    "lenName": 16,
    "lenType": 16,
    "lenVar": 40
   },
   "kernels_config": {
    "python": {
     "delete_cmd_postfix": "",
     "delete_cmd_prefix": "del ",
     "library": "var_list.py",
     "varRefreshCmd": "print(var_dic_list())"
    },
    "r": {
     "delete_cmd_postfix": ") ",
     "delete_cmd_prefix": "rm(",
     "library": "var_list.r",
     "varRefreshCmd": "cat(var_dic_list()) "
    }
   },
   "types_to_exclude": [
    "module",
    "function",
    "builtin_function_or_method",
    "instance",
    "_Feature"
   ],
   "window_display": false
  }
 },
 "nbformat": 4,
 "nbformat_minor": 2
}
