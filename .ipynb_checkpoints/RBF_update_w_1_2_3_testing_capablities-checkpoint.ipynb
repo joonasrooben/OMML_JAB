{
 "cells": [
  {
   "cell_type": "markdown",
   "metadata": {},
   "source": [
    "# RBF version "
   ]
  },
  {
   "cell_type": "markdown",
   "metadata": {},
   "source": [
    "\n",
    "Lets define the RBF network"
   ]
  },
  {
   "cell_type": "code",
   "execution_count": 2,
   "metadata": {},
   "outputs": [],
   "source": [
    "import pandas as pd\n",
    "import scipy\n",
    "import numpy as np\n",
    "from sklearn.model_selection import train_test_split\n",
    "\n",
    "import time"
   ]
  },
  {
   "cell_type": "code",
   "execution_count": 24,
   "metadata": {},
   "outputs": [],
   "source": [
    "data = pd.read_csv('DATA (1).csv')\n",
    "X_train, X_test, y_train, y_test = train_test_split(data[['x1','x2']], data[['y']], test_size=0.255, random_state=1990243)"
   ]
  },
  {
   "cell_type": "code",
   "execution_count": 25,
   "metadata": {},
   "outputs": [],
   "source": [
    "X_train = X_train.to_numpy()\n",
    "X_test = X_test.to_numpy()\n",
    "y_tr = y_train.to_numpy()\n",
    "y_te = y_test.to_numpy()"
   ]
  },
  {
   "cell_type": "code",
   "execution_count": 5,
   "metadata": {},
   "outputs": [
    {
     "name": "stdout",
     "output_type": "stream",
     "text": [
      "[[1.7262223  0.83381581 1.12300176 0.55246704]\n",
      " [1.33054488 0.89972267 0.43008569 0.73714126]]\n"
     ]
    }
   ],
   "source": [
    "mat1 = np.random.normal(size=(2,4,2)) \n",
    "mat2 = np.array([[0,3],[1,2]])\n",
    "res = (np.tile(mat2,(4,1)).reshape((2,4,2)))\n",
    "print(np.linalg.norm(mat1, axis=-1))"
   ]
  },
  {
   "cell_type": "code",
   "execution_count": 6,
   "metadata": {},
   "outputs": [],
   "source": [
    "# sigma is a RBF spread parameter and simga > 0\n",
    "def Gaussian(X, sigma):\n",
    "    return np.exp(-(np.linalg.norm(X,axis = -1)/sigma)**2)"
   ]
  },
  {
   "cell_type": "code",
   "execution_count": 7,
   "metadata": {},
   "outputs": [],
   "source": [
    "def RBF(W, args):\n",
    "    sigma = args[1]\n",
    "    X = args[2]\n",
    "    C = W[0]\n",
    "    v = W[1]\n",
    "    #print(v.shape, Gaussian(X-C,sigma).shape)\n",
    "    return np.matmul(v,Gaussian(X-C, sigma).T) "
   ]
  },
  {
   "cell_type": "code",
   "execution_count": 142,
   "metadata": {},
   "outputs": [],
   "source": [
    "def loss(W, args):\n",
    "    N = args[0]\n",
    "    if args[-1] == 1:\n",
    "        a = args[-2]\n",
    "        v = W\n",
    "    elif args[-1] == 2:\n",
    "        v = args[-2]\n",
    "        a = W.reshape(1,N,2) \n",
    "    else:\n",
    "        v = W[-N:]\n",
    "        a = W[:-N].reshape(1,N,2)\n",
    "\n",
    "    y = args[3]\n",
    "#    c = np.repeat(a,args[2].shape[0],axis=1).reshape((args[2].shape[0],N,2)).T\n",
    "    c = np.tile(a,(args[2].shape[0],1)).reshape(args[2].shape[0],N,2)\n",
    "\n",
    "    regu = np.sum(a**2) + np.sum(v**2)\n",
    "    loss = float((1/(2*N)* np.sum((RBF((c,v), args) - y.T)**2, axis=1) + args[4]/2* regu)[0])\n",
    "    #print(loss)\n",
    "    return loss "
   ]
  },
  {
   "cell_type": "code",
   "execution_count": 156,
   "metadata": {},
   "outputs": [],
   "source": [
    "def preproc(N, X_train, hold = False):\n",
    "    if hold == True:\n",
    "       a = X_train[np.random.choice(np.arange(X_train.shape[0]), N, replace=False)].reshape(1,N,2) \n",
    "    else:\n",
    "        a =  np.random.normal(size=(1, N, 2))\n",
    "    #res = np.tile(X_train,(N,1)).reshape((X_train.shape[0],N,2))\n",
    "    res = np.repeat(X_train,N,axis=0).reshape(X_train.shape[0],N,2)\n",
    "    \n",
    "    \n",
    "    #C = np.repeat(a,X_train.shape[0], axis=1).reshape(X_train.shape[0],N,2)\n",
    "    \n",
    "\n",
    "    v = np.random.normal(size = N)\n",
    "    return a,v,res \n"
   ]
  },
  {
   "cell_type": "code",
   "execution_count": 165,
   "metadata": {},
   "outputs": [],
   "source": [
    "def func(W, args):\n",
    "    N = args[0]\n",
    "    v = W[-N:]\n",
    "    a = W[:-N].reshape(1,N,2)\n",
    "    #c = np.repeat(a,args[2].shape[0],axis=1).reshape((args[2].shape[0],N,2))\n",
    "    c = np.tile(a,(args[2].shape[0],1)).reshape(args[2].shape[0],N,2)\n",
    "\n",
    "\n",
    "    return RBF((c,v), args)"
   ]
  },
  {
   "cell_type": "code",
   "execution_count": 166,
   "metadata": {},
   "outputs": [],
   "source": [
    "def test_error(W,  args):\n",
    "    N = args[0]\n",
    "    v = W[-N:]\n",
    "    a = W[:-N].reshape(1,N,2)\n",
    "    y = args[3]\n",
    "    #c = np.repeat(a,args[2].shape[0],axis=1).reshape((args[2].shape[0],N,2))\n",
    "    c = np.tile(a,(args[2].shape[0],1)).reshape(args[2].shape[0],N,2)\n",
    "\n",
    "\n",
    "    return float((1/(2*N)* np.sum((RBF((c,v), args) - y.T)**2, axis=1)))"
   ]
  },
  {
   "cell_type": "code",
   "execution_count": 180,
   "metadata": {},
   "outputs": [
    {
     "name": "stdout",
     "output_type": "stream",
     "text": [
      "14.07665129359557\n",
      "     fun: 2.7836593157870158\n",
      "     jac: array([ 4.14252281e-06, -4.47034836e-07,  2.47359276e-06, -3.42726707e-06,\n",
      "       -6.85453415e-07, -6.31809235e-06, -1.63912773e-06,  4.47034836e-07,\n",
      "       -9.38773155e-06, -7.74860382e-07, -3.87430191e-06, -1.78813934e-07,\n",
      "       -2.98023224e-07, -1.99675560e-06,  3.01003456e-06])\n",
      " message: 'Optimization terminated successfully.'\n",
      "    nfev: 2144\n",
      "     nit: 57\n",
      "    njev: 134\n",
      "  status: 0\n",
      " success: True\n",
      "       x: array([ 1.79859285,  0.2836936 ,  0.07382721,  1.25787079,  1.383627  ,\n",
      "        4.42720727,  0.38573483,  1.8050184 ,  0.78233855,  3.42033695,\n",
      "        3.59001771, -0.5418103 ,  0.12957948,  4.05366729, -2.28200219])\n",
      "2.7836593157870158\n",
      "     fun: 1.2929170017439577\n",
      "     jac: array([ 3.72529030e-07,  1.77323818e-06,  2.93552876e-06,  2.23517418e-07,\n",
      "       -5.96046448e-08,  1.34110451e-07,  7.30156898e-07, -4.76837158e-07,\n",
      "       -4.29153442e-06, -1.10268593e-06, -3.85940075e-06, -3.81469727e-06,\n",
      "       -7.89761543e-07,  1.68383121e-06,  2.30967999e-06,  1.05798244e-06,\n",
      "        3.72529030e-07, -1.07288361e-06,  4.64916229e-06, -5.85615635e-06,\n",
      "        3.33786011e-06,  3.08454037e-06, -9.19401646e-06, -2.68220901e-07,\n",
      "        7.59959221e-07, -7.45058060e-08,  8.55326653e-06, -5.24520874e-06,\n",
      "        1.40070915e-06,  1.69873238e-06])\n",
      " message: 'Optimization terminated successfully.'\n",
      "    nfev: 38998\n",
      "     nit: 826\n",
      "    njev: 1258\n",
      "  status: 0\n",
      " success: True\n",
      "       x: array([-0.98877894,  0.98030417,  0.10106888, -2.68746367, -1.64001956,\n",
      "        0.7288987 , -0.7797934 , -2.64992628, -1.1459798 ,  2.61360496,\n",
      "        0.42944782, -0.4374616 ,  0.93554307,  0.67184918, -0.91874737,\n",
      "       -0.94224389,  1.0501888 ,  0.77079113, -0.53114939, -0.08558238,\n",
      "        1.15349363, -0.30055818,  3.21417213,  0.82564374,  1.28816376,\n",
      "       -1.80828985, -1.33598962, -0.16055848,  0.47527475, -0.41807294])\n"
     ]
    }
   ],
   "source": [
    "## main loop\n",
    "rho = 1e-5\n",
    "sigma = 0.5\n",
    "N = 15 \n",
    "met = 'CG'\n",
    "testing = 0 #which task are we testing\n",
    "if testing == 1:\n",
    "    C,V,res = preproc(N, X_train)\n",
    "    #print(res)\n",
    "    shape = C.shape\n",
    "    args = (N,sigma, res, y_tr, rho, shape,None, 0) #three modes: 0: both supervised; 1: centers unsupervised; 2:weights v unsupervised\n",
    "    W = np.append(C.flatten(),V)\n",
    "    print(loss(W, args))\n",
    "    result_rbf = scipy.optimize.minimize(loss, W, args= (args,) , method=met, options = {\"maxiter\": 500})\n",
    "elif testing == 2:\n",
    "    C,V,res = preproc(N, X_train, 1)\n",
    "    shape = C.shape\n",
    "    args = (N,sigma, res, y_tr, rho, shape,C, 1) #three modes: 0: both supervised; 1: centers unsupervised; 2:weights v unsupervised\n",
    "    W = V \n",
    "    print(loss(W, args))\n",
    "    result_rbf = scipy.optimize.minimize(loss, W, args= (args,) , method=met)#, options = {\"maxiter\": 5})\n",
    "else:\n",
    "    C,V,res = preproc(N, X_train, 1)\n",
    "    shape = C.shape\n",
    "    args = (N,sigma, res, y_tr, rho, shape,C, 1) #three modes: 0: both supervised; 1: centers unsupervised; 2:weights v unsupervised\n",
    "    W = V \n",
    "    print(loss(W, args))\n",
    "    result_rbf = scipy.optimize.minimize(loss, W, args= (args,) , method=met)#, options = {\"maxiter\": 5})\n",
    "    print(result_rbf)\n",
    "    args = (N,sigma, res, y_tr, rho, shape,result_rbf.x, 2) #three modes: 0: both supervised; 1: centers unsupervised; 2:weights v unsupervised\n",
    "    W = C\n",
    "    print(loss(W, args))\n",
    "    result_rbf = scipy.optimize.minimize(loss, W, args= (args,) , method=met)#, options = {\"maxiter\": 5})\n",
    "print(result_rbf)\n",
    "\n"
   ]
  },
  {
   "cell_type": "code",
   "execution_count": 177,
   "metadata": {},
   "outputs": [
    {
     "name": "stdout",
     "output_type": "stream",
     "text": [
      "     fun: 1.649395179145773\n",
      "     jac: array([-1.07288361e-06,  6.10947609e-07,  1.41561031e-06,  1.83284283e-06,\n",
      "       -4.47034836e-07, -1.35600567e-06, -1.96695328e-06,  8.04662704e-07,\n",
      "        7.45058060e-07,  2.53319740e-07,  3.72529030e-07, -4.32133675e-07,\n",
      "        8.44895840e-06,  5.43892384e-06,  1.04308128e-07,  7.58469105e-06,\n",
      "        2.50339508e-06, -3.60608101e-06,  1.54972076e-06,  1.80304050e-06,\n",
      "       -1.74343586e-06,  1.57952309e-06,  0.00000000e+00, -2.68220901e-07,\n",
      "       -4.32133675e-07, -1.04308128e-06, -1.49011612e-08, -1.49011612e-08,\n",
      "        1.93715096e-07,  1.63912773e-07])\n",
      " message: 'Optimization terminated successfully.'\n",
      "    nfev: 39897\n",
      "     nit: 793\n",
      "    njev: 1287\n",
      "  status: 0\n",
      " success: True\n",
      "       x: array([ 1.28147581, -1.96111674,  2.44740286, -1.76241721,  0.51948751,\n",
      "       -0.60800614,  1.05004413,  0.84576038,  1.10145366, -0.87489452,\n",
      "       -0.96317727, -1.00551444, -1.18864271, -0.14263965,  1.13184365,\n",
      "       -0.14920008,  1.05003482,  0.84572981, -0.73178584, -2.61350194,\n",
      "       -0.33602042, -0.17027803, -0.52953966,  0.71634694,  1.10150155,\n",
      "       -0.87493591, -1.14488378,  2.61447496, -1.06088588,  1.14456534])\n"
     ]
    }
   ],
   "source": [
    "print(result_rbf)"
   ]
  },
  {
   "cell_type": "code",
   "execution_count": 181,
   "metadata": {},
   "outputs": [
    {
     "name": "stdout",
     "output_type": "stream",
     "text": [
      "0.6384893009863715\n"
     ]
    }
   ],
   "source": [
    "###testing settings:\n",
    "a,b, data_x = preproc(N,X_test)\n",
    "data_y = y_te \n",
    "if testing == 2:\n",
    "    W = np.append(C, result_rbf.x)\n",
    "elif testing == 1:\n",
    "    W = result_rbf.x\n",
    "else:\n",
    "    W = np.append(result_rbf.x, args[-2])\n",
    "\n",
    "args = (N, sigma, data_x, data_y, rho, shape)\n",
    "ter = test_error(W, args)\n",
    "print(ter)"
   ]
  },
  {
   "cell_type": "code",
   "execution_count": null,
   "metadata": {},
   "outputs": [],
   "source": []
  },
  {
   "cell_type": "code",
   "execution_count": 182,
   "metadata": {},
   "outputs": [
    {
     "data": {
      "image/png": "[encoded data removed]",
      "text/plain": [
       "<Figure size 432x288 with 1 Axes>"
      ]
     },
     "metadata": {
      "needs_background": "light"
     },
     "output_type": "display_data"
    }
   ],
   "source": [
    "import matplotlib.pyplot as plt\n",
    "from mpl_toolkits.mplot3d import Axes3D\n",
    " \n",
    "\n",
    "def plotting( title='Plotting of the function'): #if you do not provide a title, 'Plotting...' will be used\n",
    "    #create the object\n",
    "    fig = plt.figure()\n",
    "    ax = plt.axes(projection='3d')\n",
    "    n = 100\n",
    "    #create the grid\n",
    "    x = np.linspace(-2, 2, n) #create 50 points between [-5,5] evenly spaced  \n",
    "    y = np.linspace(-3, 3, n)\n",
    "    X, Y = np.meshgrid(x, y) #create the grid for the plot\n",
    "    mixed =  np.vstack((X.flatten(),Y.flatten())).T\n",
    "    a,b,res = preproc(N,mixed)\n",
    "    Z = func(W, (N, sigma,res,y_tr,rho ))#evaluate the function (note that X,Y,Z are matrix)\n",
    "    Z = Z.reshape((n,n))\n",
    "    #print(Z.shape)\n",
    "\n",
    "\n",
    "    ax.plot_surface(X, Y, Z, rstride=1, cstride=1,cmap='viridis', edgecolor='none')\n",
    "\n",
    "    ax.set_xlabel('x')\n",
    "    ax.set_ylabel('y')\n",
    "    ax.set_zlabel('z')\n",
    "    ax.set_title(title)\n",
    "    plt.show()\n",
    "\n",
    "plotting()"
   ]
  }
 ],
 "metadata": {
  "interpreter": {
   "hash": "ed05c2fba0c6982c8e85a0b039cb2ee8ad65e9f3a45dd88bb0f58ebeb5da57e8"
  },
  "kernelspec": {
   "display_name": "Python 3",
   "language": "python",
   "name": "python3"
  },
  "language_info": {
   "codemirror_mode": {
    "name": "ipython",
    "version": 3
   },
   "file_extension": ".py",
   "mimetype": "text/x-python",
   "name": "python",
   "nbconvert_exporter": "python",
   "pygments_lexer": "ipython3",
   "version": "3.8.8"
  },
  "toc": {
   "base_numbering": 1,
   "nav_menu": {},
   "number_sections": true,
   "sideBar": true,
   "skip_h1_title": false,
   "title_cell": "Table of Contents",
   "title_sidebar": "Contents",
   "toc_cell": false,
   "toc_position": {},
   "toc_section_display": true,
   "toc_window_display": false
  },
  "varInspector": {
   "cols": {
    "lenName": 16,
    "lenType": 16,
    "lenVar": 40
   },
   "kernels_config": {
    "python": {
     "delete_cmd_postfix": "",
     "delete_cmd_prefix": "del ",
     "library": "var_list.py",
     "varRefreshCmd": "print(var_dic_list())"
    },
    "r": {
     "delete_cmd_postfix": ") ",
     "delete_cmd_prefix": "rm(",
     "library": "var_list.r",
     "varRefreshCmd": "cat(var_dic_list()) "
    }
   },
   "types_to_exclude": [
    "module",
    "function",
    "builtin_function_or_method",
    "instance",
    "_Feature"
   ],
   "window_display": false
  }
 },
 "nbformat": 4,
 "nbformat_minor": 2
}
