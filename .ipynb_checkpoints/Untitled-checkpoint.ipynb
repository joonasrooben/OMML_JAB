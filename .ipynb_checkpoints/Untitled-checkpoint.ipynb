{
 "cells": [
  {
   "cell_type": "code",
   "execution_count": 2,
   "id": "8c1201bf",
   "metadata": {},
   "outputs": [],
   "source": [
    "from Tester import *"
   ]
  },
  {
   "cell_type": "code",
   "execution_count": 8,
   "id": "e0b16bba",
   "metadata": {},
   "outputs": [
    {
     "name": "stdout",
     "output_type": "stream",
     "text": [
      "Loss in the beginnnig: 0.7981970976441324\n",
      "Loss in the beginnnig: 0.7859173064437722\n",
      "Loss in the beginnnig: 2.2204419342392203\n",
      "Loss in the beginnnig: 1.2424132347744676\n",
      "Loss in the beginnnig: 2.642553276049524\n",
      "Loss in the beginnnig: 3.3505391892682432\n",
      "Loss in the beginnnig: 0.7766386090268097\n",
      "Loss in the beginnnig: 0.7171616083313429\n",
      "Loss in the beginnnig: 2.930552891723054\n",
      "Loss in the beginnnig: 1.4161186767890603\n",
      "Loss in the beginnnig: 3.7044730893046416\n",
      "Loss in the beginnnig: 4.008801546132782\n",
      "Loss in the beginnnig: 0.7513426041811141\n",
      "Loss in the beginnnig: 0.646801026824003\n",
      "Loss in the beginnnig: 3.7640825901692074\n",
      "Loss in the beginnnig: 1.6269227318351267\n",
      "Loss in the beginnnig: 5.0933884074496945\n",
      "Loss in the beginnnig: 4.503394281594533\n",
      "Loss in the beginnnig: 0.7233840863894847\n",
      "Loss in the beginnnig: 0.5841612155450046\n",
      "Loss in the beginnnig: 4.6959251643140165\n",
      "Loss in the beginnnig: 1.8494717285028182\n",
      "Loss in the beginnnig: 6.785599852484997\n",
      "Loss in the beginnnig: 4.896814224856439\n",
      "Loss in the beginnnig: 0.694698027665703\n",
      "Loss in the beginnnig: 0.5325763739749969\n",
      "Loss in the beginnnig: 5.694214435847499\n",
      "Loss in the beginnnig: 2.0677190932085514\n",
      "Loss in the beginnnig: 8.719386336817129\n",
      "Loss in the beginnnig: 5.217100824464331\n",
      "Loss in the beginnnig: 0.6669887762250254\n",
      "Loss in the beginnnig: 0.4929351218249848\n",
      "Loss in the beginnnig: 6.724976795783799\n",
      "Loss in the beginnnig: 2.2745131701834005\n",
      "Loss in the beginnnig: 10.820623975547331\n",
      "Loss in the beginnnig: 5.4740278245303795\n",
      "Loss in the beginnnig: 0.6413523850715315\n",
      "Loss in the beginnnig: 0.4647566876679177\n",
      "Loss in the beginnnig: 7.756914371294443\n",
      "Loss in the beginnnig: 2.467128835496058\n",
      "Loss in the beginnnig: 13.017690550306853\n",
      "Loss in the beginnnig: 5.678027636406433\n",
      "Loss in the beginnnig: 0.6183243929158021\n",
      "Loss in the beginnnig: 0.4467018363557808\n",
      "Loss in the beginnnig: 8.764376675388588\n",
      "Loss in the beginnnig: 2.6447451806950797\n",
      "Loss in the beginnnig: 15.248032427366018\n",
      "Loss in the beginnnig: 5.842857267029609\n",
      "Loss in the beginnnig: 0.7986226840731815\n",
      "Loss in the beginnnig: 0.7880159703012006\n",
      "Loss in the beginnnig: 2.224564042296005\n",
      "Loss in the beginnnig: 1.248716582429305\n",
      "Loss in the beginnnig: 2.6517595066697375\n",
      "Loss in the beginnnig: 3.3628314056941924\n",
      "Loss in the beginnnig: 0.7770641954558588\n",
      "Loss in the beginnnig: 0.7192602721887713\n",
      "Loss in the beginnnig: 2.9346749997798387\n",
      "Loss in the beginnnig: 1.4224220244438976\n",
      "Loss in the beginnnig: 3.713679319924855\n",
      "Loss in the beginnnig: 4.021093762558731\n",
      "Loss in the beginnnig: 0.7517681906101632\n",
      "Loss in the beginnnig: 0.6488996906814314\n",
      "Loss in the beginnnig: 3.768204698225992\n",
      "Loss in the beginnnig: 1.633226079489964\n",
      "Loss in the beginnnig: 5.102594638069908\n",
      "Loss in the beginnnig: 4.515686498020482\n",
      "Loss in the beginnnig: 0.7238096728185338\n",
      "Loss in the beginnnig: 0.586259879402433\n",
      "Loss in the beginnnig: 4.700047272370802\n",
      "Loss in the beginnnig: 1.8557750761576555\n",
      "Loss in the beginnnig: 6.79480608310521\n",
      "Loss in the beginnnig: 4.909106441282389\n",
      "Loss in the beginnnig: 0.6951236140947521\n",
      "Loss in the beginnnig: 0.5346750378324253\n",
      "Loss in the beginnnig: 5.698336543904285\n",
      "Loss in the beginnnig: 2.0740224408633887\n",
      "Loss in the beginnnig: 8.728592567437342\n",
      "Loss in the beginnnig: 5.2293930408902805\n",
      "Loss in the beginnnig: 0.6674143626540745\n",
      "Loss in the beginnnig: 0.4950337856824132\n",
      "Loss in the beginnnig: 6.729098903840584\n",
      "Loss in the beginnnig: 2.280816517838238\n",
      "Loss in the beginnnig: 10.829830206167545\n",
      "Loss in the beginnnig: 5.486320040956329\n",
      "Loss in the beginnnig: 0.6417779715005806\n",
      "Loss in the beginnnig: 0.46685535152534613\n",
      "Loss in the beginnnig: 7.761036479351229\n",
      "Loss in the beginnnig: 2.473432183150895\n",
      "Loss in the beginnnig: 13.026896780927066\n",
      "Loss in the beginnnig: 5.690319852832382\n",
      "Loss in the beginnnig: 0.6187499793448512\n",
      "Loss in the beginnnig: 0.4488005002132092\n",
      "Loss in the beginnnig: 8.768498783445372\n",
      "Loss in the beginnnig: 2.651048528349917\n",
      "Loss in the beginnnig: 15.257238657986232\n",
      "Loss in the beginnnig: 5.855149483455558\n",
      "Loss in the beginnnig: 0.7990482705022307\n",
      "Loss in the beginnnig: 0.790114634158629\n",
      "Loss in the beginnnig: 2.22868615035279\n",
      "Loss in the beginnnig: 1.2550199300841423\n",
      "Loss in the beginnnig: 2.660965737289951\n",
      "Loss in the beginnnig: 3.375123622120142\n",
      "Loss in the beginnnig: 0.777489781884908\n",
      "Loss in the beginnnig: 0.7213589360461997\n",
      "Loss in the beginnnig: 2.9387971078366237\n",
      "Loss in the beginnnig: 1.428725372098735\n",
      "Loss in the beginnnig: 3.7228855505450684\n",
      "Loss in the beginnnig: 4.03338597898468\n",
      "Loss in the beginnnig: 0.7521937770392124\n",
      "Loss in the beginnnig: 0.6509983545388598\n",
      "Loss in the beginnnig: 3.772326806282777\n",
      "Loss in the beginnnig: 1.6395294271448013\n",
      "Loss in the beginnnig: 5.111800868690122\n",
      "Loss in the beginnnig: 4.527978714446432\n",
      "Loss in the beginnnig: 0.724235259247583\n",
      "Loss in the beginnnig: 0.5883585432598614\n",
      "Loss in the beginnnig: 4.704169380427587\n",
      "Loss in the beginnnig: 1.8620784238124928\n",
      "Loss in the beginnnig: 6.8040123137254245\n",
      "Loss in the beginnnig: 4.921398657708338\n",
      "Loss in the beginnnig: 0.6955492005238013\n",
      "Loss in the beginnnig: 0.5367737016898537\n",
      "Loss in the beginnnig: 5.702458651961069\n",
      "Loss in the beginnnig: 2.0803257885182256\n",
      "Loss in the beginnnig: 8.737798798057556\n",
      "Loss in the beginnnig: 5.24168525731623\n",
      "Loss in the beginnnig: 0.6678399490831237\n",
      "Loss in the beginnnig: 0.4971324495398416\n",
      "Loss in the beginnnig: 6.733221011897369\n",
      "Loss in the beginnnig: 2.2871198654930747\n",
      "Loss in the beginnnig: 10.839036436787758\n",
      "Loss in the beginnnig: 5.498612257382279\n",
      "Loss in the beginnnig: 0.6422035579296298\n",
      "Loss in the beginnnig: 0.46895401538277454\n",
      "Loss in the beginnnig: 7.765158587408013\n",
      "Loss in the beginnnig: 2.479735530805732\n",
      "Loss in the beginnnig: 13.03610301154728\n",
      "Loss in the beginnnig: 5.702612069258332\n",
      "Loss in the beginnnig: 0.6191755657739004\n",
      "Loss in the beginnnig: 0.4508991640706376\n",
      "Loss in the beginnnig: 8.772620891502157\n",
      "Loss in the beginnnig: 2.657351876004754\n",
      "Loss in the beginnnig: 15.266444888606445\n",
      "Loss in the beginnnig: 5.867441699881508\n",
      "Loss in the beginnnig: 0.7994738569312798\n",
      "Loss in the beginnnig: 0.7922132980160574\n",
      "Loss in the beginnnig: 2.232808258409575\n",
      "Loss in the beginnnig: 1.2613232777389796\n",
      "Loss in the beginnnig: 2.6701719679101643\n",
      "Loss in the beginnnig: 3.387415838546091\n",
      "Loss in the beginnnig: 0.7779153683139571\n",
      "Loss in the beginnnig: 0.7234575999036281\n",
      "Loss in the beginnnig: 2.9429192158934088\n",
      "Loss in the beginnnig: 1.4350287197535723\n",
      "Loss in the beginnnig: 3.732091781165282\n",
      "Loss in the beginnnig: 4.04567819541063\n",
      "Loss in the beginnnig: 0.7526193634682615\n",
      "Loss in the beginnnig: 0.6530970183962882\n",
      "Loss in the beginnnig: 3.776448914339562\n",
      "Loss in the beginnnig: 1.6458327747996386\n",
      "Loss in the beginnnig: 5.121007099310336\n",
      "Loss in the beginnnig: 4.540270930872381\n",
      "Loss in the beginnnig: 0.7246608456766321\n",
      "Loss in the beginnnig: 0.5904572071172898\n",
      "Loss in the beginnnig: 4.708291488484371\n",
      "Loss in the beginnnig: 1.86838177146733\n",
      "Loss in the beginnnig: 6.813218544345638\n",
      "Loss in the beginnnig: 4.933690874134288\n",
      "Loss in the beginnnig: 0.6959747869528504\n",
      "Loss in the beginnnig: 0.5388723655472821\n",
      "Loss in the beginnnig: 5.706580760017854\n",
      "Loss in the beginnnig: 2.086629136173063\n",
      "Loss in the beginnnig: 8.74700502867777\n",
      "Loss in the beginnnig: 5.25397747374218\n",
      "Loss in the beginnnig: 0.6682655355121728\n",
      "Loss in the beginnnig: 0.49923111339727\n",
      "Loss in the beginnnig: 6.737343119954153\n",
      "Loss in the beginnnig: 2.293423213147912\n",
      "Loss in the beginnnig: 10.848242667407971\n",
      "Loss in the beginnnig: 5.510904473808228\n",
      "Loss in the beginnnig: 0.6426291443586789\n",
      "Loss in the beginnnig: 0.47105267924020294\n",
      "Loss in the beginnnig: 7.769280695464798\n",
      "Loss in the beginnnig: 2.4860388784605694\n",
      "Loss in the beginnnig: 13.045309242167493\n",
      "Loss in the beginnnig: 5.714904285684281\n",
      "Loss in the beginnnig: 0.6196011522029495\n",
      "Loss in the beginnnig: 0.45299782792806603\n",
      "Loss in the beginnnig: 8.776742999558943\n",
      "Loss in the beginnnig: 2.663655223659591\n",
      "Loss in the beginnnig: 15.275651119226659\n",
      "Loss in the beginnnig: 5.879733916307457\n",
      "Loss in the beginnnig: 0.799899443360329\n",
      "Loss in the beginnnig: 0.7943119618734859\n",
      "Loss in the beginnnig: 2.2369303664663596\n",
      "Loss in the beginnnig: 1.2676266253938167\n",
      "Loss in the beginnnig: 2.6793781985303777\n",
      "Loss in the beginnnig: 3.3997080549720406\n"
     ]
    },
    {
     "name": "stdout",
     "output_type": "stream",
     "text": [
      "Loss in the beginnnig: 0.7783409547430064\n",
      "Loss in the beginnnig: 0.7255562637610565\n",
      "Loss in the beginnnig: 2.9470413239501934\n",
      "Loss in the beginnnig: 1.4413320674084094\n",
      "Loss in the beginnnig: 3.7412980117854953\n",
      "Loss in the beginnnig: 4.057970411836579\n",
      "Loss in the beginnnig: 0.7530449498973107\n",
      "Loss in the beginnnig: 0.6551956822537166\n",
      "Loss in the beginnnig: 3.7805710223963467\n",
      "Loss in the beginnnig: 1.6521361224544757\n",
      "Loss in the beginnnig: 5.130213329930549\n",
      "Loss in the beginnnig: 4.55256314729833\n",
      "Loss in the beginnnig: 0.7250864321056814\n",
      "Loss in the beginnnig: 0.5925558709747182\n",
      "Loss in the beginnnig: 4.712413596541157\n",
      "Loss in the beginnnig: 1.8746851191221672\n",
      "Loss in the beginnnig: 6.822424774965851\n",
      "Loss in the beginnnig: 4.945983090560237\n",
      "Loss in the beginnnig: 0.6964003733818996\n",
      "Loss in the beginnnig: 0.5409710294047105\n",
      "Loss in the beginnnig: 5.710702868074639\n",
      "Loss in the beginnnig: 2.0929324838279\n",
      "Loss in the beginnnig: 8.756211259297983\n",
      "Loss in the beginnnig: 5.266269690168128\n",
      "Loss in the beginnnig: 0.668691121941222\n",
      "Loss in the beginnnig: 0.5013297772546984\n",
      "Loss in the beginnnig: 6.741465228010939\n",
      "Loss in the beginnnig: 2.2997265608027493\n",
      "Loss in the beginnnig: 10.857448898028185\n",
      "Loss in the beginnnig: 5.523196690234177\n",
      "Loss in the beginnnig: 0.6430547307877281\n",
      "Loss in the beginnnig: 0.47315134309763135\n",
      "Loss in the beginnnig: 7.773402803521583\n",
      "Loss in the beginnnig: 2.4923422261154067\n",
      "Loss in the beginnnig: 13.054515472787706\n",
      "Loss in the beginnnig: 5.72719650211023\n",
      "Loss in the beginnnig: 0.6200267386319988\n",
      "Loss in the beginnnig: 0.45509649178549444\n",
      "Loss in the beginnnig: 8.780865107615726\n",
      "Loss in the beginnnig: 2.6699585713144285\n",
      "Loss in the beginnnig: 15.284857349846872\n",
      "Loss in the beginnnig: 5.892026132733406\n"
     ]
    }
   ],
   "source": [
    "## grid search question 1\n",
    "\n",
    "rho_list = np.arange(0.0005, 0.0015, 0.0002)\n",
    "sigma_list = np.arange(1, 3, 0.25)\n",
    "N_list = range(1, 52, 10)\n",
    "opt_params = grid_search(X_train, X_test, y_tr, y_test, 1,rho_list, sigma_list, N_list, 'CG')\n",
    "\n"
   ]
  },
  {
   "cell_type": "code",
   "execution_count": 12,
   "id": "55d167ed",
   "metadata": {},
   "outputs": [
    {
     "name": "stdout",
     "output_type": "stream",
     "text": [
      "(0.0005, 1.0, 51)\n"
     ]
    },
    {
     "data": {
      "text/plain": [
       "[<matplotlib.lines.Line2D at 0x2051a764f70>]"
      ]
     },
     "execution_count": 12,
     "metadata": {},
     "output_type": "execute_result"
    },
    {
     "data": {
      "image/png": "[encoded data removed]",
      "text/plain": [
       "<Figure size 432x288 with 1 Axes>"
      ]
     },
     "metadata": {
      "needs_background": "light"
     },
     "output_type": "display_data"
    }
   ],
   "source": [
    "print(opt_params[0])\n",
    "\n",
    "hyperparam_err = opt_params[1]\n",
    "plt.plot(rho_list, hyperparam_err[:, 0, 0])\n"
   ]
  },
  {
   "cell_type": "code",
   "execution_count": 11,
   "id": "57f7f840",
   "metadata": {},
   "outputs": [
    {
     "data": {
      "text/plain": [
       "[<matplotlib.lines.Line2D at 0x2051a706c40>]"
      ]
     },
     "execution_count": 11,
     "metadata": {},
     "output_type": "execute_result"
    },
    {
     "data": {
      "image/png": "[encoded data removed]",
      "text/plain": [
       "<Figure size 432x288 with 1 Axes>"
      ]
     },
     "metadata": {
      "needs_background": "light"
     },
     "output_type": "display_data"
    }
   ],
   "source": [
    "plt.plot(sigma_list, hyperparam_err[0, :, 0])\n"
   ]
  },
  {
   "cell_type": "code",
   "execution_count": 14,
   "id": "fda4872a",
   "metadata": {},
   "outputs": [
    {
     "data": {
      "text/plain": [
       "[<matplotlib.lines.Line2D at 0x2051a81b5b0>]"
      ]
     },
     "execution_count": 14,
     "metadata": {},
     "output_type": "execute_result"
    },
    {
     "data": {
      "image/png": "[encoded data removed]",
      "text/plain": [
       "<Figure size 432x288 with 1 Axes>"
      ]
     },
     "metadata": {
      "needs_background": "light"
     },
     "output_type": "display_data"
    }
   ],
   "source": [
    "plt.plot(N_list, hyperparam_err[0, 0, :])"
   ]
  },
  {
   "cell_type": "code",
   "execution_count": null,
   "id": "f446b1ba",
   "metadata": {},
   "outputs": [],
   "source": []
  }
 ],
 "metadata": {
  "kernelspec": {
   "display_name": "Python 3",
   "language": "python",
   "name": "python3"
  },
  "language_info": {
   "codemirror_mode": {
    "name": "ipython",
    "version": 3
   },
   "file_extension": ".py",
   "mimetype": "text/x-python",
   "name": "python",
   "nbconvert_exporter": "python",
   "pygments_lexer": "ipython3",
   "version": "3.8.8"
  }
 },
 "nbformat": 4,
 "nbformat_minor": 5
}
