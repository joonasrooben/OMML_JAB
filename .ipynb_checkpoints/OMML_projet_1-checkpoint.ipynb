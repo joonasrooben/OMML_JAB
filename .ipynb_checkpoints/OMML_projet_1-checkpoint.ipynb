{
 "cells": [
  {
   "cell_type": "markdown",
   "metadata": {
    "colab_type": "text",
    "id": "view-in-github"
   },
   "source": [
    "<a href=\"https://colab.research.google.com/github/joonasrooben/OMML_JAB/blob/main/OMML_projet_1.ipynb\" target=\"_parent\"><img src=\"https://colab.research.google.com/assets/colab-badge.svg\" alt=\"Open In Colab\"/></a>"
   ]
  },
  {
   "cell_type": "markdown",
   "metadata": {
    "id": "9WlCND-afjAa"
   },
   "source": [
    "#OMML PROJECT"
   ]
  },
  {
   "cell_type": "markdown",
   "metadata": {
    "id": "bXPDBQVwhrGN"
   },
   "source": [
    "### Imports"
   ]
  },
  {
   "cell_type": "code",
   "execution_count": 1,
   "metadata": {
    "id": "DsL2bv_BftMS"
   },
   "outputs": [],
   "source": [
    "import pandas as pd\n",
    "from sklearn.model_selection import train_test_split\n",
    "import numpy as np\n",
    "import math\n",
    "import scipy as sp\n",
    "from scipy.optimize import minimize"
   ]
  },
  {
   "cell_type": "markdown",
   "metadata": {
    "id": "mZgyi4cYh0dr"
   },
   "source": [
    "### Data analysis"
   ]
  },
  {
   "cell_type": "code",
   "execution_count": 2,
   "metadata": {
    "id": "NiDyx0cOf6Us"
   },
   "outputs": [],
   "source": [
    "data = pd.read_csv('DATA (1).csv')"
   ]
  },
  {
   "cell_type": "code",
   "execution_count": 3,
   "metadata": {
    "colab": {
     "base_uri": "https://localhost:8080/",
     "height": 206
    },
    "id": "-ee3rOPgf_jH",
    "outputId": "869921e2-d1ad-4df7-dddc-19a4a72c6caf",
    "scrolled": true
   },
   "outputs": [
    {
     "data": {
      "text/html": [
       "<div>\n",
       "<style scoped>\n",
       "    .dataframe tbody tr th:only-of-type {\n",
       "        vertical-align: middle;\n",
       "    }\n",
       "\n",
       "    .dataframe tbody tr th {\n",
       "        vertical-align: top;\n",
       "    }\n",
       "\n",
       "    .dataframe thead th {\n",
       "        text-align: right;\n",
       "    }\n",
       "</style>\n",
       "<table border=\"1\" class=\"dataframe\">\n",
       "  <thead>\n",
       "    <tr style=\"text-align: right;\">\n",
       "      <th></th>\n",
       "      <th>x1</th>\n",
       "      <th>x2</th>\n",
       "      <th>y</th>\n",
       "    </tr>\n",
       "  </thead>\n",
       "  <tbody>\n",
       "    <tr>\n",
       "      <th>0</th>\n",
       "      <td>1.725110</td>\n",
       "      <td>2.665940</td>\n",
       "      <td>0.101883</td>\n",
       "    </tr>\n",
       "    <tr>\n",
       "      <th>1</th>\n",
       "      <td>-1.137973</td>\n",
       "      <td>-1.059821</td>\n",
       "      <td>2.172760</td>\n",
       "    </tr>\n",
       "    <tr>\n",
       "      <th>2</th>\n",
       "      <td>1.652338</td>\n",
       "      <td>2.958089</td>\n",
       "      <td>0.118859</td>\n",
       "    </tr>\n",
       "    <tr>\n",
       "      <th>3</th>\n",
       "      <td>1.866858</td>\n",
       "      <td>-1.740966</td>\n",
       "      <td>-0.289316</td>\n",
       "    </tr>\n",
       "    <tr>\n",
       "      <th>4</th>\n",
       "      <td>-1.760604</td>\n",
       "      <td>1.350072</td>\n",
       "      <td>0.104652</td>\n",
       "    </tr>\n",
       "  </tbody>\n",
       "</table>\n",
       "</div>"
      ],
      "text/plain": [
       "         x1        x2         y\n",
       "0  1.725110  2.665940  0.101883\n",
       "1 -1.137973 -1.059821  2.172760\n",
       "2  1.652338  2.958089  0.118859\n",
       "3  1.866858 -1.740966 -0.289316\n",
       "4 -1.760604  1.350072  0.104652"
      ]
     },
     "execution_count": 3,
     "metadata": {},
     "output_type": "execute_result"
    }
   ],
   "source": [
    "data.head(5)"
   ]
  },
  {
   "cell_type": "code",
   "execution_count": 4,
   "metadata": {
    "colab": {
     "base_uri": "https://localhost:8080/"
    },
    "id": "PZemtgvngMyQ",
    "outputId": "b4d194fd-479b-4012-8562-02f6c81974eb"
   },
   "outputs": [
    {
     "data": {
      "text/plain": [
       "250"
      ]
     },
     "execution_count": 4,
     "metadata": {},
     "output_type": "execute_result"
    }
   ],
   "source": [
    "len(data)"
   ]
  },
  {
   "cell_type": "markdown",
   "metadata": {
    "id": "mUAiRafsh7xt"
   },
   "source": []
  },
  {
   "cell_type": "markdown",
   "metadata": {
    "id": "MgPYfz1Zh9q2"
   },
   "source": [
    "### Split the dataset\n",
    "\n",
    "We put 0.255 for the test_size instead of 0.25 to be sure to have 186 observations in the training_data"
   ]
  },
  {
   "cell_type": "code",
   "execution_count": 4,
   "metadata": {
    "id": "BtVJ6CeQgtk5"
   },
   "outputs": [],
   "source": []
  },
  {
   "cell_type": "code",
   "execution_count": 5,
   "metadata": {
    "id": "8e4AZtca2dUi"
   },
   "outputs": [],
   "source": [
    "X_train, X_test, y_train, y_test = train_test_split(data[['x1','x2']], data[['y']], test_size=0.255, random_state=1990243)"
   ]
  },
  {
   "cell_type": "code",
   "execution_count": 6,
   "metadata": {
    "colab": {
     "base_uri": "https://localhost:8080/"
    },
    "id": "JIdYkFCqiuU6",
    "outputId": "013eeb76-fca3-40ac-f42f-d6a5dbf531bf"
   },
   "outputs": [
    {
     "data": {
      "text/plain": [
       "186"
      ]
     },
     "execution_count": 6,
     "metadata": {},
     "output_type": "execute_result"
    }
   ],
   "source": [
    "n = len(X_train)\n",
    "n"
   ]
  },
  {
   "cell_type": "code",
   "execution_count": 7,
   "metadata": {
    "colab": {
     "base_uri": "https://localhost:8080/",
     "height": 423
    },
    "id": "AY_1u15BjlCU",
    "outputId": "db8a9443-9347-403a-c4f0-4744e4c5d128"
   },
   "outputs": [
    {
     "data": {
      "text/html": [
       "<div>\n",
       "<style scoped>\n",
       "    .dataframe tbody tr th:only-of-type {\n",
       "        vertical-align: middle;\n",
       "    }\n",
       "\n",
       "    .dataframe tbody tr th {\n",
       "        vertical-align: top;\n",
       "    }\n",
       "\n",
       "    .dataframe thead th {\n",
       "        text-align: right;\n",
       "    }\n",
       "</style>\n",
       "<table border=\"1\" class=\"dataframe\">\n",
       "  <thead>\n",
       "    <tr style=\"text-align: right;\">\n",
       "      <th></th>\n",
       "      <th>x1</th>\n",
       "      <th>x2</th>\n",
       "    </tr>\n",
       "  </thead>\n",
       "  <tbody>\n",
       "    <tr>\n",
       "      <th>236</th>\n",
       "      <td>0.890055</td>\n",
       "      <td>-2.955518</td>\n",
       "    </tr>\n",
       "    <tr>\n",
       "      <th>134</th>\n",
       "      <td>0.355821</td>\n",
       "      <td>-2.385734</td>\n",
       "    </tr>\n",
       "    <tr>\n",
       "      <th>129</th>\n",
       "      <td>1.795969</td>\n",
       "      <td>0.914778</td>\n",
       "    </tr>\n",
       "    <tr>\n",
       "      <th>209</th>\n",
       "      <td>0.070684</td>\n",
       "      <td>-2.177204</td>\n",
       "    </tr>\n",
       "    <tr>\n",
       "      <th>52</th>\n",
       "      <td>1.674262</td>\n",
       "      <td>0.182846</td>\n",
       "    </tr>\n",
       "    <tr>\n",
       "      <th>...</th>\n",
       "      <td>...</td>\n",
       "      <td>...</td>\n",
       "    </tr>\n",
       "    <tr>\n",
       "      <th>244</th>\n",
       "      <td>1.557484</td>\n",
       "      <td>-0.167087</td>\n",
       "    </tr>\n",
       "    <tr>\n",
       "      <th>158</th>\n",
       "      <td>-1.730929</td>\n",
       "      <td>-0.657224</td>\n",
       "    </tr>\n",
       "    <tr>\n",
       "      <th>33</th>\n",
       "      <td>-1.367034</td>\n",
       "      <td>2.838806</td>\n",
       "    </tr>\n",
       "    <tr>\n",
       "      <th>35</th>\n",
       "      <td>-1.733677</td>\n",
       "      <td>-1.672311</td>\n",
       "    </tr>\n",
       "    <tr>\n",
       "      <th>19</th>\n",
       "      <td>1.584105</td>\n",
       "      <td>-0.238108</td>\n",
       "    </tr>\n",
       "  </tbody>\n",
       "</table>\n",
       "<p>186 rows × 2 columns</p>\n",
       "</div>"
      ],
      "text/plain": [
       "           x1        x2\n",
       "236  0.890055 -2.955518\n",
       "134  0.355821 -2.385734\n",
       "129  1.795969  0.914778\n",
       "209  0.070684 -2.177204\n",
       "52   1.674262  0.182846\n",
       "..        ...       ...\n",
       "244  1.557484 -0.167087\n",
       "158 -1.730929 -0.657224\n",
       "33  -1.367034  2.838806\n",
       "35  -1.733677 -1.672311\n",
       "19   1.584105 -0.238108\n",
       "\n",
       "[186 rows x 2 columns]"
      ]
     },
     "execution_count": 7,
     "metadata": {},
     "output_type": "execute_result"
    }
   ],
   "source": [
    "X_train"
   ]
  },
  {
   "cell_type": "markdown",
   "metadata": {
    "id": "wm2cScREkAGE"
   },
   "source": []
  },
  {
   "cell_type": "markdown",
   "metadata": {
    "id": "lrkdpvQ9jrMJ"
   },
   "source": [
    "### Question 1\n"
   ]
  },
  {
   "cell_type": "markdown",
   "metadata": {
    "id": "nBxl-IPVkXAU"
   },
   "source": [
    "#### Question 1.1\n"
   ]
  },
  {
   "cell_type": "markdown",
   "metadata": {
    "id": "u5xebk1XsZgQ"
   },
   "source": [
    "**Activation function**\n",
    "\n",
    "We define the acivation function."
   ]
  },
  {
   "cell_type": "code",
   "execution_count": 8,
   "metadata": {
    "id": "VLLqSq9ukczJ"
   },
   "outputs": [],
   "source": [
    "def activationFunction(t, sigma = 1):\n",
    "  return (np.exp(2*sigma*t)-1)/(np.exp(2*sigma*t)+1)"
   ]
  },
  {
   "cell_type": "markdown",
   "metadata": {
    "id": "ctZ_0UpapcD9"
   },
   "source": [
    "**Weight Initialization for Tanh**\n",
    "\n",
    "The current standard approach for initialization of the weights of neural network layers and nodes that use the Sigmoid or TanH activation function is called “glorot” or “xavier” initialization\n",
    "\n",
    "The xavier initialization method is calculated as a random number with a uniform probability distribution (U) between the range -(1/sqrt(n)) and 1/sqrt(n), where n is the number of inputs to the node.\n",
    "\n",
    "weight = U [-(1/sqrt(n)), 1/sqrt(n)]"
   ]
  },
  {
   "cell_type": "markdown",
   "metadata": {
    "id": "iETR046E5yD4"
   },
   "source": [
    "Let's define all the hyperparameters here\n",
    "Let's put 3 neurons in our hidden layer"
   ]
  },
  {
   "cell_type": "code",
   "execution_count": 9,
   "metadata": {
    "id": "HRfyz74e55Is"
   },
   "outputs": [],
   "source": [
    "N = 5\n",
    "rho = 1\n",
    "sigma = 1"
   ]
  },
  {
   "cell_type": "code",
   "execution_count": 10,
   "metadata": {
    "colab": {
     "base_uri": "https://localhost:8080/"
    },
    "id": "Nt_Jpy8jkenl",
    "outputId": "e15a92e3-4a05-4805-a561-8d2b83dc2d17"
   },
   "outputs": [
    {
     "data": {
      "text/plain": [
       "(186, 2)"
      ]
     },
     "execution_count": 10,
     "metadata": {},
     "output_type": "execute_result"
    }
   ],
   "source": [
    "inputs = X_train\n",
    "inputs = inputs.to_numpy()\n",
    "inputs.shape"
   ]
  },
  {
   "cell_type": "code",
   "execution_count": 11,
   "metadata": {
    "id": "zdXnMqshomgJ"
   },
   "outputs": [],
   "source": [
    "def createWeightsForOneNeuron(N):\n",
    "  initial_weights_one_neuron = []\n",
    "  for i in range(0,N):\n",
    "    initial_weights_one_neuron.append(np.random.uniform(low = -(1/math.sqrt(N)), high = 1/math.sqrt(N)))\n",
    "  return initial_weights_one_neuron\n",
    "\n",
    "def create_initial_weights(N):\n",
    "  initial_weights = []\n",
    "  for i in range(0,2):\n",
    "    initial_weights.append(createWeightsForOneNeuron(N))\n",
    "  return initial_weights\n",
    "\n",
    "weightsW = np.asarray(create_initial_weights(N))\n"
   ]
  },
  {
   "cell_type": "code",
   "execution_count": 12,
   "metadata": {
    "id": "zWIPr3h-lUTG"
   },
   "outputs": [],
   "source": [
    "mult = np.matmul(inputs, weightsW)"
   ]
  },
  {
   "cell_type": "markdown",
   "metadata": {
    "id": "jLWwVePIBD4t"
   },
   "source": [
    "Create vector of bias\n"
   ]
  },
  {
   "cell_type": "code",
   "execution_count": 13,
   "metadata": {
    "id": "0piXaQl1BHaQ"
   },
   "outputs": [],
   "source": [
    "bias = np.ones((N,1))"
   ]
  },
  {
   "cell_type": "markdown",
   "metadata": {
    "id": "T3D0ohloB7zM"
   },
   "source": [
    "Creation of the linear function\n",
    "\n",
    "∑wjixi+bj\n"
   ]
  },
  {
   "cell_type": "code",
   "execution_count": 14,
   "metadata": {
    "colab": {
     "base_uri": "https://localhost:8080/"
    },
    "id": "2kgWMwFXCgE7",
    "outputId": "b9d23a51-6653-4eee-99bc-be84878a50c2"
   },
   "outputs": [
    {
     "data": {
      "text/plain": [
       "(186, 5)"
      ]
     },
     "execution_count": 14,
     "metadata": {},
     "output_type": "execute_result"
    }
   ],
   "source": [
    "linearResult = mult + bias.T\n",
    "linearResult.shape"
   ]
  },
  {
   "cell_type": "markdown",
   "metadata": {
    "id": "52Wfe3buE2gX"
   },
   "source": [
    "Now the step is the get this number into the activation function"
   ]
  },
  {
   "cell_type": "code",
   "execution_count": 15,
   "metadata": {
    "colab": {
     "base_uri": "https://localhost:8080/"
    },
    "id": "1vTeihx-pgnI",
    "outputId": "08153f99-f1ff-40d6-acb9-eb6420bc39fc"
   },
   "outputs": [
    {
     "data": {
      "text/plain": [
       "(186, 5)"
      ]
     },
     "execution_count": 15,
     "metadata": {},
     "output_type": "execute_result"
    }
   ],
   "source": [
    "acti = activationFunction(linearResult)\n",
    "acti.shape"
   ]
  },
  {
   "cell_type": "markdown",
   "metadata": {
    "id": "-HLf4s70DLX6"
   },
   "source": [
    "We generate weigths for hidden layers\n"
   ]
  },
  {
   "cell_type": "code",
   "execution_count": 16,
   "metadata": {
    "id": "sZ0-6E8NDR55"
   },
   "outputs": [],
   "source": [
    "def createWeightsForHiddenLayer(N):\n",
    "  weightHiddenLayer = []\n",
    "  for i in range(0,N):\n",
    "    weightHiddenLayer.append(np.random.uniform(low = -(1/math.sqrt(N)), high = 1/math.sqrt(N)))\n",
    "  return weightHiddenLayer"
   ]
  },
  {
   "cell_type": "code",
   "execution_count": 17,
   "metadata": {
    "id": "2Odrz6YIFIb-"
   },
   "outputs": [],
   "source": [
    "v = createWeightsForHiddenLayer(N)\n",
    "v = np.array(v)"
   ]
  },
  {
   "cell_type": "code",
   "execution_count": 18,
   "metadata": {
    "colab": {
     "base_uri": "https://localhost:8080/"
    },
    "id": "Hnw9ha37qIWD",
    "outputId": "08f848aa-e098-4614-92e5-ff7ada6226c0"
   },
   "outputs": [
    {
     "data": {
      "text/plain": [
       "(186,)"
      ]
     },
     "execution_count": 18,
     "metadata": {},
     "output_type": "execute_result"
    }
   ],
   "source": [
    "f_x = np.matmul(v,acti.T)\n",
    "f_x.shape\n"
   ]
  },
  {
   "cell_type": "markdown",
   "metadata": {
    "id": "R3hgqRANFqNX"
   },
   "source": [
    "Now we have the MLP. We'll computed the regularized training error function E(v,w,b)"
   ]
  },
  {
   "cell_type": "code",
   "execution_count": 19,
   "metadata": {
    "colab": {
     "base_uri": "https://localhost:8080/"
    },
    "id": "7P5CTQXhsgR-",
    "outputId": "16aac56b-f2b2-47f3-d4d8-0f473bfc3087"
   },
   "outputs": [
    {
     "data": {
      "text/plain": [
       "(186,)"
      ]
     },
     "execution_count": 19,
     "metadata": {},
     "output_type": "execute_result"
    }
   ],
   "source": [
    "y = y_train\n",
    "y = y.to_numpy()\n",
    "y = y.reshape((-1))\n",
    "y.shape"
   ]
  },
  {
   "cell_type": "code",
   "execution_count": 20,
   "metadata": {
    "id": "qSp5yDJxAUmY"
   },
   "outputs": [],
   "source": [
    "P = len(X_train)"
   ]
  },
  {
   "cell_type": "code",
   "execution_count": 21,
   "metadata": {
    "id": "TZoWmT7ysPTz"
   },
   "outputs": [],
   "source": [
    "firstTermE = (1/2*P)* sum((f_x - y)**2)"
   ]
  },
  {
   "cell_type": "markdown",
   "metadata": {
    "id": "atHuItHCKYou"
   },
   "source": [
    "First create the regularization term\n",
    "\n"
   ]
  },
  {
   "cell_type": "code",
   "execution_count": 22,
   "metadata": {
    "id": "7_37K_5pGEHF"
   },
   "outputs": [],
   "source": [
    "omega = [v, weightsW, bias]"
   ]
  },
  {
   "cell_type": "code",
   "execution_count": 23,
   "metadata": {
    "id": "DG-KiO5CKgEy"
   },
   "outputs": [],
   "source": [
    "\n",
    "def computeRegularizationTerm(omega):\n",
    "    normV = np.linalg.norm(omega[0]**2)\n",
    "    normW = np.linalg.norm(omega[1]**2)\n",
    "    normB = np.linalg.norm(omega[2]**2)\n",
    "    return normV + normW + normB\n",
    "\n",
    "omega_norm = computeRegularizationTerm(omega)\n",
    "\n",
    "regularizationTerm = (rho/2)*(omega_norm)"
   ]
  },
  {
   "cell_type": "code",
   "execution_count": 24,
   "metadata": {
    "colab": {
     "base_uri": "https://localhost:8080/"
    },
    "id": "d1DfX3JKzp-c",
    "outputId": "e6f50378-698d-41a8-fa50-84315d849063"
   },
   "outputs": [
    {
     "data": {
      "text/plain": [
       "16336.71350524919"
      ]
     },
     "execution_count": 24,
     "metadata": {},
     "output_type": "execute_result"
    }
   ],
   "source": [
    "E = firstTermE + regularizationTerm\n",
    "E"
   ]
  },
  {
   "cell_type": "markdown",
   "metadata": {
    "id": "sHAjb_C37H8I"
   },
   "source": [
    "To resume a big function we have "
   ]
  },
  {
   "cell_type": "code",
   "execution_count": 25,
   "metadata": {
    "id": "vXeEYq9a7G9o"
   },
   "outputs": [],
   "source": [
    "def expectationFunction(omega ,input, target, N, rho, sigma):\n",
    "\n",
    "  W = omega[:-2*N].reshape((2,N))\n",
    "  v = omega[-N:]\n",
    "  bias = omega[-2*N:-N]\n",
    "\n",
    "\n",
    "  x = input.to_numpy()\n",
    "\n",
    "  mult = np.matmul(inputs, W)\n",
    "\n",
    "  linearResult = mult + bias.T\n",
    "\n",
    "  acti = activationFunction(linearResult, sigma)\n",
    "\n",
    "  f_x = np.matmul(v,acti.T)\n",
    "\n",
    "  y = target.to_numpy()\n",
    "  y = y.reshape((-1)) \n",
    "\n",
    "  P = len(input)\n",
    "\n",
    "  firstTermE = (1/2*P)* sum((f_x - y)**2)\n",
    "\n",
    "  omega = [v, W, bias]\n",
    "\n",
    "  regularizationTerm = (rho/2)*(omega_norm)\n",
    "\n",
    "  E = firstTermE + regularizationTerm\n",
    "\n",
    "  return  E"
   ]
  },
  {
   "cell_type": "code",
   "execution_count": 26,
   "metadata": {
    "colab": {
     "base_uri": "https://localhost:8080/"
    },
    "id": "9ChSjXf38kQk",
    "outputId": "1adebaca-e1a1-4862-c347-9cb64171213c"
   },
   "outputs": [
    {
     "data": {
      "text/plain": [
       "(2, 20)"
      ]
     },
     "execution_count": 26,
     "metadata": {},
     "output_type": "execute_result"
    }
   ],
   "source": [
    "N = 20\n",
    "rho = 1e-5\n",
    "sigma = 1\n",
    "W = np.array(create_initial_weights(N))\n",
    "W.size\n",
    "v = np.array(createWeightsForHiddenLayer(N))\n",
    "bias = np.ones((N,1))\n",
    "omega = np.append(np.append(W.flatten(), bias), v)\n",
    "W.shape\n"
   ]
  },
  {
   "cell_type": "code",
   "execution_count": 27,
   "metadata": {
    "colab": {
     "base_uri": "https://localhost:8080/"
    },
    "id": "kX6oq-omDzg1",
    "outputId": "47605911-5a24-42de-dd13-345bdfc3cb7a"
   },
   "outputs": [
    {
     "data": {
      "text/plain": [
       "30364.89987023523"
      ]
     },
     "execution_count": 27,
     "metadata": {},
     "output_type": "execute_result"
    }
   ],
   "source": [
    "expectationFunction(omega, X_train ,y_train ,N ,rho ,sigma)"
   ]
  },
  {
   "cell_type": "code",
   "execution_count": 27,
   "metadata": {
    "id": "wlurjmxMEdwm"
   },
   "outputs": [],
   "source": []
  },
  {
   "cell_type": "code",
   "execution_count": 28,
   "metadata": {
    "id": "ijo7xW6tD-l3"
   },
   "outputs": [],
   "source": [
    "res = minimize(expectationFunction, omega, args=((X_train ,y_train ,N ,rho ,sigma)), method = 'CG', options={\"maxiter\":1000})"
   ]
  },
  {
   "cell_type": "code",
   "execution_count": null,
   "metadata": {
    "id": "7L2iW2o875Fk"
   },
   "outputs": [],
   "source": []
  },
  {
   "cell_type": "code",
   "execution_count": 29,
   "metadata": {
    "colab": {
     "base_uri": "https://localhost:8080/"
    },
    "id": "261aVeMFoT6j",
    "outputId": "ef062f3a-53e9-4c45-dd11-ad325aa06dbb"
   },
   "outputs": [
    {
     "name": "stdout",
     "output_type": "stream",
     "text": [
      "     fun: 45.53935542229257\n",
      "     jac: array([  7.66649723,  12.33169174,  -0.81896639,  -2.46411943,\n",
      "         6.30279684,  -2.35606909,  -1.3703804 ,  -1.39798546,\n",
      "        -5.56229448,  -1.6089797 ,  -1.01297474,  -2.64467669,\n",
      "        -0.07735729,  -1.54324865,  -1.99597788,  -3.37864637,\n",
      "         6.55066204,  12.29866362,   3.12900019,  -3.04417992,\n",
      "         4.34420156, -19.89001799,   3.54340982,  -0.42065763,\n",
      "        -5.87202311,   0.98968506,   0.53977013,   2.13557434,\n",
      "        11.9869113 ,   0.87572956,   0.70853376,  -1.03700495,\n",
      "         0.27960443,   0.6978302 ,  -0.39537525,  12.80828619,\n",
      "        -5.79866791, -18.7546773 ,   5.87232733,  -3.8225522 ,\n",
      "        -5.52191162,  -2.98566723,  -1.59240103,  -0.9618969 ,\n",
      "         4.50216913,  -2.31753635,  -0.29913139,  -6.63197851,\n",
      "         7.59373856,  -0.29340076,  -1.11083698,  -0.36992979,\n",
      "         0.03009796,  -0.21775198,  -0.90169954,  -1.4581008 ,\n",
      "         0.17146206,  -1.79202986,   1.78834772,   0.14777088,\n",
      "        -4.17225599,   1.52567101,  -4.38593435,   0.63659239,\n",
      "        -4.41653299,   0.8506155 ,   3.54746532,  -2.32945538,\n",
      "         3.85582638,   3.16515779,   0.90858078,  -6.01044035,\n",
      "         1.80898523,   2.08418941,   0.57918453,   8.89575148,\n",
      "        -1.64516068,  -1.87433815,  -1.17136335,  10.54578352])\n",
      " message: 'Maximum number of iterations has been exceeded.'\n",
      "    nfev: 132020\n",
      "     nit: 1000\n",
      "    njev: 1610\n",
      "  status: 1\n",
      " success: False\n",
      "       x: array([ 0.18788171,  1.71307428, -1.53260466, -0.31422402, -1.6751354 ,\n",
      "       -0.4676113 ,  0.34430833, -0.26395207, -0.45120137,  0.2835531 ,\n",
      "       -0.45955733, -1.00371065,  0.53618508,  0.04404274, -0.34332435,\n",
      "        1.71857087,  0.65349919, -0.6609746 ,  0.32961334,  2.12718587,\n",
      "        1.38101567, -0.17189391,  0.25749035, -0.20915741, -0.23446227,\n",
      "       -0.42592257,  0.18419477,  1.27361491, -1.30730095,  0.15679433,\n",
      "       -0.45390577,  0.9254882 , -0.07837215,  0.03838618, -0.25162727,\n",
      "        0.55030457,  0.63421936, -0.5440273 , -1.02337318,  0.06018719,\n",
      "        1.01082454,  3.0053985 ,  1.21270599,  1.15598672,  2.73760091,\n",
      "        1.54728647,  1.36068128,  2.1443027 ,  2.19067094,  1.1682959 ,\n",
      "        1.55689941,  0.07155305,  2.11051513,  1.18342367,  1.21137801,\n",
      "        1.15708117,  1.2049367 ,  0.86374643,  0.66520242,  1.91498496,\n",
      "        2.73644263,  2.71471682, -1.41200008, -0.55354928,  2.11130682,\n",
      "       -1.20904666, -0.32279188, -0.79736568, -1.75767685, -0.34431229,\n",
      "       -0.64636653,  0.73535326,  0.03733747, -0.37295213, -0.54054892,\n",
      "       -1.22710634,  1.03527923,  2.75286175,  2.82021293, -0.76147126])\n"
     ]
    }
   ],
   "source": [
    "print(res)"
   ]
  },
  {
   "cell_type": "markdown",
   "metadata": {
    "id": "7DtLAouK6bFq"
   },
   "source": [
    "*Exercice 2*\n"
   ]
  },
  {
   "cell_type": "code",
   "execution_count": 30,
   "metadata": {
    "id": "zk8CnuFu8HMi"
   },
   "outputs": [],
   "source": [
    "def expectationFunction(omega ,W ,bias ,input, target, N, rho, sigma):\n",
    "\n",
    "  v = omega[-N:]\n",
    "\n",
    "  x = input.to_numpy()\n",
    "\n",
    "  mult = np.matmul(inputs, W)\n",
    "\n",
    "  linearResult = mult + bias.T\n",
    "\n",
    "  acti = activationFunction(linearResult, sigma)\n",
    "\n",
    "  f_x = np.matmul(v,acti.T)\n",
    "\n",
    "  y = target.to_numpy()\n",
    "  y = y.reshape((-1)) \n",
    "\n",
    "  P = len(input)\n",
    "\n",
    "  firstTermE = (1/(2*P))* sum((f_x - y)**2)\n",
    "\n",
    "  omega = [v, W, bias]\n",
    "\n",
    "  regularizationTerm = (rho/2)*(omega_norm)\n",
    "\n",
    "  E = firstTermE + regularizationTerm\n",
    "\n",
    "  return  E"
   ]
  },
  {
   "cell_type": "code",
   "execution_count": 31,
   "metadata": {
    "id": "aN7RvTLO6dD2"
   },
   "outputs": [],
   "source": [
    "omega2 = v\n",
    "W = omega[:-2*N].reshape((2,N))\n",
    "bias = omega[-2*N:-N]\n",
    "res = minimize(expectationFunction, omega2, args=((W, bias, X_train ,y_train ,N ,rho ,sigma)), method = 'CG', options={\"maxiter\":1000})"
   ]
  },
  {
   "cell_type": "code",
   "execution_count": 32,
   "metadata": {
    "colab": {
     "base_uri": "https://localhost:8080/"
    },
    "id": "aaYmlMe179lZ",
    "outputId": "df872170-278d-4ca7-f2fb-6b097653988a"
   },
   "outputs": [
    {
     "name": "stdout",
     "output_type": "stream",
     "text": [
      "     fun: 8628.466186128253\n",
      "     jac: array([-3.24182129,  0.1003418 , -1.08581543,  0.05615234,  1.47570801,\n",
      "       -0.74755859, -0.94177246,  0.93359375,  0.13635254, -1.34790039,\n",
      "       -0.93554688, -1.85864258, -1.04296875,  0.71533203, -0.64294434,\n",
      "       -1.19604492, -1.60339355, -1.46643066, -2.70898438, -0.20300293])\n",
      " message: 'Maximum number of iterations has been exceeded.'\n",
      "    nfev: 50424\n",
      "     nit: 1000\n",
      "    njev: 2292\n",
      "  status: 1\n",
      " success: False\n",
      "       x: array([  43.37351819,   32.28016369,  -69.14075651,   11.88356501,\n",
      "       -102.16006425,   21.70454032,  -51.40117298,  -70.99009629,\n",
      "        -24.56016737,   12.35455224,   -1.08141896,   31.8048696 ,\n",
      "        -13.67632071,   18.58787157,  -25.19715722,   64.93943654,\n",
      "         79.09337707,   72.91335133,   27.70549928,  -56.18222483])\n"
     ]
    }
   ],
   "source": [
    "print(res)"
   ]
  }
 ],
 "metadata": {
  "colab": {
   "authorship_tag": "ABX9TyPHmDlj/WAzVEy1/m8MCMl0",
   "collapsed_sections": [],
   "include_colab_link": true,
   "name": "Copie de OMML_projet_1.ipynb",
   "provenance": []
  },
  "kernelspec": {
   "display_name": "Python 3",
   "language": "python",
   "name": "python3"
  },
  "language_info": {
   "codemirror_mode": {
    "name": "ipython",
    "version": 3
   },
   "file_extension": ".py",
   "mimetype": "text/x-python",
   "name": "python",
   "nbconvert_exporter": "python",
   "pygments_lexer": "ipython3",
   "version": "3.8.8"
  }
 },
 "nbformat": 4,
 "nbformat_minor": 1
}
